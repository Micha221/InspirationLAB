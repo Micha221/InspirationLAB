{
 "cells": [
  {
   "cell_type": "code",
   "execution_count": 1,
   "metadata": {},
   "outputs": [],
   "source": [
    "import pandas as pd\n",
    "import numpy as np\n",
    "import requests\n",
    "from bs4 import BeautifulSoup"
   ]
  },
  {
   "cell_type": "code",
   "execution_count": 2,
   "metadata": {},
   "outputs": [
    {
     "data": {
      "text/plain": [
       "3576"
      ]
     },
     "execution_count": 2,
     "metadata": {},
     "output_type": "execute_result"
    }
   ],
   "source": [
    "producten_alle_paginas = []\n",
    "\n",
    "for i in range(1,150):\n",
    "    response = requests.get(f\"https://www.bol.com/be/nl/s/?searchtext=tennis\")\n",
    "    content = response.content\n",
    "    parser = BeautifulSoup(content, 'html.parser')\n",
    "    body = parser.body\n",
    "    producten = body.find_all(class_=\"product-item--row js_item_root\")\n",
    "    producten_alle_paginas.extend(producten)\n",
    "    \n",
    "len(producten_alle_paginas)"
   ]
  },
  {
   "cell_type": "code",
   "execution_count": 3,
   "metadata": {},
   "outputs": [
    {
     "name": "stdout",
     "output_type": "stream",
     "text": [
      "54.95\n",
      "Pascalbox:  drukregelaar tennis- en peddelballen\n"
     ]
    }
   ],
   "source": [
    "prijs = float(producten_alle_paginas[5].meta.get('content'))\n",
    "productnaam = producten_alle_paginas[5].find(class_=\"product-title--inline\").a.getText()\n",
    "print(prijs)\n",
    "print(productnaam)"
   ]
  },
  {
   "cell_type": "code",
   "execution_count": 4,
   "metadata": {},
   "outputs": [
    {
     "name": "stdout",
     "output_type": "stream",
     "text": [
      "[['The Inner Game of Tennis', 10.99], ['Dunlop Australian Open Tennisballen - 4 stuks', 6.99], ['Dunlop ATP Championship Tennisballen - 3 stuks', 7.99], ['Dunlop Australian Open Tennisballen - 2x4 stuks', 18.75], ['Padel Hoes met schouderband - Padeltas - voor Heren en Dames - Zwart - Beschermhoes voor Padelracket - Padel - Padel Zak', 22.95], ['Pascalbox:  drukregelaar tennis- en peddelballen', 54.95], ['Dunlop NITRO Junior 25\" Tennisracket - zwart/wit/rood', 24.99], ['Dunlop ATP Championship Tennisballen - 4 stuks', 12.95], ['Head Tennisballen', 9.0], ['Wilson Roland Garros All Court tennisbal 3-tin geel', 12.95], ['Dunlop Fort Max TP KNLTB Tennisballen - 4 stuks', 14.99], ['Dunlop NITRO Junior 21\" Tennisracket - kinderen - zwart/wit/geel', 22.5], ['Head Pro Tennisballen 4-pack', 11.0], ['Dunlop Fort Max TP KNLTB Tennisballen - 3 stuks', 10.99], ['Wilson Pro Staff Precision Team Tennisracket - Grijs - Voor Volwassenen - Maat L1', 56.99], ['TuboX4 - Crystal (+ Pomp met drukregelaar) tennis- en padelballen', 44.95], ['Quick Q1905 ST3 Tennisracket - Rood - L0', 23.95], ['Wilson Roland Garros All Court - tennisballen - 4 stuks - geel', 16.49], ['Quick Q-Tennisbal 88 -  3 stuks Geel', 9.5], ['SportX Jumbo Tennisset 2ass', 14.49], ['Summerplay Mega tennisbal 23cm opblaasbaar geel', 15.77], ['Head Tour premium - tennisballen - 4 stuks - geel', 12.0], ['Tennisballen | Softee | Set van 3x 3 | Recreatie | 9 tennisballen', 14.95], ['Zachte bal geel tennis foam bal 6 stuks', 11.72], ['The Inner Game of Tennis', 10.99], ['Dunlop Australian Open Tennisballen - 4 stuks', 6.99], ['Dunlop ATP Championship Tennisballen - 3 stuks', 7.99], ['Dunlop Australian Open Tennisballen - 2x4 stuks', 18.75], ['Padel Hoes met schouderband - Padeltas - voor Heren en Dames - Zwart - Beschermhoes voor Padelracket - Padel - Padel Zak', 22.95], ['Pascalbox:  drukregelaar tennis- en peddelballen', 54.95], ['Dunlop NITRO Junior 25\" Tennisracket - zwart/wit/rood', 24.99], ['Dunlop ATP Championship Tennisballen - 4 stuks', 12.95], ['Head Tennisballen', 9.0], ['Wilson Roland Garros All Court tennisbal 3-tin geel', 12.95], ['Dunlop Fort Max TP KNLTB Tennisballen - 4 stuks', 14.99], ['Dunlop NITRO Junior 21\" Tennisracket - kinderen - zwart/wit/geel', 22.5], ['Head Pro Tennisballen 4-pack', 11.0], ['Dunlop Fort Max TP KNLTB Tennisballen - 3 stuks', 10.99], ['Wilson Pro Staff Precision Team Tennisracket - Grijs - Voor Volwassenen - Maat L1', 56.99], ['TuboX4 - Crystal (+ Pomp met drukregelaar) tennis- en padelballen', 44.95], ['Quick Q1905 ST3 Tennisracket - Rood - L0', 23.95], ['Wilson Roland Garros All Court - tennisballen - 4 stuks - geel', 16.49], ['Quick Q-Tennisbal 88 -  3 stuks Geel', 9.5], ['SportX Jumbo Tennisset 2ass', 14.49], ['Summerplay Mega tennisbal 23cm opblaasbaar geel', 15.77], ['Head Tour premium - tennisballen - 4 stuks - geel', 12.0], ['Tennisballen | Softee | Set van 3x 3 | Recreatie | 9 tennisballen', 14.95], ['Zachte bal geel tennis foam bal 6 stuks', 11.72], ['The Inner Game of Tennis', 10.99], ['Dunlop Australian Open Tennisballen - 4 stuks', 6.99], ['Dunlop ATP Championship Tennisballen - 3 stuks', 7.99], ['Dunlop Australian Open Tennisballen - 2x4 stuks', 18.75], ['Padel Hoes met schouderband - Padeltas - voor Heren en Dames - Zwart - Beschermhoes voor Padelracket - Padel - Padel Zak', 22.95], ['Pascalbox:  drukregelaar tennis- en peddelballen', 54.95], ['Dunlop NITRO Junior 25\" Tennisracket - zwart/wit/rood', 24.99], ['Dunlop ATP Championship Tennisballen - 4 stuks', 12.95], ['Head Tennisballen', 9.0], ['Wilson Roland Garros All Court tennisbal 3-tin geel', 12.95], ['Dunlop Fort Max TP KNLTB Tennisballen - 4 stuks', 14.99], ['Dunlop NITRO Junior 21\" Tennisracket - kinderen - zwart/wit/geel', 22.5], ['Head Pro Tennisballen 4-pack', 11.0], ['Dunlop Fort Max TP KNLTB Tennisballen - 3 stuks', 10.99], ['Wilson Pro Staff Precision Team Tennisracket - Grijs - Voor Volwassenen - Maat L1', 56.99], ['TuboX4 - Crystal (+ Pomp met drukregelaar) tennis- en padelballen', 44.95], ['Quick Q1905 ST3 Tennisracket - Rood - L0', 23.95], ['Wilson Roland Garros All Court - tennisballen - 4 stuks - geel', 16.49], ['Quick Q-Tennisbal 88 -  3 stuks Geel', 9.5], ['SportX Jumbo Tennisset 2ass', 14.49], ['Summerplay Mega tennisbal 23cm opblaasbaar geel', 15.77], ['Head Tour premium - tennisballen - 4 stuks - geel', 12.0], ['Tennisballen | Softee | Set van 3x 3 | Recreatie | 9 tennisballen', 14.95], ['Zachte bal geel tennis foam bal 6 stuks', 11.72], ['The Inner Game of Tennis', 10.99], ['Dunlop Australian Open Tennisballen - 4 stuks', 6.99], ['Dunlop ATP Championship Tennisballen - 3 stuks', 7.99], ['Dunlop Australian Open Tennisballen - 2x4 stuks', 18.75], ['Padel Hoes met schouderband - Padeltas - voor Heren en Dames - Zwart - Beschermhoes voor Padelracket - Padel - Padel Zak', 22.95], ['Pascalbox:  drukregelaar tennis- en peddelballen', 54.95], ['Dunlop NITRO Junior 25\" Tennisracket - zwart/wit/rood', 24.99], ['Dunlop ATP Championship Tennisballen - 4 stuks', 12.95], ['Head Tennisballen', 9.0], ['Wilson Roland Garros All Court tennisbal 3-tin geel', 12.95], ['Dunlop Fort Max TP KNLTB Tennisballen - 4 stuks', 14.99], ['Dunlop NITRO Junior 21\" Tennisracket - kinderen - zwart/wit/geel', 22.5], ['Dunlop Fort Max TP KNLTB Tennisballen - 3 stuks', 10.99], ['Head Pro Tennisballen 4-pack', 11.0], ['Wilson Pro Staff Precision Team Tennisracket - Grijs - Voor Volwassenen - Maat L1', 56.99], ['TuboX4 - Crystal (+ Pomp met drukregelaar) tennis- en padelballen', 44.95], ['Quick Q1905 ST3 Tennisracket - Rood - L0', 23.95], ['Wilson Roland Garros All Court - tennisballen - 4 stuks - geel', 16.49], ['Quick Q-Tennisbal 88 -  3 stuks Geel', 9.5], ['SportX Jumbo Tennisset 2ass', 14.49], ['Summerplay Mega tennisbal 23cm opblaasbaar geel', 15.77], ['Head Tour premium - tennisballen - 4 stuks - geel', 12.0], ['Zachte bal geel tennis foam bal 6 stuks', 11.72], ['Tennisballen | Softee | Set van 3x 3 | Recreatie | 9 tennisballen', 14.95], ['The Inner Game of Tennis', 10.99], ['Dunlop Australian Open Tennisballen - 4 stuks', 6.99], ['Dunlop ATP Championship Tennisballen - 3 stuks', 7.99], ['Dunlop Australian Open Tennisballen - 2x4 stuks', 18.75], ['Padel Hoes met schouderband - Padeltas - voor Heren en Dames - Zwart - Beschermhoes voor Padelracket - Padel - Padel Zak', 22.95], ['Pascalbox:  drukregelaar tennis- en peddelballen', 54.95], ['Dunlop NITRO Junior 25\" Tennisracket - zwart/wit/rood', 24.99], ['Dunlop ATP Championship Tennisballen - 4 stuks', 12.95], ['Head Tennisballen', 9.0], ['Wilson Roland Garros All Court tennisbal 3-tin geel', 12.95], ['Dunlop Fort Max TP KNLTB Tennisballen - 4 stuks', 14.99], ['Dunlop NITRO Junior 21\" Tennisracket - kinderen - zwart/wit/geel', 22.5], ['Head Pro Tennisballen 4-pack', 11.0], ['Dunlop Fort Max TP KNLTB Tennisballen - 3 stuks', 10.99], ['Wilson Pro Staff Precision Team Tennisracket - Grijs - Voor Volwassenen - Maat L1', 56.99], ['TuboX4 - Crystal (+ Pomp met drukregelaar) tennis- en padelballen', 44.95], ['Quick Q1905 ST3 Tennisracket - Rood - L0', 23.95], ['Wilson Roland Garros All Court - tennisballen - 4 stuks - geel', 16.49], ['Quick Q-Tennisbal 88 -  3 stuks Geel', 9.5], ['SportX Jumbo Tennisset 2ass', 14.49], ['Summerplay Mega tennisbal 23cm opblaasbaar geel', 15.77], ['Head Tour premium - tennisballen - 4 stuks - geel', 12.0], ['Tennisballen | Softee | Set van 3x 3 | Recreatie | 9 tennisballen', 14.95], ['Zachte bal geel tennis foam bal 6 stuks', 11.72], ['The Inner Game of Tennis', 10.99], ['Dunlop Australian Open Tennisballen - 4 stuks', 6.99], ['Dunlop ATP Championship Tennisballen - 3 stuks', 7.99], ['Dunlop Australian Open Tennisballen - 2x4 stuks', 18.75], ['Padel Hoes met schouderband - Padeltas - voor Heren en Dames - Zwart - Beschermhoes voor Padelracket - Padel - Padel Zak', 22.95], ['Pascalbox:  drukregelaar tennis- en peddelballen', 54.95], ['Dunlop NITRO Junior 25\" Tennisracket - zwart/wit/rood', 24.99], ['Dunlop ATP Championship Tennisballen - 4 stuks', 12.95], ['Head Tennisballen', 9.0], ['Wilson Roland Garros All Court tennisbal 3-tin geel', 12.95], ['Dunlop Fort Max TP KNLTB Tennisballen - 4 stuks', 14.99], ['Dunlop NITRO Junior 21\" Tennisracket - kinderen - zwart/wit/geel', 22.5], ['Dunlop Fort Max TP KNLTB Tennisballen - 3 stuks', 10.99], ['Head Pro Tennisballen 4-pack', 11.0], ['Wilson Pro Staff Precision Team Tennisracket - Grijs - Voor Volwassenen - Maat L1', 56.99], ['TuboX4 - Crystal (+ Pomp met drukregelaar) tennis- en padelballen', 44.95], ['Quick Q1905 ST3 Tennisracket - Rood - L0', 23.95], ['Wilson Roland Garros All Court - tennisballen - 4 stuks - geel', 16.49], ['Quick Q-Tennisbal 88 -  3 stuks Geel', 9.5], ['SportX Jumbo Tennisset 2ass', 14.49], ['Summerplay Mega tennisbal 23cm opblaasbaar geel', 15.77], ['Head Tour premium - tennisballen - 4 stuks - geel', 12.0], ['Zachte bal geel tennis foam bal 6 stuks', 11.72], ['Tennisballen | Softee | Set van 3x 3 | Recreatie | 9 tennisballen', 14.95], ['The Inner Game of Tennis', 10.99], ['Dunlop Australian Open Tennisballen - 4 stuks', 6.99], ['Dunlop ATP Championship Tennisballen - 3 stuks', 7.99], ['Dunlop Australian Open Tennisballen - 2x4 stuks', 18.75], ['Padel Hoes met schouderband - Padeltas - voor Heren en Dames - Zwart - Beschermhoes voor Padelracket - Padel - Padel Zak', 22.95], ['Pascalbox:  drukregelaar tennis- en peddelballen', 54.95]]\n"
     ]
    }
   ],
   "source": [
    "productlijst = []\n",
    "\n",
    "for item in producten_alle_paginas:\n",
    "    if item.find(class_=\"product-prices\").getText() == '\\nNiet leverbaar\\n':\n",
    "        prijs = None\n",
    "    else:\n",
    "        prijs = float(item.meta['content'])\n",
    "    product = item.find(class_=\"product-title--inline\").a.getText()\n",
    "    productlijst.append([product, prijs])\n",
    "    \n",
    "print(productlijst[:150])"
   ]
  },
  {
   "cell_type": "code",
   "execution_count": 5,
   "metadata": {},
   "outputs": [
    {
     "name": "stdout",
     "output_type": "stream",
     "text": [
      "(3576, 2)\n"
     ]
    },
    {
     "data": {
      "text/plain": [
       "count    3576.000000\n",
       "mean       19.283333\n",
       "std        13.523795\n",
       "min         6.990000\n",
       "25%        10.997500\n",
       "50%        14.720000\n",
       "75%        22.612500\n",
       "max        56.990000\n",
       "Name: prijs, dtype: float64"
      ]
     },
     "execution_count": 5,
     "metadata": {},
     "output_type": "execute_result"
    }
   ],
   "source": [
    "df = pd.DataFrame(productlijst, columns=[\"Product\", \"prijs\"])\n",
    "print(df.shape)\n",
    "df[\"prijs\"].describe()"
   ]
  }
 ],
 "metadata": {
  "interpreter": {
   "hash": "be3492a5e888973eb70359e6380d1c6652c185929b9041468104d752a9a616f9"
  },
  "kernelspec": {
   "display_name": "Python 3.10.2 64-bit",
   "language": "python",
   "name": "python3"
  },
  "language_info": {
   "codemirror_mode": {
    "name": "ipython",
    "version": 3
   },
   "file_extension": ".py",
   "mimetype": "text/x-python",
   "name": "python",
   "nbconvert_exporter": "python",
   "pygments_lexer": "ipython3",
   "version": "3.10.2"
  },
  "orig_nbformat": 4
 },
 "nbformat": 4,
 "nbformat_minor": 2
}
