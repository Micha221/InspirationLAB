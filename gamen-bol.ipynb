{
 "cells": [
  {
   "cell_type": "code",
   "execution_count": 1,
   "metadata": {},
   "outputs": [],
   "source": [
    "import pandas as pd\n",
    "import numpy as np\n",
    "import requests\n",
    "from bs4 import BeautifulSoup"
   ]
  },
  {
   "cell_type": "code",
   "execution_count": 2,
   "metadata": {},
   "outputs": [
    {
     "data": {
      "text/plain": [
       "3576"
      ]
     },
     "execution_count": 2,
     "metadata": {},
     "output_type": "execute_result"
    }
   ],
   "source": [
    "producten_alle_paginas = []\n",
    "\n",
    "for i in range(1,150):\n",
    "    response = requests.get(f\"https://www.bol.com/be/nl/s/?searchtext=gamen\")\n",
    "    content = response.content\n",
    "    parser = BeautifulSoup(content, 'html.parser')\n",
    "    body = parser.body\n",
    "    producten = body.find_all(class_=\"product-item--row js_item_root\")\n",
    "    producten_alle_paginas.extend(producten)\n",
    "    \n",
    "len(producten_alle_paginas)"
   ]
  },
  {
   "cell_type": "code",
   "execution_count": 3,
   "metadata": {},
   "outputs": [
    {
     "name": "stdout",
     "output_type": "stream",
     "text": [
      "105.0\n",
      "Thrustmaster T80 Ferrari 488 GTB Edition - Racestuur + Pedalen - PlayStation\n"
     ]
    }
   ],
   "source": [
    "prijs = float(producten_alle_paginas[6].meta.get('content'))\n",
    "productnaam = producten_alle_paginas[6].find(class_=\"product-title--inline\").a.getText()\n",
    "print(prijs)\n",
    "print(productnaam)"
   ]
  },
  {
   "cell_type": "code",
   "execution_count": 4,
   "metadata": {},
   "outputs": [
    {
     "name": "stdout",
     "output_type": "stream",
     "text": [
      "[['Logitech G29 Driving Force Racestuur en Pedalen voor PlayStation 5, PlayStation 4 & PC', 249.0], ['Hori Racing Wheel APEX - Official Licensed - PS5/PS4/PC', 107.9], ['Hori Mario Kart Racestuur Pro Mini - Officieel Gelicenseerd - Nintendo Switch', 54.99], ['Subsonic Superdrive SV200 game stuur - Geschikt voor Switch, PS4, Xbox One & PC', 59.95], ['Logitech G920 Driving Force - Racestuur en Pedalen - Xbox Series X|S, Xbox One & PC', 249.0], ['Thrustmaster Formula Wheel Ferrari SF1000 Edition - Add-On - Geschikt voor PC, PS4, PS5, Xbox One en Series X|S', 433.87], ['Thrustmaster T80 Ferrari 488 GTB Edition - Racestuur + Pedalen - PlayStation', 105.0], ['Thrustmaster Ferrari F1 Racestuur Add-On - Geschikt voor PS4, Windows & Xbox One', 174.0], ['Subsonic Superdrive GS850-X Next Gen - Game Stuur - Racestuur - Geschikt,  PS4, Xbox One', 129.0], ['Thrustmaster T300 RS GT Racestuur - PC + PS5 + PS4 + PS3', 365.0], ['Hori Apex Draadloos Racestuur - Official Licensed - PS4 + PC', 143.41], ['Thrustmaster TM Open Racestuur - Add-On - Geschikt voor PlayStation, Xbox & PC', 142.0], ['Joy-Con stuurset - Zwart - Nintendo Switch', 21.99], ['Underestimate® Wheel Stand – Racestuur houder – racestuuraccessoires – eSports (Exclusief Racestuur)', 129.95], ['Thrustmaster T300 - Racestuur + pedalen - PC + PS4 & PS5', 308.99], ['Thrustmaster T248 Racestuur - Zwart - PS4, PS5 & PC', 288.0], ['YONO Accessoires Grip Set geschikt voor Nintendo Switch Joy Con - Stuur en Controller Houder - Zwart', 24.95], ['Thrustmaster T-LCM Zwart, Roestvrijstaal USB Pedalen PC, PlayStation 4, Xbox One', 199.0], ['Thrustmaster TH8A Gaming racestuurshifter - Geschikt voor PC + PS4 + PS3 & Xbox One', 185.0], ['Thrustmaster T150 RS Force Feedback - Racestuur - PlayStation & PC', 208.0], ['Logitech G Saitek Farming Simulator controller - Heavy Equipment bundel - Zwart', 183.69], ['Speedlink DRIFT O.Z. - Racestuur - PC', 65.0], ['Thrustmaster T300 Ferrari Integral Racestuur - Alcantara Edition - PlayStation & Windows', 399.99], ['Hori Overdrive Racestuur - Xbox Series X/S/Xbox One/PC', 109.99], ['Logitech G29 Driving Force Racestuur en Pedalen voor PlayStation 5, PlayStation 4 & PC', 249.0], ['Gaming stuurwiel - Hori Racing Wheel APEX - Official Licensed - PS5/PS4/PC', 107.9], ['Gaming stuurwiel - Hori Mario Kart Racestuur Pro Mini - Officieel Gelicenseerd - Nintendo Switch', 54.99], ['Gaming stuurwiel - Subsonic Superdrive SV200 game stuur - Geschikt voor Switch, PS4, Xbox One & PC', 59.95], ['Gaming stuurwiel - Logitech G920 Driving Force - Racestuur en Pedalen - Xbox Series X|S, Xbox One & PC', 249.0], ['Gaming racestuurmodule - Thrustmaster Formula Wheel Ferrari SF1000 Edition - Add-On - Geschikt voor PC, PS4, PS5, Xbox One en Series X|S', 433.87], ['Thrustmaster T80 Ferrari 488 GTB Edition - Racestuur + Pedalen - PlayStation', 105.0], ['Thrustmaster Ferrari F1 Racestuur Add-On - Geschikt voor PS4, Windows & Xbox One', 174.0], ['Gaming stuurwiel - Subsonic Superdrive GS850-X Next Gen - Game Stuur - Racestuur - Geschikt,  PS4, Xbox One', 129.0], ['Gaming stuurwiel - Thrustmaster T300 RS GT Racestuur - PC + PS5 + PS4 + PS3', 365.0], ['Gaming stuurwiel - Hori Apex Draadloos Racestuur - Official Licensed - PS4 + PC', 143.41], ['Gaming stuurwiel - Thrustmaster TM Open Racestuur - Add-On - Geschikt voor PlayStation, Xbox & PC', 142.0], ['Gaming stuurwiel - Joy-Con stuurset - Zwart - Nintendo Switch', 21.99], ['Gaming racestuurstandaard - Underestimate® Wheel Stand – Racestuur houder – racestuuraccessoires – eSports (Exclusief Racestuur)', 129.95], ['Thrustmaster T300 - Racestuur + pedalen - PC + PS4 & PS5', 308.99], ['Gaming stuurwiel - Thrustmaster T248 Racestuur - Zwart - PS4, PS5 & PC', 288.0], ['Gaming stuurwiel - YONO Accessoires Grip Set geschikt voor Nintendo Switch Joy Con - Stuur en Controller Houder - Zwart', 24.95], ['Thrustmaster T-LCM Zwart, Roestvrijstaal USB Pedalen PC, PlayStation 4, Xbox One', 199.0], ['Thrustmaster TH8A Gaming racestuurshifter - Geschikt voor PC + PS4 + PS3 & Xbox One', 185.0], ['Thrustmaster T150 RS Force Feedback - Racestuur - PlayStation & PC', 208.0], ['Gaming stuurwiel - Logitech G Saitek Farming Simulator controller - Heavy Equipment bundel - Zwart', 183.69], ['Speedlink DRIFT O.Z. - Racestuur - PC', 65.0], ['Gaming stuurwiel - Thrustmaster T300 Ferrari Integral Racestuur - Alcantara Edition - PlayStation & Windows', 399.99], ['Hori Overdrive Racestuur - Xbox Series X/S/Xbox One/PC', 109.99], ['Logitech G29 Driving Force Racestuur en Pedalen voor PlayStation 5, PlayStation 4 & PC', 249.0], ['Hori Racing Wheel APEX - Official Licensed - PS5/PS4/PC', 107.9], ['Hori Mario Kart Racestuur Pro Mini - Officieel Gelicenseerd - Nintendo Switch', 54.99], ['Subsonic Superdrive SV200 game stuur - Geschikt voor Switch, PS4, Xbox One & PC', 59.95], ['Logitech G920 Driving Force - Racestuur en Pedalen - Xbox Series X|S, Xbox One & PC', 249.0], ['Thrustmaster Formula Wheel Ferrari SF1000 Edition - Add-On - Geschikt voor PC, PS4, PS5, Xbox One en Series X|S', 433.87], ['Thrustmaster T80 Ferrari 488 GTB Edition - Racestuur + Pedalen - PlayStation', 105.0], ['Thrustmaster Ferrari F1 Racestuur Add-On - Geschikt voor PS4, Windows & Xbox One', 174.0], ['Subsonic Superdrive GS850-X Next Gen - Game Stuur - Racestuur - Geschikt,  PS4, Xbox One', 129.0], ['Hori Apex Draadloos Racestuur - Official Licensed - PS4 + PC', 143.41], ['Thrustmaster T300 RS GT Racestuur - PC + PS5 + PS4 + PS3', 365.0], ['Thrustmaster TM Open Racestuur - Add-On - Geschikt voor PlayStation, Xbox & PC', 142.0], ['Joy-Con stuurset - Zwart - Nintendo Switch', 21.99], ['Thrustmaster T300 - Racestuur + pedalen - PC + PS4 & PS5', 308.99], ['Underestimate® Wheel Stand – Racestuur houder – racestuuraccessoires – eSports (Exclusief Racestuur)', 129.95], ['Thrustmaster T248 Racestuur - Zwart - PS4, PS5 & PC', 288.0], ['YONO Accessoires Grip Set geschikt voor Nintendo Switch Joy Con - Stuur en Controller Houder - Zwart', 24.95], ['Thrustmaster T-LCM Zwart, Roestvrijstaal USB Pedalen PC, PlayStation 4, Xbox One', 199.0], ['Thrustmaster T150 RS Force Feedback - Racestuur - PlayStation & PC', 208.0], ['Thrustmaster TH8A Gaming racestuurshifter - Geschikt voor PC + PS4 + PS3 & Xbox One', 185.0], ['Logitech G Saitek Farming Simulator controller - Heavy Equipment bundel - Zwart', 183.69], ['Speedlink DRIFT O.Z. - Racestuur - PC', 65.0], ['Thrustmaster T300 Ferrari Integral Racestuur - Alcantara Edition - PlayStation & Windows', 399.99], ['Hori Overdrive Racestuur - Xbox Series X/S/Xbox One/PC', 109.99], ['Logitech G29 Driving Force Racestuur en Pedalen voor PlayStation 5, PlayStation 4 & PC', 249.0], ['Hori Racing Wheel APEX - Official Licensed - PS5/PS4/PC', 107.9], ['Hori Mario Kart Racestuur Pro Mini - Officieel Gelicenseerd - Nintendo Switch', 54.99], ['Subsonic Superdrive SV200 game stuur - Geschikt voor Switch, PS4, Xbox One & PC', 59.95], ['Logitech G920 Driving Force - Racestuur en Pedalen - Xbox Series X|S, Xbox One & PC', 249.0], ['Thrustmaster Formula Wheel Ferrari SF1000 Edition - Add-On - Geschikt voor PC, PS4, PS5, Xbox One en Series X|S', 433.87], ['Thrustmaster T80 Ferrari 488 GTB Edition - Racestuur + Pedalen - PlayStation', 105.0], ['Thrustmaster Ferrari F1 Racestuur Add-On - Geschikt voor PS4, Windows & Xbox One', 174.0], ['Subsonic Superdrive GS850-X Next Gen - Game Stuur - Racestuur - Geschikt,  PS4, Xbox One', 129.0], ['Thrustmaster T300 RS GT Racestuur - PC + PS5 + PS4 + PS3', 365.0], ['Hori Apex Draadloos Racestuur - Official Licensed - PS4 + PC', 143.41], ['Thrustmaster TM Open Racestuur - Add-On - Geschikt voor PlayStation, Xbox & PC', 142.0], ['Joy-Con stuurset - Zwart - Nintendo Switch', 21.99], ['Underestimate® Wheel Stand – Racestuur houder – racestuuraccessoires – eSports (Exclusief Racestuur)', 129.95], ['Thrustmaster T300 - Racestuur + pedalen - PC + PS4 & PS5', 308.99], ['Thrustmaster T248 Racestuur - Zwart - PS4, PS5 & PC', 288.0], ['YONO Accessoires Grip Set geschikt voor Nintendo Switch Joy Con - Stuur en Controller Houder - Zwart', 24.95], ['Thrustmaster T-LCM Zwart, Roestvrijstaal USB Pedalen PC, PlayStation 4, Xbox One', 199.0], ['Thrustmaster TH8A Gaming racestuurshifter - Geschikt voor PC + PS4 + PS3 & Xbox One', 185.0], ['Thrustmaster T150 RS Force Feedback - Racestuur - PlayStation & PC', 208.0], ['Logitech G Saitek Farming Simulator controller - Heavy Equipment bundel - Zwart', 183.69], ['Speedlink DRIFT O.Z. - Racestuur - PC', 65.0], ['Thrustmaster T300 Ferrari Integral Racestuur - Alcantara Edition - PlayStation & Windows', 399.99], ['Hori Overdrive Racestuur - Xbox Series X/S/Xbox One/PC', 109.99], ['Logitech G29 Driving Force Racestuur en Pedalen voor PlayStation 5, PlayStation 4 & PC', 249.0], ['Hori Racing Wheel APEX - Official Licensed - PS5/PS4/PC', 107.9], ['Hori Mario Kart Racestuur Pro Mini - Officieel Gelicenseerd - Nintendo Switch', 54.99], ['Subsonic Superdrive SV200 game stuur - Geschikt voor Switch, PS4, Xbox One & PC', 59.95], ['Logitech G920 Driving Force - Racestuur en Pedalen - Xbox Series X|S, Xbox One & PC', 249.0], ['Thrustmaster Formula Wheel Ferrari SF1000 Edition - Add-On - Geschikt voor PC, PS4, PS5, Xbox One en Series X|S', 433.87], ['Thrustmaster T80 Ferrari 488 GTB Edition - Racestuur + Pedalen - PlayStation', 105.0], ['Thrustmaster Ferrari F1 Racestuur Add-On - Geschikt voor PS4, Windows & Xbox One', 174.0], ['Subsonic Superdrive GS850-X Next Gen - Game Stuur - Racestuur - Geschikt,  PS4, Xbox One', 129.0], ['Thrustmaster T300 RS GT Racestuur - PC + PS5 + PS4 + PS3', 365.0], ['Hori Apex Draadloos Racestuur - Official Licensed - PS4 + PC', 143.41], ['Thrustmaster TM Open Racestuur - Add-On - Geschikt voor PlayStation, Xbox & PC', 142.0], ['Joy-Con stuurset - Zwart - Nintendo Switch', 21.99], ['Underestimate® Wheel Stand – Racestuur houder – racestuuraccessoires – eSports (Exclusief Racestuur)', 129.95], ['Thrustmaster T300 - Racestuur + pedalen - PC + PS4 & PS5', 308.99], ['Thrustmaster T248 Racestuur - Zwart - PS4, PS5 & PC', 288.0], ['YONO Accessoires Grip Set geschikt voor Nintendo Switch Joy Con - Stuur en Controller Houder - Zwart', 24.95], ['Thrustmaster T-LCM Zwart, Roestvrijstaal USB Pedalen PC, PlayStation 4, Xbox One', 199.0], ['Thrustmaster TH8A Gaming racestuurshifter - Geschikt voor PC + PS4 + PS3 & Xbox One', 185.0], ['Thrustmaster T150 RS Force Feedback - Racestuur - PlayStation & PC', 208.0], ['Logitech G Saitek Farming Simulator controller - Heavy Equipment bundel - Zwart', 183.69], ['Speedlink DRIFT O.Z. - Racestuur - PC', 65.0], ['Thrustmaster T300 Ferrari Integral Racestuur - Alcantara Edition - PlayStation & Windows', 399.99], ['Hori Overdrive Racestuur - Xbox Series X/S/Xbox One/PC', 109.99], ['Logitech G29 Driving Force Racestuur en Pedalen voor PlayStation 5, PlayStation 4 & PC', 249.0], ['Gaming stuurwiel - Hori Racing Wheel APEX - Official Licensed - PS5/PS4/PC', 107.9], ['Gaming stuurwiel - Hori Mario Kart Racestuur Pro Mini - Officieel Gelicenseerd - Nintendo Switch', 54.99], ['Gaming stuurwiel - Subsonic Superdrive SV200 game stuur - Geschikt voor Switch, PS4, Xbox One & PC', 59.95], ['Gaming stuurwiel - Logitech G920 Driving Force - Racestuur en Pedalen - Xbox Series X|S, Xbox One & PC', 249.0], ['Gaming racestuurmodule - Thrustmaster Formula Wheel Ferrari SF1000 Edition - Add-On - Geschikt voor PC, PS4, PS5, Xbox One en Series X|S', 433.87], ['Thrustmaster T80 Ferrari 488 GTB Edition - Racestuur + Pedalen - PlayStation', 105.0], ['Thrustmaster Ferrari F1 Racestuur Add-On - Geschikt voor PS4, Windows & Xbox One', 174.0], ['Gaming stuurwiel - Subsonic Superdrive GS850-X Next Gen - Game Stuur - Racestuur - Geschikt,  PS4, Xbox One', 129.0], ['Gaming stuurwiel - Hori Apex Draadloos Racestuur - Official Licensed - PS4 + PC', 143.41], ['Gaming stuurwiel - Thrustmaster T300 RS GT Racestuur - PC + PS5 + PS4 + PS3', 365.0], ['Gaming stuurwiel - Thrustmaster TM Open Racestuur - Add-On - Geschikt voor PlayStation, Xbox & PC', 142.0], ['Gaming stuurwiel - Joy-Con stuurset - Zwart - Nintendo Switch', 21.99], ['Thrustmaster T300 - Racestuur + pedalen - PC + PS4 & PS5', 308.99], ['Gaming racestuurstandaard - Underestimate® Wheel Stand – Racestuur houder – racestuuraccessoires – eSports (Exclusief Racestuur)', 129.95], ['Gaming stuurwiel - Thrustmaster T248 Racestuur - Zwart - PS4, PS5 & PC', 288.0], ['Gaming stuurwiel - YONO Accessoires Grip Set geschikt voor Nintendo Switch Joy Con - Stuur en Controller Houder - Zwart', 24.95], ['Thrustmaster T-LCM Zwart, Roestvrijstaal USB Pedalen PC, PlayStation 4, Xbox One', 199.0], ['Thrustmaster T150 RS Force Feedback - Racestuur - PlayStation & PC', 208.0], ['Thrustmaster TH8A Gaming racestuurshifter - Geschikt voor PC + PS4 + PS3 & Xbox One', 185.0], ['Gaming stuurwiel - Logitech G Saitek Farming Simulator controller - Heavy Equipment bundel - Zwart', 183.69], ['Speedlink DRIFT O.Z. - Racestuur - PC', 65.0], ['Gaming stuurwiel - Thrustmaster T300 Ferrari Integral Racestuur - Alcantara Edition - PlayStation & Windows', 399.99], ['Hori Overdrive Racestuur - Xbox Series X/S/Xbox One/PC', 109.99], ['Logitech G29 Driving Force Racestuur en Pedalen voor PlayStation 5, PlayStation 4 & PC', 249.0], ['Gaming stuurwiel - Hori Racing Wheel APEX - Official Licensed - PS5/PS4/PC', 107.9], ['Gaming stuurwiel - Hori Mario Kart Racestuur Pro Mini - Officieel Gelicenseerd - Nintendo Switch', 54.99], ['Gaming stuurwiel - Subsonic Superdrive SV200 game stuur - Geschikt voor Switch, PS4, Xbox One & PC', 59.95], ['Gaming stuurwiel - Logitech G920 Driving Force - Racestuur en Pedalen - Xbox Series X|S, Xbox One & PC', 249.0], ['Gaming racestuurmodule - Thrustmaster Formula Wheel Ferrari SF1000 Edition - Add-On - Geschikt voor PC, PS4, PS5, Xbox One en Series X|S', 433.87]]\n"
     ]
    }
   ],
   "source": [
    "productlijst = []\n",
    "\n",
    "for item in producten_alle_paginas:\n",
    "    if item.find(class_=\"product-prices\").getText() == '\\nNiet leverbaar\\n':\n",
    "        prijs = None\n",
    "    else:\n",
    "        prijs = float(item.meta['content'])\n",
    "    product = item.find(class_=\"product-title--inline\").a.getText()\n",
    "    productlijst.append([product, prijs])\n",
    "    \n",
    "print(productlijst[:150])"
   ]
  },
  {
   "cell_type": "code",
   "execution_count": 5,
   "metadata": {},
   "outputs": [
    {
     "name": "stdout",
     "output_type": "stream",
     "text": [
      "(3576, 2)\n"
     ]
    },
    {
     "data": {
      "text/plain": [
       "count    3576.000000\n",
       "mean      180.736250\n",
       "std       112.188807\n",
       "min        21.990000\n",
       "25%       107.175000\n",
       "50%       158.705000\n",
       "75%       249.000000\n",
       "max       433.870000\n",
       "Name: prijs, dtype: float64"
      ]
     },
     "execution_count": 5,
     "metadata": {},
     "output_type": "execute_result"
    }
   ],
   "source": [
    "df = pd.DataFrame(productlijst, columns=[\"Product\", \"prijs\"])\n",
    "print(df.shape)\n",
    "df[\"prijs\"].describe()"
   ]
  }
 ],
 "metadata": {
  "interpreter": {
   "hash": "be3492a5e888973eb70359e6380d1c6652c185929b9041468104d752a9a616f9"
  },
  "kernelspec": {
   "display_name": "Python 3.10.2 64-bit",
   "language": "python",
   "name": "python3"
  },
  "language_info": {
   "codemirror_mode": {
    "name": "ipython",
    "version": 3
   },
   "file_extension": ".py",
   "mimetype": "text/x-python",
   "name": "python",
   "nbconvert_exporter": "python",
   "pygments_lexer": "ipython3",
   "version": "3.10.2"
  },
  "orig_nbformat": 4
 },
 "nbformat": 4,
 "nbformat_minor": 2
}
