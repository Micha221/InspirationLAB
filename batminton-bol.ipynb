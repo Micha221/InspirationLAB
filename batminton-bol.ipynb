{
 "cells": [
  {
   "cell_type": "code",
   "execution_count": 1,
   "metadata": {},
   "outputs": [],
   "source": [
    "import pandas as pd\n",
    "import numpy as np\n",
    "import requests\n",
    "from bs4 import BeautifulSoup"
   ]
  },
  {
   "cell_type": "code",
   "execution_count": 5,
   "metadata": {},
   "outputs": [
    {
     "data": {
      "text/plain": [
       "3576"
      ]
     },
     "execution_count": 5,
     "metadata": {},
     "output_type": "execute_result"
    }
   ],
   "source": [
    "producten_alle_paginas = []\n",
    "\n",
    "for i in range(1,150):\n",
    "    response = requests.get(f\"https://www.bol.com/be/nl/s/?searchtext=badminton\")\n",
    "    content = response.content\n",
    "    parser = BeautifulSoup(content, 'html.parser')\n",
    "    body = parser.body\n",
    "    producten = body.find_all(class_=\"product-item--row js_item_root\")\n",
    "    producten_alle_paginas.extend(producten)\n",
    "    \n",
    "len(producten_alle_paginas)"
   ]
  },
  {
   "cell_type": "code",
   "execution_count": 6,
   "metadata": {},
   "outputs": [
    {
     "name": "stdout",
     "output_type": "stream",
     "text": [
      "15.95\n",
      "Badmintonset  Inclusief shuttles | Badminton | Sport\n"
     ]
    }
   ],
   "source": [
    "prijs = float(producten_alle_paginas[0].meta.get('content'))\n",
    "productnaam = producten_alle_paginas[0].find(class_=\"product-title--inline\").a.getText()\n",
    "print(prijs)\n",
    "print(productnaam)"
   ]
  },
  {
   "cell_type": "code",
   "execution_count": 7,
   "metadata": {},
   "outputs": [
    {
     "name": "stdout",
     "output_type": "stream",
     "text": [
      "[['Badmintonset  Inclusief shuttles | Badminton | Sport', 15.95], ['SportX Mini Badminton', 11.3], ['badmintonset Inclusief 3 shuttles  Badminton  Sport', 15.95], ['Yonex badminton set', 36.87], ['FAST BADMINTON SET', 24.95], ['OutDoor Didak Badminton Toy Set', 52.95], ['Slazenger badmintonset  Inclusief shuttles | Badminton | Sport', 15.95], [\"Yonex Carbonex 6000N met beschermende draagtas 'ik hou van badminton'\", 39.95], ['Slazenger 2 persoons Badminton Set - 2 rackets - 2 shuttles - rood - zwart of blauw', 15.95], ['OLIVER Badminton Set Speedpower 2 rackets + 3 shuttles + opbergtas', 24.5], ['Fast Badmintonset Groen met opbergtas - Fast Badmintonset - badmintonset Groen - Badmintonset - badminton rackets - tennis set - tennis rackets - badminton rackets voor volwassen - kinder tennis set - tennis kit', 25.95], ['Get & Go Badminton Set - XXL - Blauw/Oranje', 14.5], ['Badminton set voor kinderen', 12.1], ['Badminton Set Bandito 4 speler + net', 30.9], ['Stiga - Garden GS Badminton set (78-1071-12) /Outdoor Toys /Multi', 27.5], ['Badminton set Kids 2 Rackets Mini + 5 Shuttles', 34.5], ['Badminton set met shuttle en draagtas - Stevige badmintonrackets - Badmintonset pro', 16.09], ['Slazenger 2 persoons Badminton Set - 2 rackets - 2 shuttles Rood', 19.85], ['Yonex - DUORA 10 Badminton Racket Blue/Orange', 219.95], ['Badmintonset - Voor 4 personen - Badminton racket - Shuttles - Badminton net - Badmintonracket - Vakantie spelletjes - Weekendje weg - Kinderspelletjes', 34.99], ['Badminton Set Met Net 4 Spelers', 35.99], ['Badminton set MET 4 RACKETS EN BADMINTON NET - badmintonset - speelgoed - buitenspeelgoed - strandspeelgoed - kinderspeelgoed', 39.95], ['Badminton set', 14.99], ['Hudora Badminton Set', 34.99], ['Badmintonset  Inclusief shuttles | Badminton | Sport', 15.95], ['SportX Mini Badminton', 11.3], ['badmintonset Inclusief 3 shuttles  Badminton  Sport', 15.95], ['Yonex badminton set', 36.87], ['FAST BADMINTON SET', 24.95], ['OutDoor Didak Badminton Toy Set', 52.95], ['Slazenger badmintonset  Inclusief shuttles | Badminton | Sport', 15.95], [\"Yonex Carbonex 6000N met beschermende draagtas 'ik hou van badminton'\", 39.95], ['Slazenger 2 persoons Badminton Set - 2 rackets - 2 shuttles - rood - zwart of blauw', 15.95], ['OLIVER Badminton Set Speedpower 2 rackets + 3 shuttles + opbergtas', 24.5], ['Fast Badmintonset Groen met opbergtas - Fast Badmintonset - badmintonset Groen - Badmintonset - badminton rackets - tennis set - tennis rackets - badminton rackets voor volwassen - kinder tennis set - tennis kit', 25.95], ['Get & Go Badminton Set - XXL - Blauw/Oranje', 14.5], ['Badminton set voor kinderen', 12.1], ['Badminton Set Bandito 4 speler + net', 30.9], ['Stiga - Garden GS Badminton set (78-1071-12) /Outdoor Toys /Multi', 27.5], ['Badminton set Kids 2 Rackets Mini + 5 Shuttles', 34.5], ['Badminton set met shuttle en draagtas - Stevige badmintonrackets - Badmintonset pro', 16.09], ['Slazenger 2 persoons Badminton Set - 2 rackets - 2 shuttles Rood', 19.85], ['Yonex - DUORA 10 Badminton Racket Blue/Orange', 219.95], ['Badmintonset - Voor 4 personen - Badminton racket - Shuttles - Badminton net - Badmintonracket - Vakantie spelletjes - Weekendje weg - Kinderspelletjes', 34.99], ['Badminton Set Met Net 4 Spelers', 35.99], ['Badminton set MET 4 RACKETS EN BADMINTON NET - badmintonset - speelgoed - buitenspeelgoed - strandspeelgoed - kinderspeelgoed', 39.95], ['Badminton set', 14.99], ['Hudora Badminton Set', 34.99], ['Badmintonset  Inclusief shuttles | Badminton | Sport', 15.95], ['SportX Mini Badminton', 11.3], ['badmintonset Inclusief 3 shuttles  Badminton  Sport', 15.95], ['Yonex badminton set', 36.87], ['FAST BADMINTON SET', 24.95], ['OutDoor Didak Badminton Toy Set', 52.95], ['Slazenger badmintonset  Inclusief shuttles | Badminton | Sport', 15.95], [\"Yonex Carbonex 6000N met beschermende draagtas 'ik hou van badminton'\", 39.95], ['Slazenger 2 persoons Badminton Set - 2 rackets - 2 shuttles - rood - zwart of blauw', 15.95], ['OLIVER Badminton Set Speedpower 2 rackets + 3 shuttles + opbergtas', 24.5], ['Fast Badmintonset Groen met opbergtas - Fast Badmintonset - badmintonset Groen - Badmintonset - badminton rackets - tennis set - tennis rackets - badminton rackets voor volwassen - kinder tennis set - tennis kit', 25.95], ['Get & Go Badminton Set - XXL - Blauw/Oranje', 14.5], ['Badminton set voor kinderen', 12.1], ['Badminton Set Bandito 4 speler + net', 30.9], ['Stiga - Garden GS Badminton set (78-1071-12) /Outdoor Toys /Multi', 27.5], ['Badminton set Kids 2 Rackets Mini + 5 Shuttles', 34.5], ['Badminton set met shuttle en draagtas - Stevige badmintonrackets - Badmintonset pro', 16.09], ['Slazenger 2 persoons Badminton Set - 2 rackets - 2 shuttles Rood', 19.85], ['Yonex - DUORA 10 Badminton Racket Blue/Orange', 219.95], ['Badmintonset - Voor 4 personen - Badminton racket - Shuttles - Badminton net - Badmintonracket - Vakantie spelletjes - Weekendje weg - Kinderspelletjes', 34.99], ['Badminton Set Met Net 4 Spelers', 35.99], ['Badminton set MET 4 RACKETS EN BADMINTON NET - badmintonset - speelgoed - buitenspeelgoed - strandspeelgoed - kinderspeelgoed', 39.95], ['Badminton set', 14.99], ['Hudora Badminton Set', 34.99], ['Badmintonset  Inclusief shuttles | Badminton | Sport', 15.95], ['SportX Mini Badminton', 11.3], ['badmintonset Inclusief 3 shuttles  Badminton  Sport', 15.95], ['Yonex badminton set', 36.87], ['FAST BADMINTON SET', 24.95], ['OutDoor Didak Badminton Toy Set', 52.95], ['Slazenger badmintonset  Inclusief shuttles | Badminton | Sport', 15.95], [\"Yonex Carbonex 6000N met beschermende draagtas 'ik hou van badminton'\", 39.95], ['Slazenger 2 persoons Badminton Set - 2 rackets - 2 shuttles - rood - zwart of blauw', 15.95], ['OLIVER Badminton Set Speedpower 2 rackets + 3 shuttles + opbergtas', 24.5], ['Fast Badmintonset Groen met opbergtas - Fast Badmintonset - badmintonset Groen - Badmintonset - badminton rackets - tennis set - tennis rackets - badminton rackets voor volwassen - kinder tennis set - tennis kit', 25.95], ['Get & Go Badminton Set - XXL - Blauw/Oranje', 14.5], ['Badminton set voor kinderen', 12.1], ['Badminton Set Bandito 4 speler + net', 30.9], ['Stiga - Garden GS Badminton set (78-1071-12) /Outdoor Toys /Multi', 27.5], ['Badminton set Kids 2 Rackets Mini + 5 Shuttles', 34.5], ['Badminton set met shuttle en draagtas - Stevige badmintonrackets - Badmintonset pro', 16.09], ['Slazenger 2 persoons Badminton Set - 2 rackets - 2 shuttles Rood', 19.85], ['Yonex - DUORA 10 Badminton Racket Blue/Orange', 219.95], ['Badmintonset - Voor 4 personen - Badminton racket - Shuttles - Badminton net - Badmintonracket - Vakantie spelletjes - Weekendje weg - Kinderspelletjes', 34.99], ['Badminton Set Met Net 4 Spelers', 35.99], ['Badminton set MET 4 RACKETS EN BADMINTON NET - badmintonset - speelgoed - buitenspeelgoed - strandspeelgoed - kinderspeelgoed', 39.95], ['Badminton set', 14.99], ['Hudora Badminton Set', 34.99], ['Badmintonset  Inclusief shuttles | Badminton | Sport', 15.95], ['SportX Mini Badminton', 11.3], ['badmintonset Inclusief 3 shuttles  Badminton  Sport', 15.95], ['Yonex badminton set', 36.87], ['FAST BADMINTON SET', 24.95], ['OutDoor Didak Badminton Toy Set', 52.95], ['Slazenger badmintonset  Inclusief shuttles | Badminton | Sport', 15.95], [\"Yonex Carbonex 6000N met beschermende draagtas 'ik hou van badminton'\", 39.95], ['Slazenger 2 persoons Badminton Set - 2 rackets - 2 shuttles - rood - zwart of blauw', 15.95], ['OLIVER Badminton Set Speedpower 2 rackets + 3 shuttles + opbergtas', 24.5], ['Fast Badmintonset Groen met opbergtas - Fast Badmintonset - badmintonset Groen - Badmintonset - badminton rackets - tennis set - tennis rackets - badminton rackets voor volwassen - kinder tennis set - tennis kit', 25.95], ['Get & Go Badminton Set - XXL - Blauw/Oranje', 14.5], ['Badminton set voor kinderen', 12.1], ['Badminton Set Bandito 4 speler + net', 30.9], ['Stiga - Garden GS Badminton set (78-1071-12) /Outdoor Toys /Multi', 27.5], ['Badminton set Kids 2 Rackets Mini + 5 Shuttles', 34.5], ['Badminton set met shuttle en draagtas - Stevige badmintonrackets - Badmintonset pro', 16.09], ['Slazenger 2 persoons Badminton Set - 2 rackets - 2 shuttles Rood', 19.85], ['Yonex - DUORA 10 Badminton Racket Blue/Orange', 219.95], ['Badmintonset - Voor 4 personen - Badminton racket - Shuttles - Badminton net - Badmintonracket - Vakantie spelletjes - Weekendje weg - Kinderspelletjes', 34.99], ['Badminton Set Met Net 4 Spelers', 35.99], ['Badminton set MET 4 RACKETS EN BADMINTON NET - badmintonset - speelgoed - buitenspeelgoed - strandspeelgoed - kinderspeelgoed', 39.95], ['Badminton set', 14.99], ['Hudora Badminton Set', 34.99], ['Badmintonset  Inclusief shuttles | Badminton | Sport', 15.95], ['SportX Mini Badminton', 11.3], ['badmintonset Inclusief 3 shuttles  Badminton  Sport', 15.95], ['Yonex badminton set', 36.87], ['FAST BADMINTON SET', 24.95], ['OutDoor Didak Badminton Toy Set', 52.95], ['Slazenger badmintonset  Inclusief shuttles | Badminton | Sport', 15.95], [\"Yonex Carbonex 6000N met beschermende draagtas 'ik hou van badminton'\", 39.95], ['Slazenger 2 persoons Badminton Set - 2 rackets - 2 shuttles - rood - zwart of blauw', 15.95], ['OLIVER Badminton Set Speedpower 2 rackets + 3 shuttles + opbergtas', 24.5], ['Fast Badmintonset Groen met opbergtas - Fast Badmintonset - badmintonset Groen - Badmintonset - badminton rackets - tennis set - tennis rackets - badminton rackets voor volwassen - kinder tennis set - tennis kit', 25.95], ['Get & Go Badminton Set - XXL - Blauw/Oranje', 14.5], ['Badminton set voor kinderen', 12.1], ['Badminton Set Bandito 4 speler + net', 30.9], ['Stiga - Garden GS Badminton set (78-1071-12) /Outdoor Toys /Multi', 27.5], ['Badminton set Kids 2 Rackets Mini + 5 Shuttles', 34.5], ['Badminton set met shuttle en draagtas - Stevige badmintonrackets - Badmintonset pro', 16.09], ['Slazenger 2 persoons Badminton Set - 2 rackets - 2 shuttles Rood', 19.85], ['Yonex - DUORA 10 Badminton Racket Blue/Orange', 219.95], ['Badmintonset - Voor 4 personen - Badminton racket - Shuttles - Badminton net - Badmintonracket - Vakantie spelletjes - Weekendje weg - Kinderspelletjes', 34.99], ['Badminton Set Met Net 4 Spelers', 35.99], ['Badminton set MET 4 RACKETS EN BADMINTON NET - badmintonset - speelgoed - buitenspeelgoed - strandspeelgoed - kinderspeelgoed', 39.95], ['Badminton set', 14.99], ['Hudora Badminton Set', 34.99], ['Badmintonset  Inclusief shuttles | Badminton | Sport', 15.95], ['SportX Mini Badminton', 11.3], ['badmintonset Inclusief 3 shuttles  Badminton  Sport', 15.95], ['Yonex badminton set', 36.87], ['FAST BADMINTON SET', 24.95], ['OutDoor Didak Badminton Toy Set', 52.95]]\n"
     ]
    }
   ],
   "source": [
    "productlijst = []\n",
    "\n",
    "for item in producten_alle_paginas:\n",
    "    if item.find(class_=\"product-prices\").getText() == '\\nNiet leverbaar\\n':\n",
    "        prijs = None\n",
    "    else:\n",
    "        prijs = float(item.meta['content'])\n",
    "    product = item.find(class_=\"product-title--inline\").a.getText()\n",
    "    productlijst.append([product, prijs])\n",
    "    \n",
    "print(productlijst[:150])"
   ]
  },
  {
   "cell_type": "code",
   "execution_count": 8,
   "metadata": {},
   "outputs": [
    {
     "name": "stdout",
     "output_type": "stream",
     "text": [
      "(3576, 2)\n"
     ]
    },
    {
     "data": {
      "text/plain": [
       "count    3576.000000\n",
       "mean       34.023750\n",
       "std        40.250322\n",
       "min        11.300000\n",
       "25%        15.950000\n",
       "50%        25.450000\n",
       "75%        35.240000\n",
       "max       219.950000\n",
       "Name: prijs, dtype: float64"
      ]
     },
     "execution_count": 8,
     "metadata": {},
     "output_type": "execute_result"
    }
   ],
   "source": [
    "df = pd.DataFrame(productlijst, columns=[\"Product\", \"prijs\"])\n",
    "print(df.shape)\n",
    "df[\"prijs\"].describe()"
   ]
  }
 ],
 "metadata": {
  "interpreter": {
   "hash": "be3492a5e888973eb70359e6380d1c6652c185929b9041468104d752a9a616f9"
  },
  "kernelspec": {
   "display_name": "Python 3.10.2 64-bit",
   "language": "python",
   "name": "python3"
  },
  "language_info": {
   "codemirror_mode": {
    "name": "ipython",
    "version": 3
   },
   "file_extension": ".py",
   "mimetype": "text/x-python",
   "name": "python",
   "nbconvert_exporter": "python",
   "pygments_lexer": "ipython3",
   "version": "3.10.2"
  },
  "orig_nbformat": 4
 },
 "nbformat": 4,
 "nbformat_minor": 2
}
