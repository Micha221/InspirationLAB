{
 "cells": [
  {
   "cell_type": "code",
   "execution_count": 1,
   "metadata": {},
   "outputs": [],
   "source": [
    "import pandas as pd\n",
    "import numpy as np\n",
    "import requests\n",
    "from bs4 import BeautifulSoup"
   ]
  },
  {
   "cell_type": "code",
   "execution_count": 2,
   "metadata": {},
   "outputs": [
    {
     "data": {
      "text/plain": [
       "3576"
      ]
     },
     "execution_count": 2,
     "metadata": {},
     "output_type": "execute_result"
    }
   ],
   "source": [
    "producten_alle_paginas = []\n",
    "\n",
    "for i in range(1,150):\n",
    "    response = requests.get(f\"https://www.bol.com/be/nl/s/?searchtext=koken\")\n",
    "    content = response.content\n",
    "    parser = BeautifulSoup(content, 'html.parser')\n",
    "    body = parser.body\n",
    "    producten = body.find_all(class_=\"product-item--row js_item_root\")\n",
    "    producten_alle_paginas.extend(producten)\n",
    "    \n",
    "len(producten_alle_paginas)"
   ]
  },
  {
   "cell_type": "code",
   "execution_count": 3,
   "metadata": {},
   "outputs": [
    {
     "name": "stdout",
     "output_type": "stream",
     "text": [
      "20.0\n",
      "KitchenLove - Ovenwanten - Ovenhandschoenen - BBQ - Koken - Siliconen - Hittebestendig tot 230 °C - Zwart - 2 Stuks\n"
     ]
    }
   ],
   "source": [
    "prijs = float(producten_alle_paginas[6].meta.get('content'))\n",
    "productnaam = producten_alle_paginas[6].find(class_=\"product-title--inline\").a.getText()\n",
    "print(prijs)\n",
    "print(productnaam)"
   ]
  },
  {
   "cell_type": "code",
   "execution_count": 4,
   "metadata": {},
   "outputs": [
    {
     "name": "stdout",
     "output_type": "stream",
     "text": [
      "[['Gordon Ramsay Kookt', 49.95], ['TEFAL UNLIMITED GRILLPAN 26CM', 50.95], ['BORETTI BAC150', 282.8], ['Fodmap - arm koken', 27.99], ['Het grote kook- en bakboek van de Zoete Zusjes', 22.5], ['Chloé Kookt', 24.5], ['KitchenLove - Ovenwanten - Ovenhandschoenen - BBQ - Koken - Siliconen - Hittebestendig tot 230 °C - Zwart - 2 Stuks', 20.0], ['The Original Grill Master Gloves - barbecue handschoen - hittebestendig - tot 500 graden celsius - uitgeroepen tot - #1 BBQ handschoen 2021 - grill handschoen -kamado - ovenwant - barbecuen - BBQ - koken', 29.95], ['Gadgy Eierkoker Elektrisch - 7 Eieren – Koken, Pocheren, Roerei, Omelet – Vaatwasbestendig - Eierkoker', 23.9], ['Het grote Kookmutsjes kook- en bakboek', 22.5], ['Koksmuts volwassenen - koken - muts - chefkok kostuum - wit', 7.95], ['New Classic Toys Houten Speelkeuken Wit - Met Kookplaat die Licht geeft en Kook Geluid maakt - Krijtbord aan de zijkant', 99.99], ['Magnetische Kookwekker Inclusief Standaard +  Batterij | Digitale Kook Wekker | Kookwekker | Wit', 12.95], ['Thermomix 365', 55.0], ['Digitale Thermometer voor Keuken, Koken, Voedsel Melk, Vlees, Oven, BBQ, Water, Thee Voor Binnen en Buiten, Waterdicht, RVS, Ultrasnel', 15.99], ['Helen kookt elke dag', 23.99], ['Denim Schort - Dames - Heren - Spijkerstof - Keuken Schort - Koken - Koks Schort - Hobby - BBQ - Hip - CADEAU TIP - MOEDERDAG', 24.98], ['Vleesthermometer - Dabé - BBQ Thermometer - Kernthermometer - Suikerthermometer - Voedselthermometer - Thermometer Koken - Keuken Thermometer – Draadloos - Digitaal - Meater - Kookthermometer', 15.95], ['MostEssential Premium Vleesthermometer - BBQ Thermometer - Kernthermometer - Suikerthermometer - Voedselthermometer - Thermometer Koken - Keuken Thermometer - Digitaal – Draadloos - Waterdicht', 22.49], ['BBQ Ovenwanten – Hittebestendige Handschoenen - Ovenhandschoenen - Barbecue Handschoen – Grill & Oven Want – Koken Accessoires - Vuurkorf en Openhaard - Gloves - Barbeque Keukenaccessoires - Braden en Koken - Moederdag Cadeau -Zwart – 2 Stuks', 20.45], ['MoreCore Inductie Beschermings Mat - 5 Stuks - Inductie Beschermer - Beschermingsmat - Antislip - Onderzetters Pannen - Panbeschermers - Inductie Pannen - Siliconen - Inductie Koken tot 240 ºC - 4x Rond Ø22cm + 1x Rechthoekig 25x35cm - Zwart', 39.99], ['De kunst van het koken', 44.95], [\"Buitenkeuken 'Schroef' | BBQ ombouw | Buiten koken\", 850.0], ['RVS keuken vergiet/zeef 25 cm - Keuken/koken benodigdheden - Pasta/aardappels/groente afgieten - Zeven/vergieten', 11.09], ['Gordon Ramsay Kookt', 49.95], ['TEFAL UNLIMITED GRILLPAN 26CM', 50.95], ['BORETTI BAC150', 282.8], ['Fodmap - arm koken', 27.99], ['Het grote kook- en bakboek van de Zoete Zusjes', 22.5], ['KitchenLove - Ovenwanten - Ovenhandschoenen - BBQ - Koken - Siliconen - Hittebestendig tot 230 °C - Zwart - 2 Stuks', 20.0], ['Het grote Kookmutsjes kook- en bakboek', 22.5], ['Helen kookt elke dag', 23.99], ['Vleesthermometer - Dabé - BBQ Thermometer - Kernthermometer - Suikerthermometer - Voedselthermometer - Thermometer Koken - Keuken Thermometer – Draadloos - Digitaal - Meater - Kookthermometer', 15.95], ['BBQ Ovenwanten – Hittebestendige Handschoenen - Ovenhandschoenen - Barbecue Handschoen – Grill & Oven Want – Koken Accessoires - Vuurkorf en Openhaard - Gloves - Barbeque Keukenaccessoires - Braden en Koken - Moederdag Cadeau -Zwart – 2 Stuks', 20.45], ['De kunst van het koken', 44.95], ['Chloé Kookt', 24.5], ['The Original Grill Master Gloves - barbecue handschoen - hittebestendig - tot 500 graden celsius - uitgeroepen tot - #1 BBQ handschoen 2021 - grill handschoen -kamado - ovenwant - barbecuen - BBQ - koken', 29.95], ['Gadgy Eierkoker Elektrisch - 7 Eieren – Koken, Pocheren, Roerei, Omelet – Vaatwasbestendig - Eierkoker', 23.9], ['Koksmuts volwassenen - koken - muts - chefkok kostuum - wit', 7.95], ['De Parel Gekookte Lijnolie 1L', 21.59], ['Barbie - Barbie restaurantdoos met 1 pop, meer dan 30 accessoires, 6 speelplekken - Mannequin Pop Accessoires - Vanaf 3 jaar', 59.95], ['Glas Snijplank - Marmeren Motief - 4 in 1: Aperitief Bord - Snijden - Serveren - Koken - 40 x 30 cm - UV Gelaagd Glas - Dienblad - Anti-Slip - Wit', 16.98], ['Kleine Houten lepels Mini - 8 stuks kruidenlepels - Specerijen - Voor Keuken Koken Kruiden,Olie,Koffie,Thee,Suiker, Zout', 17.95], ['New Classic Toys Houten Speelkeuken Wit - Met Kookplaat die Licht geeft en Kook Geluid maakt - Krijtbord aan de zijkant', 99.99], ['Kook Meesters - Snijplank - Teak hout - Snijplank hout - Sapgeul', 32.99], ['Koken op de camping', 12.5], ['Magnetische Kookwekker Inclusief Standaard +  Batterij | Digitale Kook Wekker | Kookwekker | Wit', 12.95], ['Keukenthermometer - Digitale Thermometer voor Keuken, Koken, Voedsel Melk, Vlees, Oven, BBQ, Water, Thee Voor Binnen en Buiten, Waterdicht, RVS, Ultrasnel', 15.99], ['Gordon Ramsay Kookt', 49.95], ['TEFAL UNLIMITED GRILLPAN 26CM', 50.95], ['BORETTI BAC150', 282.8], ['Fodmap - arm koken', 27.99], ['Het grote kook- en bakboek van de Zoete Zusjes', 22.5], ['Chloé Kookt', 24.5], ['KitchenLove - Ovenwanten - Ovenhandschoenen - BBQ - Koken - Siliconen - Hittebestendig tot 230 °C - Zwart - 2 Stuks', 20.0], ['The Original Grill Master Gloves - barbecue handschoen - hittebestendig - tot 500 graden celsius - uitgeroepen tot - #1 BBQ handschoen 2021 - grill handschoen -kamado - ovenwant - barbecuen - BBQ - koken', 29.95], ['Gadgy Eierkoker Elektrisch - 7 Eieren – Koken, Pocheren, Roerei, Omelet – Vaatwasbestendig - Eierkoker', 23.9], ['Het grote Kookmutsjes kook- en bakboek', 22.5], ['Koksmuts volwassenen - koken - muts - chefkok kostuum - wit', 7.95], ['New Classic Toys Houten Speelkeuken Wit - Met Kookplaat die Licht geeft en Kook Geluid maakt - Krijtbord aan de zijkant', 99.99], ['Magnetische Kookwekker Inclusief Standaard +  Batterij | Digitale Kook Wekker | Kookwekker | Wit', 12.95], ['Thermomix 365', 55.0], ['Keukenthermometer - Digitale Thermometer voor Keuken, Koken, Voedsel Melk, Vlees, Oven, BBQ, Water, Thee Voor Binnen en Buiten, Waterdicht, RVS, Ultrasnel', 15.99], ['Helen kookt elke dag', 23.99], ['Denim Schort - Dames - Heren - Spijkerstof - Keuken Schort - Koken - Koks Schort - Hobby - BBQ - Hip - CADEAU TIP - MOEDERDAG', 24.98], ['Vleesthermometer - Dabé - BBQ Thermometer - Kernthermometer - Suikerthermometer - Voedselthermometer - Thermometer Koken - Keuken Thermometer – Draadloos - Digitaal - Meater - Kookthermometer', 15.95], ['Keukenthermometer - MostEssential Premium Vleesthermometer - BBQ Thermometer - Kernthermometer - Suikerthermometer - Voedselthermometer - Thermometer Koken - Keuken Thermometer - Digitaal – Draadloos - Waterdicht', 22.49], ['BBQ Ovenwanten – Hittebestendige Handschoenen - Ovenhandschoenen - Barbecue Handschoen – Grill & Oven Want – Koken Accessoires - Vuurkorf en Openhaard - Gloves - Barbeque Keukenaccessoires - Braden en Koken - Moederdag Cadeau -Zwart – 2 Stuks', 20.45], ['MoreCore Inductie Beschermings Mat - 5 Stuks - Inductie Beschermer - Beschermingsmat - Antislip - Onderzetters Pannen - Panbeschermers - Inductie Pannen - Siliconen - Inductie Koken tot 240 ºC - 4x Rond Ø22cm + 1x Rechthoekig 25x35cm - Zwart', 39.99], ['De kunst van het koken', 44.95], [\"Buitenkeuken 'Schroef' | BBQ ombouw | Buiten koken\", 850.0], ['RVS keuken vergiet/zeef 25 cm - Keuken/koken benodigdheden - Pasta/aardappels/groente afgieten - Zeven/vergieten', 11.09], ['Gordon Ramsay Kookt', 49.95], ['TEFAL UNLIMITED GRILLPAN 26CM', 50.95], ['BORETTI BAC150', 282.8], ['Fodmap - arm koken', 27.99], ['Het grote kook- en bakboek van de Zoete Zusjes', 22.5], ['Chloé Kookt', 24.5], ['KitchenLove - Ovenwanten - Ovenhandschoenen - BBQ - Koken - Siliconen - Hittebestendig tot 230 °C - Zwart - 2 Stuks', 20.0], ['The Original Grill Master Gloves - barbecue handschoen - hittebestendig - tot 500 graden celsius - uitgeroepen tot - #1 BBQ handschoen 2021 - grill handschoen -kamado - ovenwant - barbecuen - BBQ - koken', 29.95], ['Gadgy Eierkoker Elektrisch - 7 Eieren – Koken, Pocheren, Roerei, Omelet – Vaatwasbestendig - Eierkoker', 23.9], ['Het grote Kookmutsjes kook- en bakboek', 22.5], ['Koksmuts volwassenen - koken - muts - chefkok kostuum - wit', 7.95], ['New Classic Toys Houten Speelkeuken Wit - Met Kookplaat die Licht geeft en Kook Geluid maakt - Krijtbord aan de zijkant', 99.99], ['Magnetische Kookwekker Inclusief Standaard +  Batterij | Digitale Kook Wekker | Kookwekker | Wit', 12.95], ['Thermomix 365', 55.0], ['Digitale Thermometer voor Keuken, Koken, Voedsel Melk, Vlees, Oven, BBQ, Water, Thee Voor Binnen en Buiten, Waterdicht, RVS, Ultrasnel', 15.99], ['Helen kookt elke dag', 23.99], ['Denim Schort - Dames - Heren - Spijkerstof - Keuken Schort - Koken - Koks Schort - Hobby - BBQ - Hip - CADEAU TIP - MOEDERDAG', 24.98], ['Vleesthermometer - Dabé - BBQ Thermometer - Kernthermometer - Suikerthermometer - Voedselthermometer - Thermometer Koken - Keuken Thermometer – Draadloos - Digitaal - Meater - Kookthermometer', 15.95], ['MostEssential Premium Vleesthermometer - BBQ Thermometer - Kernthermometer - Suikerthermometer - Voedselthermometer - Thermometer Koken - Keuken Thermometer - Digitaal – Draadloos - Waterdicht', 22.49], ['BBQ Ovenwanten – Hittebestendige Handschoenen - Ovenhandschoenen - Barbecue Handschoen – Grill & Oven Want – Koken Accessoires - Vuurkorf en Openhaard - Gloves - Barbeque Keukenaccessoires - Braden en Koken - Moederdag Cadeau -Zwart – 2 Stuks', 20.45], ['MoreCore Inductie Beschermings Mat - 5 Stuks - Inductie Beschermer - Beschermingsmat - Antislip - Onderzetters Pannen - Panbeschermers - Inductie Pannen - Siliconen - Inductie Koken tot 240 ºC - 4x Rond Ø22cm + 1x Rechthoekig 25x35cm - Zwart', 39.99], ['De kunst van het koken', 44.95], [\"Buitenkeuken 'Schroef' | BBQ ombouw | Buiten koken\", 850.0], ['RVS keuken vergiet/zeef 25 cm - Keuken/koken benodigdheden - Pasta/aardappels/groente afgieten - Zeven/vergieten', 11.09], ['Gordon Ramsay Kookt', 49.95], ['TEFAL UNLIMITED GRILLPAN 26CM', 50.95], ['BORETTI BAC150', 282.8], ['Fodmap - arm koken', 27.99], ['Het grote kook- en bakboek van de Zoete Zusjes', 22.5], ['KitchenLove - Ovenwanten - Ovenhandschoenen - BBQ - Koken - Siliconen - Hittebestendig tot 230 °C - Zwart - 2 Stuks', 20.0], ['Het grote Kookmutsjes kook- en bakboek', 22.5], ['Helen kookt elke dag', 23.99], ['Vleesthermometer - Dabé - BBQ Thermometer - Kernthermometer - Suikerthermometer - Voedselthermometer - Thermometer Koken - Keuken Thermometer – Draadloos - Digitaal - Meater - Kookthermometer', 15.95], ['BBQ Ovenwanten – Hittebestendige Handschoenen - Ovenhandschoenen - Barbecue Handschoen – Grill & Oven Want – Koken Accessoires - Vuurkorf en Openhaard - Gloves - Barbeque Keukenaccessoires - Braden en Koken - Moederdag Cadeau -Zwart – 2 Stuks', 20.45], ['De kunst van het koken', 44.95], ['Chloé Kookt', 24.5], ['The Original Grill Master Gloves - barbecue handschoen - hittebestendig - tot 500 graden celsius - uitgeroepen tot - #1 BBQ handschoen 2021 - grill handschoen -kamado - ovenwant - barbecuen - BBQ - koken', 29.95], ['Gadgy Eierkoker Elektrisch - 7 Eieren – Koken, Pocheren, Roerei, Omelet – Vaatwasbestendig - Eierkoker', 23.9], ['Koksmuts volwassenen - koken - muts - chefkok kostuum - wit', 7.95], ['De Parel Gekookte Lijnolie 1L', 21.59], ['Barbie - Barbie restaurantdoos met 1 pop, meer dan 30 accessoires, 6 speelplekken - Mannequin Pop Accessoires - Vanaf 3 jaar', 59.95], ['Glas Snijplank - Marmeren Motief - 4 in 1: Aperitief Bord - Snijden - Serveren - Koken - 40 x 30 cm - UV Gelaagd Glas - Dienblad - Anti-Slip - Wit', 16.98], ['Kleine Houten lepels Mini - 8 stuks kruidenlepels - Specerijen - Voor Keuken Koken Kruiden,Olie,Koffie,Thee,Suiker, Zout', 17.95], ['New Classic Toys Houten Speelkeuken Wit - Met Kookplaat die Licht geeft en Kook Geluid maakt - Krijtbord aan de zijkant', 99.99], ['Kook Meesters - Snijplank - Teak hout - Snijplank hout - Sapgeul', 32.99], ['Koken op de camping', 12.5], ['Magnetische Kookwekker Inclusief Standaard +  Batterij | Digitale Kook Wekker | Kookwekker | Wit', 12.95], ['Digitale Thermometer voor Keuken, Koken, Voedsel Melk, Vlees, Oven, BBQ, Water, Thee Voor Binnen en Buiten, Waterdicht, RVS, Ultrasnel', 15.99], ['Gordon Ramsay Kookt', 49.95], ['TEFAL UNLIMITED GRILLPAN 26CM', 50.95], ['BORETTI BAC150', 282.8], ['Fodmap - arm koken', 27.99], ['Het grote kook- en bakboek van de Zoete Zusjes', 22.5], ['Chloé Kookt', 24.5], ['KitchenLove - Ovenwanten - Ovenhandschoenen - BBQ - Koken - Siliconen - Hittebestendig tot 230 °C - Zwart - 2 Stuks', 20.0], ['The Original Grill Master Gloves - barbecue handschoen - hittebestendig - tot 500 graden celsius - uitgeroepen tot - #1 BBQ handschoen 2021 - grill handschoen -kamado - ovenwant - barbecuen - BBQ - koken', 29.95], ['Gadgy Eierkoker Elektrisch - 7 Eieren – Koken, Pocheren, Roerei, Omelet – Vaatwasbestendig - Eierkoker', 23.9], ['Het grote Kookmutsjes kook- en bakboek', 22.5], ['Koksmuts volwassenen - koken - muts - chefkok kostuum - wit', 7.95], ['New Classic Toys Houten Speelkeuken Wit - Met Kookplaat die Licht geeft en Kook Geluid maakt - Krijtbord aan de zijkant', 99.99], ['Magnetische Kookwekker Inclusief Standaard +  Batterij | Digitale Kook Wekker | Kookwekker | Wit', 12.95], ['Thermomix 365', 55.0], ['Keukenthermometer - Digitale Thermometer voor Keuken, Koken, Voedsel Melk, Vlees, Oven, BBQ, Water, Thee Voor Binnen en Buiten, Waterdicht, RVS, Ultrasnel', 15.99], ['Helen kookt elke dag', 23.99], ['Denim Schort - Dames - Heren - Spijkerstof - Keuken Schort - Koken - Koks Schort - Hobby - BBQ - Hip - CADEAU TIP - MOEDERDAG', 24.98], ['Vleesthermometer - Dabé - BBQ Thermometer - Kernthermometer - Suikerthermometer - Voedselthermometer - Thermometer Koken - Keuken Thermometer – Draadloos - Digitaal - Meater - Kookthermometer', 15.95], ['Keukenthermometer - MostEssential Premium Vleesthermometer - BBQ Thermometer - Kernthermometer - Suikerthermometer - Voedselthermometer - Thermometer Koken - Keuken Thermometer - Digitaal – Draadloos - Waterdicht', 22.49], ['BBQ Ovenwanten – Hittebestendige Handschoenen - Ovenhandschoenen - Barbecue Handschoen – Grill & Oven Want – Koken Accessoires - Vuurkorf en Openhaard - Gloves - Barbeque Keukenaccessoires - Braden en Koken - Moederdag Cadeau -Zwart – 2 Stuks', 20.45], ['MoreCore Inductie Beschermings Mat - 5 Stuks - Inductie Beschermer - Beschermingsmat - Antislip - Onderzetters Pannen - Panbeschermers - Inductie Pannen - Siliconen - Inductie Koken tot 240 ºC - 4x Rond Ø22cm + 1x Rechthoekig 25x35cm - Zwart', 39.99], ['De kunst van het koken', 44.95], [\"Buitenkeuken 'Schroef' | BBQ ombouw | Buiten koken\", 850.0], ['RVS keuken vergiet/zeef 25 cm - Keuken/koken benodigdheden - Pasta/aardappels/groente afgieten - Zeven/vergieten', 11.09], ['Gordon Ramsay Kookt', 49.95], ['TEFAL UNLIMITED GRILLPAN 26CM', 50.95], ['BORETTI BAC150', 282.8], ['Fodmap - arm koken', 27.99], ['Het grote kook- en bakboek van de Zoete Zusjes', 22.5], ['KitchenLove - Ovenwanten - Ovenhandschoenen - BBQ - Koken - Siliconen - Hittebestendig tot 230 °C - Zwart - 2 Stuks', 20.0]]\n"
     ]
    }
   ],
   "source": [
    "productlijst = []\n",
    "\n",
    "for item in producten_alle_paginas:\n",
    "    if item.find(class_=\"product-prices\").getText() == '\\nNiet leverbaar\\n':\n",
    "        prijs = None\n",
    "    else:\n",
    "        prijs = float(item.meta['content'])\n",
    "    product = item.find(class_=\"product-title--inline\").a.getText()\n",
    "    productlijst.append([product, prijs])\n",
    "    \n",
    "print(productlijst[:150])"
   ]
  },
  {
   "cell_type": "code",
   "execution_count": 5,
   "metadata": {},
   "outputs": [
    {
     "name": "stdout",
     "output_type": "stream",
     "text": [
      "(3576, 2)\n"
     ]
    },
    {
     "data": {
      "text/plain": [
       "count    3576.000000\n",
       "mean       65.384648\n",
       "std       148.633746\n",
       "min         7.950000\n",
       "25%        20.000000\n",
       "50%        23.990000\n",
       "75%        44.950000\n",
       "max       850.000000\n",
       "Name: prijs, dtype: float64"
      ]
     },
     "execution_count": 5,
     "metadata": {},
     "output_type": "execute_result"
    }
   ],
   "source": [
    "df = pd.DataFrame(productlijst, columns=[\"Product\", \"prijs\"])\n",
    "print(df.shape)\n",
    "df[\"prijs\"].describe()"
   ]
  }
 ],
 "metadata": {
  "interpreter": {
   "hash": "be3492a5e888973eb70359e6380d1c6652c185929b9041468104d752a9a616f9"
  },
  "kernelspec": {
   "display_name": "Python 3.10.2 64-bit",
   "language": "python",
   "name": "python3"
  },
  "language_info": {
   "codemirror_mode": {
    "name": "ipython",
    "version": 3
   },
   "file_extension": ".py",
   "mimetype": "text/x-python",
   "name": "python",
   "nbconvert_exporter": "python",
   "pygments_lexer": "ipython3",
   "version": "3.10.2"
  },
  "orig_nbformat": 4
 },
 "nbformat": 4,
 "nbformat_minor": 2
}
