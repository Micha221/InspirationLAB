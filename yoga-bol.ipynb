{
 "cells": [
  {
   "cell_type": "code",
   "execution_count": 2,
   "metadata": {},
   "outputs": [],
   "source": [
    "import pandas as pd\n",
    "import numpy as np\n",
    "import requests\n",
    "from bs4 import BeautifulSoup"
   ]
  },
  {
   "cell_type": "code",
   "execution_count": 3,
   "metadata": {},
   "outputs": [
    {
     "data": {
      "text/plain": [
       "3576"
      ]
     },
     "execution_count": 3,
     "metadata": {},
     "output_type": "execute_result"
    }
   ],
   "source": [
    "producten_alle_paginas = []\n",
    "\n",
    "for i in range(1,150):\n",
    "    response = requests.get(f\"https://www.bol.com/be/nl/s/?searchtext=yoga\")\n",
    "    content = response.content\n",
    "    parser = BeautifulSoup(content, 'html.parser')\n",
    "    body = parser.body\n",
    "    producten = body.find_all(class_=\"product-item--row js_item_root\")\n",
    "    producten_alle_paginas.extend(producten)\n",
    "    \n",
    "len(producten_alle_paginas)"
   ]
  },
  {
   "cell_type": "code",
   "execution_count": 4,
   "metadata": {},
   "outputs": [
    {
     "name": "stdout",
     "output_type": "stream",
     "text": [
      "18.49\n",
      "SVELTUS Pilates Ring - Yoga ring Optimale spiertraining van armen, benen rug en schouders\n"
     ]
    }
   ],
   "source": [
    "prijs = float(producten_alle_paginas[5].meta.get('content'))\n",
    "productnaam = producten_alle_paginas[5].find(class_=\"product-title--inline\").a.getText()\n",
    "print(prijs)\n",
    "print(productnaam)"
   ]
  },
  {
   "cell_type": "code",
   "execution_count": 5,
   "metadata": {},
   "outputs": [
    {
     "name": "stdout",
     "output_type": "stream",
     "text": [
      "[['SWILIX ®  TPE  Yoga Mat - Incl. Draagriem En Draagtas - Zwart/Grijs', 20.0], ['How to be a Yogi', 0.49], ['Introduction to Yoga', 0.49], ['Yoga voor sporters', 25.99], ['Hatha Yoga voor docenten en beoefenaars', 29.95], ['SVELTUS Pilates Ring - Yoga ring Optimale spiertraining van armen, benen rug en schouders', 18.49], ['Premium Pilates ring inclusief Resistance band voor een effectieve workout - Yoga ring (38cm) met elastische Weerstandsband (35kg) booty band - Magic circle fitness ring met fitness Weerstandsbanden set| Audacity', 21.95], ['TSport Houten Gym Rings, Fitness Turn Pilates Crossfit ringen, Pull-ups en dips, krachttraining turnringen met ophangbanden', 35.95], ['Lenovo Yoga Tab 11 FHD - 256GB  - Grijs', 379.0], ['Tunturi Pilates Ring - Yoga ring - Zwart', 15.99], ['Pilates Ring - VirtuFit Yoga ring - Fitness Ring', 14.9], ['Pilates ring RS Sports l grijs', 15.45], ['Fox Goods Pilates Ring - Yoga Ring - Sport Ring - Fitness Ring - Yoga Oefeningen - Paars - 38CM - Gratis Resistance Band', 17.95], ['Tunturi Fitness-set - paars', 16.89], ['MJ Sports Premium Pilates Sticks - Professionele Fitness Bar - Pilates Stick - Yoga Stok - Pilates Set - Weerstandsband - Full Body Workout - Thuis Gym - Sport Elastiek - Home Trainer - Gymstick - Squat', 24.99], ['Lenovo Yoga Tab 11 FHD - 128GB  - Grijs', 309.0], ['Lenovo™ Yoga™ Tab 13 - 128GB - Zwart', 689.0], ['N.W. Pilates/ Yoga Ring - Paars - Ø 38 cm + Gratis E-book -  Magic Circle - Weerstandsring - Sport Ring - Pilatus - Sporten - Thuis Sporten - Heuptrainer - Fitnessmaterialen - Buikspier Ring - Trainingsring', 23.95], ['Bodi-tek Pilates reformer - pilatesbank - paars', 699.99], ['Beeletix Pilates Ring en Mini Pilates Ball Set Inclusief Trainingsschema  - Yoga Ring - Fitness Ring - Magic Circle - Weerstandsring - Zwart - Ø 38cm', 29.95], ['Casall Trainingsring', 19.99], ['Pilates Ring Grijs - Buikspiertrainer - Heuptrainer - Billentrainer - Fitness Ring - Yoga Ring - Sport Ring - Train je Armen en Benen - Trainingsmaterialen - Fitness Artikelen - Fitnessmaterialen - 38cm', 16.99], ['Pilates ring inclusief pilates bal - Yoga ring met yoga bal - Yoga set - Pilates set grijs', 24.25], ['MJ Sports Premium Yoga Pilates Ring Inclusief Gebruiksinstructie - Fitness Cirkel - Buikspiertrainer - Sport Circle - Heup & Dijbeentrainer - Bekkenbodem Trainer - Oefeningen - Weerstandsband', 22.99], ['Yogamat - SWILIX ®  TPE  Yoga Mat - Incl. Draagriem En Draagtas - Zwart/Grijs', 20.0], ['How to be a Yogi', 0.49], ['Introduction to Yoga', 0.49], ['Yoga voor sporters', 25.99], ['Hatha Yoga voor docenten en beoefenaars', 29.95], ['SVELTUS Pilates Ring - Yoga ring Optimale spiertraining van armen, benen rug en schouders', 18.49], ['Premium Pilates ring inclusief Resistance band voor een effectieve workout - Yoga ring (38cm) met elastische Weerstandsband (35kg) booty band - Magic circle fitness ring met fitness Weerstandsbanden set| Audacity', 21.95], ['TSport Houten Gym Rings, Fitness Turn Pilates Crossfit ringen, Pull-ups en dips, krachttraining turnringen met ophangbanden', 35.95], ['Tablet - Lenovo Yoga Tab 11 FHD - 256GB  - Grijs', 379.0], ['Tunturi Pilates Ring - Yoga ring - Zwart', 15.99], ['Pilates Ring - VirtuFit Yoga ring - Fitness Ring', 14.9], ['Pilates ring RS Sports l grijs', 15.45], ['Fox Goods Pilates Ring - Yoga Ring - Sport Ring - Fitness Ring - Yoga Oefeningen - Paars - 38CM - Gratis Resistance Band', 17.95], ['Tunturi Fitness-set - paars', 16.89], ['MJ Sports Premium Pilates Sticks - Professionele Fitness Bar - Pilates Stick - Yoga Stok - Pilates Set - Weerstandsband - Full Body Workout - Thuis Gym - Sport Elastiek - Home Trainer - Gymstick - Squat', 24.99], ['Tablet - Lenovo Yoga Tab 11 FHD - 128GB  - Grijs', 309.0], ['Lenovo™ Yoga™ Tab 13 - 128GB - Zwart', 689.0], ['N.W. Pilates/ Yoga Ring - Paars - Ø 38 cm + Gratis E-book -  Magic Circle - Weerstandsring - Sport Ring - Pilatus - Sporten - Thuis Sporten - Heuptrainer - Fitnessmaterialen - Buikspier Ring - Trainingsring', 23.95], ['Bodi-tek Pilates reformer - pilatesbank - paars', 699.99], ['Beeletix Pilates Ring en Mini Pilates Ball Set Inclusief Trainingsschema  - Yoga Ring - Fitness Ring - Magic Circle - Weerstandsring - Zwart - Ø 38cm', 29.95], ['Casall Trainingsring', 19.99], ['Pilates Ring Grijs - Buikspiertrainer - Heuptrainer - Billentrainer - Fitness Ring - Yoga Ring - Sport Ring - Train je Armen en Benen - Trainingsmaterialen - Fitness Artikelen - Fitnessmaterialen - 38cm', 16.99], ['Pilates ring inclusief pilates bal - Yoga ring met yoga bal - Yoga set - Pilates set grijs', 24.25], ['MJ Sports Premium Yoga Pilates Ring Inclusief Gebruiksinstructie - Fitness Cirkel - Buikspiertrainer - Sport Circle - Heup & Dijbeentrainer - Bekkenbodem Trainer - Oefeningen - Weerstandsband', 22.99], ['Yogamat - SWILIX ®  TPE  Yoga Mat - Incl. Draagriem En Draagtas - Zwart/Grijs', 20.0], ['How to be a Yogi', 0.49], ['Introduction to Yoga', 0.49], ['Yoga voor sporters', 25.99], ['Hatha Yoga voor docenten en beoefenaars', 29.95], ['Premium Pilates ring inclusief Resistance band voor een effectieve workout - Yoga ring (38cm) met elastische Weerstandsband (35kg) booty band - Magic circle fitness ring met fitness Weerstandsbanden set| Audacity', 21.95], ['TSport Houten Gym Rings, Fitness Turn Pilates Crossfit ringen, Pull-ups en dips, krachttraining turnringen met ophangbanden', 35.95], ['Tunturi Pilates Ring - Yoga ring - Zwart', 15.99], ['Pilates Ring - VirtuFit Yoga ring - Fitness Ring', 14.9], ['Fox Goods Pilates Ring - Yoga Ring - Sport Ring - Fitness Ring - Yoga Oefeningen - Paars - 38CM - Gratis Resistance Band', 17.95], ['Tunturi Fitness-set - paars', 16.89], ['MJ Sports Premium Pilates Sticks - Professionele Fitness Bar - Pilates Stick - Yoga Stok - Pilates Set - Weerstandsband - Full Body Workout - Thuis Gym - Sport Elastiek - Home Trainer - Gymstick - Squat', 24.99], ['Beeletix Pilates Ring en Mini Pilates Ball Set Inclusief Trainingsschema  - Yoga Ring - Fitness Ring - Magic Circle - Weerstandsring - Zwart - Ø 38cm', 29.95], ['Casall Trainingsring', 19.99], ['Pilates Ring Grijs - Buikspiertrainer - Heuptrainer - Billentrainer - Fitness Ring - Yoga Ring - Sport Ring - Train je Armen en Benen - Trainingsmaterialen - Fitness Artikelen - Fitnessmaterialen - 38cm', 16.99], ['SVELTUS Pilates Ring - Yoga ring Optimale spiertraining van armen, benen rug en schouders', 18.49], ['MJ Sports Premium Yoga Pilates Ring Inclusief Gebruiksinstructie - Fitness Cirkel - Buikspiertrainer - Sport Circle - Heup & Dijbeentrainer - Bekkenbodem Trainer - Oefeningen - Weerstandsband', 22.99], ['Premium Resistance band met Pilates ring voor een effectieve workout - Yoga ring (38cm) met elastische Weerstandsband (35kg) booty band - Magic circle fitness ring met fitness Weerstandsbanden set| Audacity', 20.45], ['Positive Things Pilates Ring - Yoga Ring - Yoga Wiel - Hoogwaardige Fitness Ring', 19.95], ['Pilates ring inclusief pilates bal - Yoga ring met yoga bal - Yoga set - Pilates set paars', 24.25], ['Thera Banden ® 5,5M Max zwaar (Goud)', 53.29], ['Pilates ring RS Sports l grijs', 15.45], ['ODIF Pilates Ring- Pilates - Workout - Home Trainers Fitness - yoga - Bekkenbodemtrainer - Zwart - Ø 38cm', 14.95], ['Pilates ring Ø 38cm - bekkenbodem ring zwart - Fitness ring- Yoga ring- Meditatie ring- 5 multi set weerstand banden-  fitness elastiek- power bands set', 19.97], ['Yogamat - SWILIX ®  TPE  Yoga Mat - Incl. Draagriem En Draagtas - Zwart/Grijs', 20.0], ['How to be a Yogi', 0.49], ['Introduction to Yoga', 0.49], ['Yoga voor sporters', 25.99], ['Hatha Yoga voor docenten en beoefenaars', 29.95], ['SVELTUS Pilates Ring - Yoga ring Optimale spiertraining van armen, benen rug en schouders', 18.49], ['Premium Pilates ring inclusief Resistance band voor een effectieve workout - Yoga ring (38cm) met elastische Weerstandsband (35kg) booty band - Magic circle fitness ring met fitness Weerstandsbanden set| Audacity', 21.95], ['TSport Houten Gym Rings, Fitness Turn Pilates Crossfit ringen, Pull-ups en dips, krachttraining turnringen met ophangbanden', 35.95], ['Tablet - Lenovo Yoga Tab 11 FHD - 256GB  - Grijs', 379.0], ['Tunturi Pilates Ring - Yoga ring - Zwart', 15.99], ['Pilates Ring - VirtuFit Yoga ring - Fitness Ring', 14.9], ['Pilates ring RS Sports l grijs', 15.45], ['Fox Goods Pilates Ring - Yoga Ring - Sport Ring - Fitness Ring - Yoga Oefeningen - Paars - 38CM - Gratis Resistance Band', 17.95], ['Tunturi Fitness-set - paars', 16.89], ['MJ Sports Premium Pilates Sticks - Professionele Fitness Bar - Pilates Stick - Yoga Stok - Pilates Set - Weerstandsband - Full Body Workout - Thuis Gym - Sport Elastiek - Home Trainer - Gymstick - Squat', 24.99], ['Tablet - Lenovo Yoga Tab 11 FHD - 128GB  - Grijs', 309.0], ['Lenovo™ Yoga™ Tab 13 - 128GB - Zwart', 689.0], ['N.W. Pilates/ Yoga Ring - Paars - Ø 38 cm + Gratis E-book -  Magic Circle - Weerstandsring - Sport Ring - Pilatus - Sporten - Thuis Sporten - Heuptrainer - Fitnessmaterialen - Buikspier Ring - Trainingsring', 23.95], ['Bodi-tek Pilates reformer - pilatesbank - paars', 699.99], ['Beeletix Pilates Ring en Mini Pilates Ball Set Inclusief Trainingsschema  - Yoga Ring - Fitness Ring - Magic Circle - Weerstandsring - Zwart - Ø 38cm', 29.95], ['Casall Trainingsring', 19.99], ['Pilates Ring Grijs - Buikspiertrainer - Heuptrainer - Billentrainer - Fitness Ring - Yoga Ring - Sport Ring - Train je Armen en Benen - Trainingsmaterialen - Fitness Artikelen - Fitnessmaterialen - 38cm', 16.99], ['Pilates ring inclusief pilates bal - Yoga ring met yoga bal - Yoga set - Pilates set grijs', 24.25], ['MJ Sports Premium Yoga Pilates Ring Inclusief Gebruiksinstructie - Fitness Cirkel - Buikspiertrainer - Sport Circle - Heup & Dijbeentrainer - Bekkenbodem Trainer - Oefeningen - Weerstandsband', 22.99], ['SWILIX ®  TPE  Yoga Mat - Incl. Draagriem En Draagtas - Zwart/Grijs', 20.0], ['How to be a Yogi', 0.49], ['Introduction to Yoga', 0.49], ['Yoga voor sporters', 25.99], ['Hatha Yoga voor docenten en beoefenaars', 29.95], ['Premium Pilates ring inclusief Resistance band voor een effectieve workout - Yoga ring (38cm) met elastische Weerstandsband (35kg) booty band - Magic circle fitness ring met fitness Weerstandsbanden set| Audacity', 21.95], ['TSport Houten Gym Rings, Fitness Turn Pilates Crossfit ringen, Pull-ups en dips, krachttraining turnringen met ophangbanden', 35.95], ['Tunturi Pilates Ring - Yoga ring - Zwart', 15.99], ['Pilates Ring - VirtuFit Yoga ring - Fitness Ring', 14.9], ['Fox Goods Pilates Ring - Yoga Ring - Sport Ring - Fitness Ring - Yoga Oefeningen - Paars - 38CM - Gratis Resistance Band', 17.95], ['Tunturi Fitness-set - paars', 16.89], ['MJ Sports Premium Pilates Sticks - Professionele Fitness Bar - Pilates Stick - Yoga Stok - Pilates Set - Weerstandsband - Full Body Workout - Thuis Gym - Sport Elastiek - Home Trainer - Gymstick - Squat', 24.99], ['Beeletix Pilates Ring en Mini Pilates Ball Set Inclusief Trainingsschema  - Yoga Ring - Fitness Ring - Magic Circle - Weerstandsring - Zwart - Ø 38cm', 29.95], ['Casall Trainingsring', 19.99], ['Pilates Ring Grijs - Buikspiertrainer - Heuptrainer - Billentrainer - Fitness Ring - Yoga Ring - Sport Ring - Train je Armen en Benen - Trainingsmaterialen - Fitness Artikelen - Fitnessmaterialen - 38cm', 16.99], ['SVELTUS Pilates Ring - Yoga ring Optimale spiertraining van armen, benen rug en schouders', 18.49], ['MJ Sports Premium Yoga Pilates Ring Inclusief Gebruiksinstructie - Fitness Cirkel - Buikspiertrainer - Sport Circle - Heup & Dijbeentrainer - Bekkenbodem Trainer - Oefeningen - Weerstandsband', 22.99], ['Premium Resistance band met Pilates ring voor een effectieve workout - Yoga ring (38cm) met elastische Weerstandsband (35kg) booty band - Magic circle fitness ring met fitness Weerstandsbanden set| Audacity', 20.45], ['Positive Things Pilates Ring - Yoga Ring - Yoga Wiel - Hoogwaardige Fitness Ring', 19.95], ['Pilates ring inclusief pilates bal - Yoga ring met yoga bal - Yoga set - Pilates set paars', 24.25], ['Thera Banden ® 5,5M Max zwaar (Goud)', 53.29], ['Pilates ring RS Sports l grijs', 15.45], ['ODIF Pilates Ring- Pilates - Workout - Home Trainers Fitness - yoga - Bekkenbodemtrainer - Zwart - Ø 38cm', 14.95], ['Pilates ring Ø 38cm - bekkenbodem ring zwart - Fitness ring- Yoga ring- Meditatie ring- 5 multi set weerstand banden-  fitness elastiek- power bands set', 19.97], ['SWILIX ®  TPE  Yoga Mat - Incl. Draagriem En Draagtas - Zwart/Grijs', 20.0], ['How to be a Yogi', 0.49], ['Introduction to Yoga', 0.49], ['Yoga voor sporters', 25.99], ['Hatha Yoga voor docenten en beoefenaars', 29.95], ['SVELTUS Pilates Ring - Yoga ring Optimale spiertraining van armen, benen rug en schouders', 18.49], ['Premium Pilates ring inclusief Resistance band voor een effectieve workout - Yoga ring (38cm) met elastische Weerstandsband (35kg) booty band - Magic circle fitness ring met fitness Weerstandsbanden set| Audacity', 21.95], ['TSport Houten Gym Rings, Fitness Turn Pilates Crossfit ringen, Pull-ups en dips, krachttraining turnringen met ophangbanden', 35.95], ['Lenovo Yoga Tab 11 FHD - 256GB  - Grijs', 379.0], ['Tunturi Pilates Ring - Yoga ring - Zwart', 15.99], ['Pilates Ring - VirtuFit Yoga ring - Fitness Ring', 14.9], ['Pilates ring RS Sports l grijs', 15.45], ['Fox Goods Pilates Ring - Yoga Ring - Sport Ring - Fitness Ring - Yoga Oefeningen - Paars - 38CM - Gratis Resistance Band', 17.95], ['Tunturi Fitness-set - paars', 16.89], ['MJ Sports Premium Pilates Sticks - Professionele Fitness Bar - Pilates Stick - Yoga Stok - Pilates Set - Weerstandsband - Full Body Workout - Thuis Gym - Sport Elastiek - Home Trainer - Gymstick - Squat', 24.99], ['Lenovo Yoga Tab 11 FHD - 128GB  - Grijs', 309.0], ['Lenovo™ Yoga™ Tab 13 - 128GB - Zwart', 689.0], ['N.W. Pilates/ Yoga Ring - Paars - Ø 38 cm + Gratis E-book -  Magic Circle - Weerstandsring - Sport Ring - Pilatus - Sporten - Thuis Sporten - Heuptrainer - Fitnessmaterialen - Buikspier Ring - Trainingsring', 23.95], ['Bodi-tek Pilates reformer - pilatesbank - paars', 699.99], ['Beeletix Pilates Ring en Mini Pilates Ball Set Inclusief Trainingsschema  - Yoga Ring - Fitness Ring - Magic Circle - Weerstandsring - Zwart - Ø 38cm', 29.95], ['Casall Trainingsring', 19.99], ['Pilates Ring Grijs - Buikspiertrainer - Heuptrainer - Billentrainer - Fitness Ring - Yoga Ring - Sport Ring - Train je Armen en Benen - Trainingsmaterialen - Fitness Artikelen - Fitnessmaterialen - 38cm', 16.99], ['Pilates ring inclusief pilates bal - Yoga ring met yoga bal - Yoga set - Pilates set grijs', 24.25], ['MJ Sports Premium Yoga Pilates Ring Inclusief Gebruiksinstructie - Fitness Cirkel - Buikspiertrainer - Sport Circle - Heup & Dijbeentrainer - Bekkenbodem Trainer - Oefeningen - Weerstandsband', 22.99], ['Yogamat - SWILIX ®  TPE  Yoga Mat - Incl. Draagriem En Draagtas - Zwart/Grijs', 20.0], ['How to be a Yogi', 0.49], ['Introduction to Yoga', 0.49], ['Yoga voor sporters', 25.99], ['Hatha Yoga voor docenten en beoefenaars', 29.95], ['SVELTUS Pilates Ring - Yoga ring Optimale spiertraining van armen, benen rug en schouders', 18.49]]\n"
     ]
    }
   ],
   "source": [
    "productlijst = []\n",
    "\n",
    "for item in producten_alle_paginas:\n",
    "    if item.find(class_=\"product-prices\").getText() == '\\nNiet leverbaar\\n':\n",
    "        prijs = None\n",
    "    else:\n",
    "        prijs = float(item.meta['content'])\n",
    "    product = item.find(class_=\"product-title--inline\").a.getText()\n",
    "    productlijst.append([product, prijs])\n",
    "    \n",
    "print(productlijst[:150])"
   ]
  },
  {
   "cell_type": "code",
   "execution_count": 6,
   "metadata": {},
   "outputs": [
    {
     "name": "stdout",
     "output_type": "stream",
     "text": [
      "(3576, 2)\n"
     ]
    },
    {
     "data": {
      "text/plain": [
       "count    3576.000000\n",
       "mean       82.700699\n",
       "std       176.916738\n",
       "min         0.490000\n",
       "25%        16.890000\n",
       "50%        21.950000\n",
       "75%        29.950000\n",
       "max       699.990000\n",
       "Name: prijs, dtype: float64"
      ]
     },
     "execution_count": 6,
     "metadata": {},
     "output_type": "execute_result"
    }
   ],
   "source": [
    "df = pd.DataFrame(productlijst, columns=[\"Product\", \"prijs\"])\n",
    "print(df.shape)\n",
    "df[\"prijs\"].describe()"
   ]
  }
 ],
 "metadata": {
  "interpreter": {
   "hash": "be3492a5e888973eb70359e6380d1c6652c185929b9041468104d752a9a616f9"
  },
  "kernelspec": {
   "display_name": "Python 3.10.2 64-bit",
   "language": "python",
   "name": "python3"
  },
  "language_info": {
   "codemirror_mode": {
    "name": "ipython",
    "version": 3
   },
   "file_extension": ".py",
   "mimetype": "text/x-python",
   "name": "python",
   "nbconvert_exporter": "python",
   "pygments_lexer": "ipython3",
   "version": "3.10.2"
  },
  "orig_nbformat": 4
 },
 "nbformat": 4,
 "nbformat_minor": 2
}
