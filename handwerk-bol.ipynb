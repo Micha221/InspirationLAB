{
 "cells": [
  {
   "cell_type": "code",
   "execution_count": 1,
   "metadata": {},
   "outputs": [],
   "source": [
    "import pandas as pd\n",
    "import numpy as np\n",
    "import requests\n",
    "from bs4 import BeautifulSoup"
   ]
  },
  {
   "cell_type": "code",
   "execution_count": 2,
   "metadata": {},
   "outputs": [
    {
     "data": {
      "text/plain": [
       "3427"
      ]
     },
     "execution_count": 2,
     "metadata": {},
     "output_type": "execute_result"
    }
   ],
   "source": [
    "producten_alle_paginas = []\n",
    "\n",
    "for i in range(1,150):\n",
    "    response = requests.get(f\"https://www.bol.com/be/nl/s/?searchtext=handwerk\")\n",
    "    content = response.content\n",
    "    parser = BeautifulSoup(content, 'html.parser')\n",
    "    body = parser.body\n",
    "    producten = body.find_all(class_=\"product-item--row js_item_root\")\n",
    "    producten_alle_paginas.extend(producten)\n",
    "    \n",
    "len(producten_alle_paginas)"
   ]
  },
  {
   "cell_type": "code",
   "execution_count": 3,
   "metadata": {},
   "outputs": [
    {
     "name": "stdout",
     "output_type": "stream",
     "text": [
      "10.99\n",
      "Hobbyschaar - Professionele Textiel Schaar van Hoogwaardig Plaatstaal - 25 cm | Soft Grip Textielschaar | Stofschaar Professioneel voor Leer en Textiel | Handvat Fijn en Zacht\n"
     ]
    }
   ],
   "source": [
    "prijs = float(producten_alle_paginas[6].meta.get('content'))\n",
    "productnaam = producten_alle_paginas[6].find(class_=\"product-title--inline\").a.getText()\n",
    "print(prijs)\n",
    "print(productnaam)"
   ]
  },
  {
   "cell_type": "code",
   "execution_count": 4,
   "metadata": {},
   "outputs": [
    {
     "name": "stdout",
     "output_type": "stream",
     "text": [
      "[['Oorbel schieter 2 stuks chirurgisch staal (RVS) | wegwerp oorschieter incl. alcoholdoekjes | Neuspiercing pistool | Steriele gaatjes schieter | Ear Piercing | Oor piercing pistool kit | Ear Piercing Gun Disposable Safety Asepsis Piercing Tool Kit', 12.95], ['MAT.S - 2 Kit Piercing gun + 2 Alcohol swabs - Wegwerp oorbel pistool + alcoholdoekjes - Wegwerp oorschieter - Neuspiercing pistool - Oorschieter - Oorbel prikken - Gaatjes prikken - Oorbel pistool - 2 STUKS', 7.97], ['Wegwerp steriele Gaatjes schieter -Ear Piercing Gun -Oor piercing pistool kit -Ear Stud -', 6.88], ['Schmetz naaimachine naalden universeel 130/705 H 70 / 80 / 90   (10 stuks totaal)', 6.5], ['Veiligheidsspelden, l: 22 mm, goud, 500 stuks', 8.8], ['100 Delige haaknaalden set - Haakset - Hobby set - Haken voor beginner Haken voor gevorderen.', 24.95], ['Hobbyschaar - Professionele Textiel Schaar van Hoogwaardig Plaatstaal - 25 cm | Soft Grip Textielschaar | Stofschaar Professioneel voor Leer en Textiel | Handvat Fijn en Zacht', 10.99], ['Snijmat Rillstab A1 - 900x600mm - Uniek zelf-herstellend materiaal - Groen - 3-laags', 17.95], ['400 gekleurde speldjes - kopspelden', 11.5], ['Oorpiercing pistool - Oorbel Piercing - Oorbel Pistool - Oorbel - Gaatjes schieter - Oorpiercings - Gaatjes Prikker - Ear Piercing Gun - Ear Stud - Oorbel Gun - Wegwerp - Wegwerp Oorbel - Wegwerp Oorbel Pistool', 6.9], ['QY luxe Softgrip haaknaaldenset 25-delig met haak& brei accessoires in luxe etui - blauw', 24.95], ['9-Delige Haaknaaldenset met softgrip | Haaknaald Crochet Set', 7.88], ['Prym Stopnaalden Nr.5/0-1/0', 3.95], ['Veiligheidsspelden, l: 28+34+40 mm, zilver, 600 assorti', 13.86], ['25 delige Luxe Soft Grip Haaknaalden Set Haak - Brei - Accessoires - Crochet Hook Knit Set', 17.88], ['Naaimachineaccessoire - Reparatiedoek opstrijkbaar wit 11 x 25 cm', 3.95], ['100 Stuks - Knutsel pompoms gekleurd - 1cm in dia - Gekleurde balletjes - Hobby decoratie materiaal - Knutselen met pompom balletjes - Knutselen en decoreren - Pompom - Pom pom maker', 3.1], ['Naaimachineaccessoire - Singer Naalden Nieuw', 15.99], ['Naalden - Naalden voor naaien - Naaien accessoires - Naaldenset - Goud - 30delig - Able & Borret', 4.9], ['Breinaalden Set Bamboe 36 Stuks - 18 Verschillende Maten - 35 cm Lang - 2 tot 10 mm Dikte - Ergonomische Breinaald - Kwalitatief Hoogwaardig Bamboe', 21.87], ['zwarte veiligheidsoogjes 6 mm inclusief sluitring, 25 paar', 10.99], ['KnitPro Symfonie Wood Verwisselbare Rondbreinaalden - Deluxe Set', 55.0], ['100 glaskopspelden - spelden met glaskop - gekleurde kopspelden', 6.95], ['Oorbel schieter 2 stuks chirurgisch staal (RVS) | wegwerp oorschieter incl. alcoholdoekjes | Neuspiercing pistool | Steriele gaatjes schieter | Ear Piercing | Oor piercing pistool kit | Ear Piercing Gun Disposable Safety Asepsis Piercing Tool Kit', 12.95], ['MAT.S - 2 Kit Piercing gun + 2 Alcohol swabs - Wegwerp oorbel pistool + alcoholdoekjes - Wegwerp oorschieter - Neuspiercing pistool - Oorschieter - Oorbel prikken - Gaatjes prikken - Oorbel pistool - 2 STUKS', 7.97], ['Wegwerp steriele Gaatjes schieter -Ear Piercing Gun -Oor piercing pistool kit -Ear Stud -', 6.88], ['Schmetz naaimachine naalden universeel 130/705 H 70 / 80 / 90   (10 stuks totaal)', 6.5], ['Veiligheidsspelden, l: 22 mm, goud, 500 stuks', 8.8], ['100 Delige haaknaalden set - Haakset - Hobby set - Haken voor beginner Haken voor gevorderen.', 24.95], ['Professionele Textiel Schaar van Hoogwaardig Plaatstaal - 25 cm | Soft Grip Textielschaar | Stofschaar Professioneel voor Leer en Textiel | Handvat Fijn en Zacht', 10.99], ['Snijmat Rillstab A1 - 900x600mm - Uniek zelf-herstellend materiaal - Groen - 3-laags', 17.95], ['400 gekleurde speldjes - kopspelden', 11.5], ['Oorpiercing pistool - Oorbel Piercing - Oorbel Pistool - Oorbel - Gaatjes schieter - Oorpiercings - Gaatjes Prikker - Ear Piercing Gun - Ear Stud - Oorbel Gun - Wegwerp - Wegwerp Oorbel - Wegwerp Oorbel Pistool', 6.9], ['QY luxe Softgrip haaknaaldenset 25-delig met haak& brei accessoires in luxe etui - blauw', 24.95], ['9-Delige Haaknaaldenset met softgrip | Haaknaald Crochet Set', 7.88], ['Prym Stopnaalden Nr.5/0-1/0', 3.95], ['Veiligheidsspelden, l: 28+34+40 mm, zilver, 600 assorti', 13.86], ['25 delige Luxe Soft Grip Haaknaalden Set Haak - Brei - Accessoires - Crochet Hook Knit Set', 17.88], ['Reparatiedoek opstrijkbaar wit 11 x 25 cm', 3.95], ['100 Stuks - Knutsel pompoms gekleurd - 1cm in dia - Gekleurde balletjes - Hobby decoratie materiaal - Knutselen met pompom balletjes - Knutselen en decoreren - Pompom - Pom pom maker', 3.1], ['Singer Naalden Nieuw', 15.99], ['Naalden - Naalden voor naaien - Naaien accessoires - Naaldenset - Goud - 30delig - Able & Borret', 4.9], ['Breinaalden Set Bamboe 36 Stuks - 18 Verschillende Maten - 35 cm Lang - 2 tot 10 mm Dikte - Ergonomische Breinaald - Kwalitatief Hoogwaardig Bamboe', 21.87], ['zwarte veiligheidsoogjes 6 mm inclusief sluitring, 25 paar', 10.99], ['KnitPro Symfonie Wood Verwisselbare Rondbreinaalden - Deluxe Set', 55.0], ['100 glaskopspelden - spelden met glaskop - gekleurde kopspelden', 6.95], ['Oorbel schieter 2 stuks chirurgisch staal (RVS) | wegwerp oorschieter incl. alcoholdoekjes | Neuspiercing pistool | Steriele gaatjes schieter | Ear Piercing | Oor piercing pistool kit | Ear Piercing Gun Disposable Safety Asepsis Piercing Tool Kit', 12.95], ['MAT.S - 2 Kit Piercing gun + 2 Alcohol swabs - Wegwerp oorbel pistool + alcoholdoekjes - Wegwerp oorschieter - Neuspiercing pistool - Oorschieter - Oorbel prikken - Gaatjes prikken - Oorbel pistool - 2 STUKS', 7.97], ['Wegwerp steriele Gaatjes schieter -Ear Piercing Gun -Oor piercing pistool kit -Ear Stud -', 6.88], ['Schmetz naaimachine naalden universeel 130/705 H 70 / 80 / 90   (10 stuks totaal)', 6.5], ['Veiligheidsspelden, l: 22 mm, goud, 500 stuks', 8.8], ['100 Delige haaknaalden set - Haakset - Hobby set - Haken voor beginner Haken voor gevorderen.', 24.95], ['Professionele Textiel Schaar van Hoogwaardig Plaatstaal - 25 cm | Soft Grip Textielschaar | Stofschaar Professioneel voor Leer en Textiel | Handvat Fijn en Zacht', 10.99], ['Snijmat Rillstab A1 - 900x600mm - Uniek zelf-herstellend materiaal - Groen - 3-laags', 17.95], ['400 gekleurde speldjes - kopspelden', 11.5], ['Oorpiercing pistool - Oorbel Piercing - Oorbel Pistool - Oorbel - Gaatjes schieter - Oorpiercings - Gaatjes Prikker - Ear Piercing Gun - Ear Stud - Oorbel Gun - Wegwerp - Wegwerp Oorbel - Wegwerp Oorbel Pistool', 6.9], ['QY luxe Softgrip haaknaaldenset 25-delig met haak& brei accessoires in luxe etui - blauw', 24.95], ['9-Delige Haaknaaldenset met softgrip | Haaknaald Crochet Set', 7.88], ['Prym Stopnaalden Nr.5/0-1/0', 3.95], ['Veiligheidsspelden, l: 28+34+40 mm, zilver, 600 assorti', 13.86], ['25 delige Luxe Soft Grip Haaknaalden Set Haak - Brei - Accessoires - Crochet Hook Knit Set', 17.88], ['Reparatiedoek opstrijkbaar wit 11 x 25 cm', 3.95], ['100 Stuks - Knutsel pompoms gekleurd - 1cm in dia - Gekleurde balletjes - Hobby decoratie materiaal - Knutselen met pompom balletjes - Knutselen en decoreren - Pompom - Pom pom maker', 3.1], ['Singer Naalden Nieuw', 15.99], ['Naalden - Naalden voor naaien - Naaien accessoires - Naaldenset - Goud - 30delig - Able & Borret', 4.9], ['Breinaalden Set Bamboe 36 Stuks - 18 Verschillende Maten - 35 cm Lang - 2 tot 10 mm Dikte - Ergonomische Breinaald - Kwalitatief Hoogwaardig Bamboe', 21.87], ['zwarte veiligheidsoogjes 6 mm inclusief sluitring, 25 paar', 10.99], ['KnitPro Symfonie Wood Verwisselbare Rondbreinaalden - Deluxe Set', 55.0], ['100 glaskopspelden - spelden met glaskop - gekleurde kopspelden', 6.95], ['Oorbel schieter 2 stuks chirurgisch staal (RVS) | wegwerp oorschieter incl. alcoholdoekjes | Neuspiercing pistool | Steriele gaatjes schieter | Ear Piercing | Oor piercing pistool kit | Ear Piercing Gun Disposable Safety Asepsis Piercing Tool Kit', 12.95], ['MAT.S - 2 Kit Piercing gun + 2 Alcohol swabs - Wegwerp oorbel pistool + alcoholdoekjes - Wegwerp oorschieter - Neuspiercing pistool - Oorschieter - Oorbel prikken - Gaatjes prikken - Oorbel pistool - 2 STUKS', 7.97], ['Wegwerp steriele Gaatjes schieter -Ear Piercing Gun -Oor piercing pistool kit -Ear Stud -', 6.88], ['Schmetz naaimachine naalden universeel 130/705 H 70 / 80 / 90   (10 stuks totaal)', 6.5], ['Veiligheidsspelden, l: 22 mm, goud, 500 stuks', 8.8], ['100 Delige haaknaalden set - Haakset - Hobby set - Haken voor beginner Haken voor gevorderen.', 24.95], ['Professionele Textiel Schaar van Hoogwaardig Plaatstaal - 25 cm | Soft Grip Textielschaar | Stofschaar Professioneel voor Leer en Textiel | Handvat Fijn en Zacht', 10.99], ['Snijmat Rillstab A1 - 900x600mm - Uniek zelf-herstellend materiaal - Groen - 3-laags', 17.95], ['400 gekleurde speldjes - kopspelden', 11.5], ['Oorpiercing pistool - Oorbel Piercing - Oorbel Pistool - Oorbel - Gaatjes schieter - Oorpiercings - Gaatjes Prikker - Ear Piercing Gun - Ear Stud - Oorbel Gun - Wegwerp - Wegwerp Oorbel - Wegwerp Oorbel Pistool', 6.9], ['QY luxe Softgrip haaknaaldenset 25-delig met haak& brei accessoires in luxe etui - blauw', 24.95], ['9-Delige Haaknaaldenset met softgrip | Haaknaald Crochet Set', 7.88], ['Prym Stopnaalden Nr.5/0-1/0', 3.95], ['Veiligheidsspelden, l: 28+34+40 mm, zilver, 600 assorti', 13.86], ['25 delige Luxe Soft Grip Haaknaalden Set Haak - Brei - Accessoires - Crochet Hook Knit Set', 17.88], ['Reparatiedoek opstrijkbaar wit 11 x 25 cm', 3.95], ['100 Stuks - Knutsel pompoms gekleurd - 1cm in dia - Gekleurde balletjes - Hobby decoratie materiaal - Knutselen met pompom balletjes - Knutselen en decoreren - Pompom - Pom pom maker', 3.1], ['Singer Naalden Nieuw', 15.99], ['Naalden - Naalden voor naaien - Naaien accessoires - Naaldenset - Goud - 30delig - Able & Borret', 4.9], ['Breinaalden Set Bamboe 36 Stuks - 18 Verschillende Maten - 35 cm Lang - 2 tot 10 mm Dikte - Ergonomische Breinaald - Kwalitatief Hoogwaardig Bamboe', 21.87], ['zwarte veiligheidsoogjes 6 mm inclusief sluitring, 25 paar', 10.99], ['KnitPro Symfonie Wood Verwisselbare Rondbreinaalden - Deluxe Set', 55.0], ['100 glaskopspelden - spelden met glaskop - gekleurde kopspelden', 6.95], ['Oorbel schieter 2 stuks chirurgisch staal (RVS) | wegwerp oorschieter incl. alcoholdoekjes | Neuspiercing pistool | Steriele gaatjes schieter | Ear Piercing | Oor piercing pistool kit | Ear Piercing Gun Disposable Safety Asepsis Piercing Tool Kit', 12.95], ['MAT.S - 2 Kit Piercing gun + 2 Alcohol swabs - Wegwerp oorbel pistool + alcoholdoekjes - Wegwerp oorschieter - Neuspiercing pistool - Oorschieter - Oorbel prikken - Gaatjes prikken - Oorbel pistool - 2 STUKS', 7.97], ['Wegwerp steriele Gaatjes schieter -Ear Piercing Gun -Oor piercing pistool kit -Ear Stud -', 6.88], ['Schmetz naaimachine naalden universeel 130/705 H 70 / 80 / 90   (10 stuks totaal)', 6.5], ['Veiligheidsspelden, l: 22 mm, goud, 500 stuks', 8.8], ['100 Delige haaknaalden set - Haakset - Hobby set - Haken voor beginner Haken voor gevorderen.', 24.95], ['Professionele Textiel Schaar van Hoogwaardig Plaatstaal - 25 cm | Soft Grip Textielschaar | Stofschaar Professioneel voor Leer en Textiel | Handvat Fijn en Zacht', 10.99], ['Snijmat Rillstab A1 - 900x600mm - Uniek zelf-herstellend materiaal - Groen - 3-laags', 17.95], ['400 gekleurde speldjes - kopspelden', 11.5], ['Oorpiercing pistool - Oorbel Piercing - Oorbel Pistool - Oorbel - Gaatjes schieter - Oorpiercings - Gaatjes Prikker - Ear Piercing Gun - Ear Stud - Oorbel Gun - Wegwerp - Wegwerp Oorbel - Wegwerp Oorbel Pistool', 6.9], ['QY luxe Softgrip haaknaaldenset 25-delig met haak& brei accessoires in luxe etui - blauw', 24.95], ['9-Delige Haaknaaldenset met softgrip | Haaknaald Crochet Set', 7.88], ['Prym Stopnaalden Nr.5/0-1/0', 3.95], ['Veiligheidsspelden, l: 28+34+40 mm, zilver, 600 assorti', 13.86], ['25 delige Luxe Soft Grip Haaknaalden Set Haak - Brei - Accessoires - Crochet Hook Knit Set', 17.88], ['Reparatiedoek opstrijkbaar wit 11 x 25 cm', 3.95], ['100 Stuks - Knutsel pompoms gekleurd - 1cm in dia - Gekleurde balletjes - Hobby decoratie materiaal - Knutselen met pompom balletjes - Knutselen en decoreren - Pompom - Pom pom maker', 3.1], ['Singer Naalden Nieuw', 15.99], ['Naalden - Naalden voor naaien - Naaien accessoires - Naaldenset - Goud - 30delig - Able & Borret', 4.9], ['Breinaalden Set Bamboe 36 Stuks - 18 Verschillende Maten - 35 cm Lang - 2 tot 10 mm Dikte - Ergonomische Breinaald - Kwalitatief Hoogwaardig Bamboe', 21.87], ['zwarte veiligheidsoogjes 6 mm inclusief sluitring, 25 paar', 10.99], ['KnitPro Symfonie Wood Verwisselbare Rondbreinaalden - Deluxe Set', 55.0], ['100 glaskopspelden - spelden met glaskop - gekleurde kopspelden', 6.95], ['Oorbel schieter 2 stuks chirurgisch staal (RVS) | wegwerp oorschieter incl. alcoholdoekjes | Neuspiercing pistool | Steriele gaatjes schieter | Ear Piercing | Oor piercing pistool kit | Ear Piercing Gun Disposable Safety Asepsis Piercing Tool Kit', 12.95], ['MAT.S - 2 Kit Piercing gun + 2 Alcohol swabs - Wegwerp oorbel pistool + alcoholdoekjes - Wegwerp oorschieter - Neuspiercing pistool - Oorschieter - Oorbel prikken - Gaatjes prikken - Oorbel pistool - 2 STUKS', 7.97], ['Wegwerp steriele Gaatjes schieter -Ear Piercing Gun -Oor piercing pistool kit -Ear Stud -', 6.88], ['Schmetz naaimachine naalden universeel 130/705 H 70 / 80 / 90   (10 stuks totaal)', 6.5], ['Veiligheidsspelden, l: 22 mm, goud, 500 stuks', 8.8], ['100 Delige haaknaalden set - Haakset - Hobby set - Haken voor beginner Haken voor gevorderen.', 24.95], ['Hobbyschaar - Professionele Textiel Schaar van Hoogwaardig Plaatstaal - 25 cm | Soft Grip Textielschaar | Stofschaar Professioneel voor Leer en Textiel | Handvat Fijn en Zacht', 10.99], ['Snijmat Rillstab A1 - 900x600mm - Uniek zelf-herstellend materiaal - Groen - 3-laags', 17.95], ['400 gekleurde speldjes - kopspelden', 11.5], ['Oorpiercing pistool - Oorbel Piercing - Oorbel Pistool - Oorbel - Gaatjes schieter - Oorpiercings - Gaatjes Prikker - Ear Piercing Gun - Ear Stud - Oorbel Gun - Wegwerp - Wegwerp Oorbel - Wegwerp Oorbel Pistool', 6.9], ['QY luxe Softgrip haaknaaldenset 25-delig met haak& brei accessoires in luxe etui - blauw', 24.95], ['9-Delige Haaknaaldenset met softgrip | Haaknaald Crochet Set', 7.88], ['Prym Stopnaalden Nr.5/0-1/0', 3.95], ['Veiligheidsspelden, l: 28+34+40 mm, zilver, 600 assorti', 13.86], ['25 delige Luxe Soft Grip Haaknaalden Set Haak - Brei - Accessoires - Crochet Hook Knit Set', 17.88], ['Naaimachineaccessoire - Reparatiedoek opstrijkbaar wit 11 x 25 cm', 3.95], ['100 Stuks - Knutsel pompoms gekleurd - 1cm in dia - Gekleurde balletjes - Hobby decoratie materiaal - Knutselen met pompom balletjes - Knutselen en decoreren - Pompom - Pom pom maker', 3.1], ['Naaimachineaccessoire - Singer Naalden Nieuw', 15.99], ['Naalden - Naalden voor naaien - Naaien accessoires - Naaldenset - Goud - 30delig - Able & Borret', 4.9], ['Breinaalden Set Bamboe 36 Stuks - 18 Verschillende Maten - 35 cm Lang - 2 tot 10 mm Dikte - Ergonomische Breinaald - Kwalitatief Hoogwaardig Bamboe', 21.87], ['zwarte veiligheidsoogjes 6 mm inclusief sluitring, 25 paar', 10.99], ['KnitPro Symfonie Wood Verwisselbare Rondbreinaalden - Deluxe Set', 55.0], ['100 glaskopspelden - spelden met glaskop - gekleurde kopspelden', 6.95], ['Oorbel schieter 2 stuks chirurgisch staal (RVS) | wegwerp oorschieter incl. alcoholdoekjes | Neuspiercing pistool | Steriele gaatjes schieter | Ear Piercing | Oor piercing pistool kit | Ear Piercing Gun Disposable Safety Asepsis Piercing Tool Kit', 12.95], ['MAT.S - 2 Kit Piercing gun + 2 Alcohol swabs - Wegwerp oorbel pistool + alcoholdoekjes - Wegwerp oorschieter - Neuspiercing pistool - Oorschieter - Oorbel prikken - Gaatjes prikken - Oorbel pistool - 2 STUKS', 7.97], ['Wegwerp steriele Gaatjes schieter -Ear Piercing Gun -Oor piercing pistool kit -Ear Stud -', 6.88], ['Schmetz naaimachine naalden universeel 130/705 H 70 / 80 / 90   (10 stuks totaal)', 6.5], ['Veiligheidsspelden, l: 22 mm, goud, 500 stuks', 8.8], ['100 Delige haaknaalden set - Haakset - Hobby set - Haken voor beginner Haken voor gevorderen.', 24.95], ['Professionele Textiel Schaar van Hoogwaardig Plaatstaal - 25 cm | Soft Grip Textielschaar | Stofschaar Professioneel voor Leer en Textiel | Handvat Fijn en Zacht', 10.99], ['Snijmat Rillstab A1 - 900x600mm - Uniek zelf-herstellend materiaal - Groen - 3-laags', 17.95], ['400 gekleurde speldjes - kopspelden', 11.5], ['Oorpiercing pistool - Oorbel Piercing - Oorbel Pistool - Oorbel - Gaatjes schieter - Oorpiercings - Gaatjes Prikker - Ear Piercing Gun - Ear Stud - Oorbel Gun - Wegwerp - Wegwerp Oorbel - Wegwerp Oorbel Pistool', 6.9], ['QY luxe Softgrip haaknaaldenset 25-delig met haak& brei accessoires in luxe etui - blauw', 24.95], ['9-Delige Haaknaaldenset met softgrip | Haaknaald Crochet Set', 7.88]]\n"
     ]
    }
   ],
   "source": [
    "productlijst = []\n",
    "\n",
    "for item in producten_alle_paginas:\n",
    "    if item.find(class_=\"product-prices\").getText() == '\\nNiet leverbaar\\n':\n",
    "        prijs = None\n",
    "    else:\n",
    "        prijs = float(item.meta['content'])\n",
    "    product = item.find(class_=\"product-title--inline\").a.getText()\n",
    "    productlijst.append([product, prijs])\n",
    "    \n",
    "print(productlijst[:150])"
   ]
  },
  {
   "cell_type": "code",
   "execution_count": 5,
   "metadata": {},
   "outputs": [
    {
     "name": "stdout",
     "output_type": "stream",
     "text": [
      "(3427, 2)\n"
     ]
    },
    {
     "data": {
      "text/plain": [
       "count    3382.000000\n",
       "mean       13.331458\n",
       "std        10.923355\n",
       "min         3.100000\n",
       "25%         6.880000\n",
       "50%        10.990000\n",
       "75%        17.880000\n",
       "max        55.000000\n",
       "Name: prijs, dtype: float64"
      ]
     },
     "execution_count": 5,
     "metadata": {},
     "output_type": "execute_result"
    }
   ],
   "source": [
    "df = pd.DataFrame(productlijst, columns=[\"Product\", \"prijs\"])\n",
    "print(df.shape)\n",
    "df[\"prijs\"].describe()"
   ]
  }
 ],
 "metadata": {
  "interpreter": {
   "hash": "be3492a5e888973eb70359e6380d1c6652c185929b9041468104d752a9a616f9"
  },
  "kernelspec": {
   "display_name": "Python 3.10.2 64-bit",
   "language": "python",
   "name": "python3"
  },
  "language_info": {
   "codemirror_mode": {
    "name": "ipython",
    "version": 3
   },
   "file_extension": ".py",
   "mimetype": "text/x-python",
   "name": "python",
   "nbconvert_exporter": "python",
   "pygments_lexer": "ipython3",
   "version": "3.10.2"
  },
  "orig_nbformat": 4
 },
 "nbformat": 4,
 "nbformat_minor": 2
}
