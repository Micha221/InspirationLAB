{
 "cells": [
  {
   "cell_type": "code",
   "execution_count": 1,
   "metadata": {},
   "outputs": [],
   "source": [
    "import pandas as pd\n",
    "import numpy as np\n",
    "import requests\n",
    "from bs4 import BeautifulSoup"
   ]
  },
  {
   "cell_type": "code",
   "execution_count": 2,
   "metadata": {},
   "outputs": [
    {
     "data": {
      "text/plain": [
       "3576"
      ]
     },
     "execution_count": 2,
     "metadata": {},
     "output_type": "execute_result"
    }
   ],
   "source": [
    "producten_alle_paginas = []\n",
    "\n",
    "for i in range(1,150):\n",
    "    response = requests.get(f\"https://www.bol.com/be/nl/s/?searchtext=tekenen\")\n",
    "    content = response.content\n",
    "    parser = BeautifulSoup(content, 'html.parser')\n",
    "    body = parser.body\n",
    "    producten = body.find_all(class_=\"product-item--row js_item_root\")\n",
    "    producten_alle_paginas.extend(producten)\n",
    "    \n",
    "len(producten_alle_paginas)"
   ]
  },
  {
   "cell_type": "code",
   "execution_count": 3,
   "metadata": {},
   "outputs": [
    {
     "name": "stdout",
     "output_type": "stream",
     "text": [
      "20.0\n",
      "Grote Panda & Kleine Draak\n"
     ]
    }
   ],
   "source": [
    "prijs = float(producten_alle_paginas[6].meta.get('content'))\n",
    "productnaam = producten_alle_paginas[6].find(class_=\"product-title--inline\").a.getText()\n",
    "print(prijs)\n",
    "print(productnaam)"
   ]
  },
  {
   "cell_type": "code",
   "execution_count": 4,
   "metadata": {},
   "outputs": [
    {
     "name": "stdout",
     "output_type": "stream",
     "text": [
      "[['Grafix Houten Kleurkoffer 86-delig', 16.13], ['Ik kan 1000 dingen tekenen', 15.95], [\"Hoe teken je eigenlijk... zo'n beetje alles?\", 9.99], ['Tekenboek voor veelbelovende kunstenaars', 17.5], ['Ik leer paarden tekenen', 13.95], ['De jongen, de mol, de vos en het paard', 20.0], ['Grote Panda & Kleine Draak', 20.0], ['Dessineo Tekenen - Hobbypakket Tekenmachine', 24.61], ['Tekenbord - Crafts & Co Lightpad A3 - Lichtbak voor Tekenen en Diamond Painting - Dimbaar - LED verlichting', 28.99], ['LCD Tekentablet Kinderen \"Roze\" 10 inch - Educatief Speelgoed Meisjes & Jongens - Kindertablet - Schrijfbord - Tekenbord - Cadeau', 24.95], ['STARKSØN® Professioneel 74-Delige Potloden Tekenset incl. Tekenpotloden, Schetspotloden, Schetsboek & Accessoires – Tekenen met Houtskool & Grafiet - De perfecte teken schets set voor volwassenen & kinderen', 35.95], ['Trizzle Carbonpapier - Zwart 100 - A4 - 100 vellen', 9.95], ['Het boek zonder tekeningen', 14.99], ['Mandala Kleurboek voor Volwassenen met 72 Kleurplaten - kleurplaat - tekenen - inkleuren - kleurtjes -', 5.5], ['Dessineo Disney Leren Tekenen - Hobbypakket Tekenmachine', 26.51], [\"80x Tesa Tack kneedgum/plakgum - Kneedbare plakgummetjes - Kneedgummetjes voor o.a. foto's, tekeningen en kaarten\", 4.79], ['STARKSØN® 30 Stuks Acryl Marker Stiften 0.7 mm Set – Acrylverf - Acrylstiften – Stenen, Glas & Eieren Schilderen – Happy Stones & Mandala Tekenen – Incl. 2 Sjablonen', 26.55], [\"Grafix kleur- en activiteitenboek - Unicorn - A4 - 64 pagina's - Kleuren - Meisjes - Kleurboek - Kinderen - Cadeau - Activiteiten - Boek - Geschenk - Tekeningen - Doeboek - Inkleuren - Kleurplaat - Colouring Book - Kleurplezier - Opdrachten Boekje\", 6.43], ['Tekenbord - Diamond Painting LED Lightpad A4 Set - Incl. Standaard & Sorteerdoos - Lichtbak Voor Tekenen - Dimbaar', 16.14], ['A2 Lichtbak voor Diamond Painting en Tekenen - mét 3 lichtsterktes - A2 Lightpad diamond painting en accessoires - Tekenborden - Lightpads', 79.9], ['STARKSØN® Professioneel 41-Delige Potloden Tekenset incl. Tekenpotloden, Schetspotloden, Schetsboek & Accessoires – Tekenen met Houtskool & Grafiet', 35.95], ['XL Nagelstudio Meisjes voor Lakken en Tekenen met vele Accessoires - Nail Art Pens - Nagelstudio Speelgoed - Nagelsalon Meisjes 6+ jaar - Nagellak Set - Nagellak Kinderen - Nagellak Meisjes - Met Droger', 23.95], ['33-Delig Professionele Schets Potloden Set - Teken Potloden - Accessoires – Tekenen met Houtskool en Grafiet - Etui - Teken Set - Potlood', 19.99], ['Magnetisch Tekenbord Voor Kinderen - Magisch Tekenbord - Magnetisch Whiteboard - Magnetisch Speelgoed - Leren Tekenen - Inclusief Pen & Stempels - Educatief Speelgoed - Peuter Speelgoed - Kerst Cadeautjes', 20.36], ['Grafix Houten Kleurkoffer 86-delig', 16.13], ['Ik kan 1000 dingen tekenen', 15.95], [\"Hoe teken je eigenlijk... zo'n beetje alles?\", 9.99], ['Tekenboek voor veelbelovende kunstenaars', 17.5], ['Ik leer paarden tekenen', 13.95], ['De jongen, de mol, de vos en het paard', 20.0], ['Grote Panda & Kleine Draak', 20.0], ['Dessineo Tekenen - Hobbypakket Tekenmachine', 24.61], ['Crafts & Co Lightpad A3 - Lichtbak voor Tekenen en Diamond Painting - Dimbaar - LED verlichting', 28.99], ['STARKSØN® Professioneel 74-Delige Potloden Tekenset incl. Tekenpotloden, Schetspotloden, Schetsboek & Accessoires – Tekenen met Houtskool & Grafiet - De perfecte teken schets set voor volwassenen & kinderen', 35.95], ['LCD Tekentablet Kinderen \"Roze\" 10 inch - Educatief Speelgoed Meisjes & Jongens - Kindertablet - Schrijfbord - Tekenbord - Cadeau', 24.95], ['Het boek zonder tekeningen', 14.99], ['Trizzle Carbonpapier - A4 - 100 vellen', 9.95], ['Mandala Kleurboek voor Volwassenen met 72 Kleurplaten - kleurplaat - tekenen - inkleuren - kleurtjes -', 5.5], ['Dessineo Disney Leren Tekenen - Hobbypakket Tekenmachine', 26.51], [\"80x Tesa Tack kneedgum/plakgum - Kneedbare plakgummetjes - Kneedgummetjes voor o.a. foto's, tekeningen en kaarten\", 4.79], ['33-Delig Professionele Schets Potloden Set - Teken Potloden - Accessoires – Tekenen met Houtskool en Grafiet - Etui - Teken Set - Potlood', 19.99], ['STARKSØN® 30 Stuks Acryl Marker Stiften 0.7 mm Set – Acrylverf - Acrylstiften – Stenen, Glas & Eieren Schilderen – Happy Stones & Mandala Tekenen – Incl. 2 Sjablonen', 26.55], [\"Grafix kleur- en activiteitenboek - Unicorn - A4 - 64 pagina's - Kleuren - Meisjes - Kleurboek - Kinderen - Cadeau - Activiteiten - Boek - Geschenk - Tekeningen - Doeboek - Inkleuren - Kleurplaat - Colouring Book - Kleurplezier - Opdrachten Boekje\", 6.43], ['A2 Lichtbak voor Diamond Painting en Tekenen - mét 3 lichtsterktes - A2 Lightpad diamond painting en accessoires - Tekenborden - Lightpads', 79.9], ['XL Nagelstudio Meisjes voor Lakken en Tekenen met vele Accessoires - Nail Art Pens - Nagelstudio Speelgoed - Nagelsalon Meisjes 6+ jaar - Nagellak Set - Nagellak Kinderen - Nagellak Meisjes - Met Droger', 23.95], ['Magnetisch Tekenbord Voor Kinderen - Magisch Tekenbord - Magnetisch Whiteboard - Magnetisch Speelgoed - Leren Tekenen - Inclusief Pen & Stempels - Educatief Speelgoed - Peuter Speelgoed - Kerst Cadeautjes', 20.36], ['STARKSØN® Professioneel 41-Delige Potloden Tekenset incl. Tekenpotloden, Schetspotloden, Schetsboek & Accessoires – Tekenen met Houtskool & Grafiet', 35.95], ['Diamond Painting LED Lightpad A4 Set - Incl. Standaard & Sorteerdoos - Lichtbak Voor Tekenen - Dimbaar', 16.14], ['Grafix Houten Kleurkoffer 86-delig', 16.13], ['Ik kan 1000 dingen tekenen', 15.95], [\"Hoe teken je eigenlijk... zo'n beetje alles?\", 9.99], ['Tekenboek voor veelbelovende kunstenaars', 17.5], ['Ik leer paarden tekenen', 13.95], ['De jongen, de mol, de vos en het paard', 20.0], ['Grote Panda & Kleine Draak', 20.0], ['Dessineo Tekenen - Hobbypakket Tekenmachine', 24.61], ['Crafts & Co Lightpad A3 - Lichtbak voor Tekenen en Diamond Painting - Dimbaar - LED verlichting', 28.99], ['STARKSØN® Professioneel 74-Delige Potloden Tekenset incl. Tekenpotloden, Schetspotloden, Schetsboek & Accessoires – Tekenen met Houtskool & Grafiet - De perfecte teken schets set voor volwassenen & kinderen', 35.95], ['LCD Tekentablet Kinderen \"Roze\" 10 inch - Educatief Speelgoed Meisjes & Jongens - Kindertablet - Schrijfbord - Tekenbord - Cadeau', 24.95], ['Het boek zonder tekeningen', 14.99], ['Trizzle Carbonpapier - Zwart 100 - A4 - 100 vellen', 9.95], ['Mandala Kleurboek voor Volwassenen met 72 Kleurplaten - kleurplaat - tekenen - inkleuren - kleurtjes -', 5.5], ['Dessineo Disney Leren Tekenen - Hobbypakket Tekenmachine', 26.51], [\"80x Tesa Tack kneedgum/plakgum - Kneedbare plakgummetjes - Kneedgummetjes voor o.a. foto's, tekeningen en kaarten\", 4.79], ['33-Delig Professionele Schets Potloden Set - Teken Potloden - Accessoires – Tekenen met Houtskool en Grafiet - Etui - Teken Set - Potlood', 19.99], ['STARKSØN® 30 Stuks Acryl Marker Stiften 0.7 mm Set – Acrylverf - Acrylstiften – Stenen, Glas & Eieren Schilderen – Happy Stones & Mandala Tekenen – Incl. 2 Sjablonen', 26.55], [\"Grafix kleur- en activiteitenboek - Unicorn - A4 - 64 pagina's - Kleuren - Meisjes - Kleurboek - Kinderen - Cadeau - Activiteiten - Boek - Geschenk - Tekeningen - Doeboek - Inkleuren - Kleurplaat - Colouring Book - Kleurplezier - Opdrachten Boekje\", 6.43], ['A2 Lichtbak voor Diamond Painting en Tekenen - mét 3 lichtsterktes - A2 Lightpad diamond painting en accessoires - Tekenborden - Lightpads', 79.9], ['XL Nagelstudio Meisjes voor Lakken en Tekenen met vele Accessoires - Nail Art Pens - Nagelstudio Speelgoed - Nagelsalon Meisjes 6+ jaar - Nagellak Set - Nagellak Kinderen - Nagellak Meisjes - Met Droger', 23.95], ['Magnetisch Tekenbord Voor Kinderen - Magisch Tekenbord - Magnetisch Whiteboard - Magnetisch Speelgoed - Leren Tekenen - Inclusief Pen & Stempels - Educatief Speelgoed - Peuter Speelgoed - Kerst Cadeautjes', 20.36], ['STARKSØN® Professioneel 41-Delige Potloden Tekenset incl. Tekenpotloden, Schetspotloden, Schetsboek & Accessoires – Tekenen met Houtskool & Grafiet', 35.95], ['Diamond Painting LED Lightpad A4 Set - Incl. Standaard & Sorteerdoos - Lichtbak Voor Tekenen - Dimbaar', 16.14], ['Grafix Houten Kleurkoffer 86-delig', 16.13], ['Ik kan 1000 dingen tekenen', 15.95], [\"Hoe teken je eigenlijk... zo'n beetje alles?\", 9.99], ['Tekenboek voor veelbelovende kunstenaars', 17.5], ['Ik leer paarden tekenen', 13.95], ['De jongen, de mol, de vos en het paard', 20.0], ['Grote Panda & Kleine Draak', 20.0], ['Dessineo Tekenen - Hobbypakket Tekenmachine', 24.61], ['Crafts & Co Lightpad A3 - Lichtbak voor Tekenen en Diamond Painting - Dimbaar - LED verlichting', 28.99], ['STARKSØN® Professioneel 74-Delige Potloden Tekenset incl. Tekenpotloden, Schetspotloden, Schetsboek & Accessoires – Tekenen met Houtskool & Grafiet - De perfecte teken schets set voor volwassenen & kinderen', 35.95], ['LCD Tekentablet Kinderen \"Roze\" 10 inch - Educatief Speelgoed Meisjes & Jongens - Kindertablet - Schrijfbord - Tekenbord - Cadeau', 24.95], ['Het boek zonder tekeningen', 14.99], ['Trizzle Carbonpapier Zwart - 100 Vellen Overtrekpapier voor Hobby en Tekenen - A4 Formaat', 9.95], ['Mandala Kleurboek voor Volwassenen met 72 Kleurplaten - kleurplaat - tekenen - inkleuren - kleurtjes -', 5.5], ['Dessineo Disney Leren Tekenen - Hobbypakket Tekenmachine', 26.51], [\"80x Tesa Tack kneedgum/plakgum - Kneedbare plakgummetjes - Kneedgummetjes voor o.a. foto's, tekeningen en kaarten\", 4.79], ['33-Delig Professionele Schets Potloden Set - Teken Potloden - Accessoires – Tekenen met Houtskool en Grafiet - Etui - Teken Set - Potlood', 19.99], ['STARKSØN® 30 Stuks Acryl Marker Stiften 0.7 mm Set – Acrylverf - Acrylstiften – Stenen, Glas & Eieren Schilderen – Happy Stones & Mandala Tekenen – Incl. 2 Sjablonen', 26.55], [\"Grafix kleur- en activiteitenboek - Unicorn - A4 - 64 pagina's - Kleuren - Meisjes - Kleurboek - Kinderen - Cadeau - Activiteiten - Boek - Geschenk - Tekeningen - Doeboek - Inkleuren - Kleurplaat - Colouring Book - Kleurplezier - Opdrachten Boekje\", 6.43], ['A2 Lichtbak voor Diamond Painting en Tekenen - mét 3 lichtsterktes - A2 Lightpad diamond painting en accessoires - Tekenborden - Lightpads', 79.9], ['XL Nagelstudio Meisjes voor Lakken en Tekenen met vele Accessoires - Nail Art Pens - Nagelstudio Speelgoed - Nagelsalon Meisjes 6+ jaar - Nagellak Set - Nagellak Kinderen - Nagellak Meisjes - Met Droger', 23.95], ['Magnetisch Tekenbord Voor Kinderen - Magisch Tekenbord - Magnetisch Whiteboard - Magnetisch Speelgoed - Leren Tekenen - Inclusief Pen & Stempels - Educatief Speelgoed - Peuter Speelgoed - Kerst Cadeautjes', 20.36], ['STARKSØN® Professioneel 41-Delige Potloden Tekenset incl. Tekenpotloden, Schetspotloden, Schetsboek & Accessoires – Tekenen met Houtskool & Grafiet', 35.95], ['Diamond Painting LED Lightpad A4 Set - Incl. Standaard & Sorteerdoos - Lichtbak Voor Tekenen - Dimbaar', 16.14], ['Grafix Houten Kleurkoffer 86-delig', 16.13], ['Ik kan 1000 dingen tekenen', 15.95], [\"Hoe teken je eigenlijk... zo'n beetje alles?\", 9.99], ['Tekenboek voor veelbelovende kunstenaars', 17.5], ['Ik leer paarden tekenen', 13.95], ['De jongen, de mol, de vos en het paard', 20.0], ['Grote Panda & Kleine Draak', 20.0], ['Dessineo Tekenen - Hobbypakket Tekenmachine', 24.61], ['Tekenbord - Crafts & Co Lightpad A3 - Lichtbak voor Tekenen en Diamond Painting - Dimbaar - LED verlichting', 28.99], ['STARKSØN® Professioneel 74-Delige Potloden Tekenset incl. Tekenpotloden, Schetspotloden, Schetsboek & Accessoires – Tekenen met Houtskool & Grafiet - De perfecte teken schets set voor volwassenen & kinderen', 35.95], ['LCD Tekentablet Kinderen \"Roze\" 10 inch - Educatief Speelgoed Meisjes & Jongens - Kindertablet - Schrijfbord - Tekenbord - Cadeau', 24.95], ['Het boek zonder tekeningen', 14.99], ['Trizzle Carbonpapier Zwart - 100 Vellen Overtrekpapier voor Hobby en Tekenen - A4 Formaat', 9.95], ['Mandala Kleurboek voor Volwassenen met 72 Kleurplaten - kleurplaat - tekenen - inkleuren - kleurtjes -', 5.5], ['Dessineo Disney Leren Tekenen - Hobbypakket Tekenmachine', 26.51], [\"80x Tesa Tack kneedgum/plakgum - Kneedbare plakgummetjes - Kneedgummetjes voor o.a. foto's, tekeningen en kaarten\", 4.79], ['33-Delig Professionele Schets Potloden Set - Teken Potloden - Accessoires – Tekenen met Houtskool en Grafiet - Etui - Teken Set - Potlood', 19.99], ['STARKSØN® 30 Stuks Acryl Marker Stiften 0.7 mm Set – Acrylverf - Acrylstiften – Stenen, Glas & Eieren Schilderen – Happy Stones & Mandala Tekenen – Incl. 2 Sjablonen', 26.55], [\"Grafix kleur- en activiteitenboek - Unicorn - A4 - 64 pagina's - Kleuren - Meisjes - Kleurboek - Kinderen - Cadeau - Activiteiten - Boek - Geschenk - Tekeningen - Doeboek - Inkleuren - Kleurplaat - Colouring Book - Kleurplezier - Opdrachten Boekje\", 6.43], ['A2 Lichtbak voor Diamond Painting en Tekenen - mét 3 lichtsterktes - A2 Lightpad diamond painting en accessoires - Tekenborden - Lightpads', 79.9], ['XL Nagelstudio Meisjes voor Lakken en Tekenen met vele Accessoires - Nail Art Pens - Nagelstudio Speelgoed - Nagelsalon Meisjes 6+ jaar - Nagellak Set - Nagellak Kinderen - Nagellak Meisjes - Met Droger', 23.95], ['Magnetisch Tekenbord Voor Kinderen - Magisch Tekenbord - Magnetisch Whiteboard - Magnetisch Speelgoed - Leren Tekenen - Inclusief Pen & Stempels - Educatief Speelgoed - Peuter Speelgoed - Kerst Cadeautjes', 20.36], ['STARKSØN® Professioneel 41-Delige Potloden Tekenset incl. Tekenpotloden, Schetspotloden, Schetsboek & Accessoires – Tekenen met Houtskool & Grafiet', 35.95], ['Tekenbord - Diamond Painting LED Lightpad A4 Set - Incl. Standaard & Sorteerdoos - Lichtbak Voor Tekenen - Dimbaar', 16.14], ['Grafix Houten Kleurkoffer 86-delig', 16.13], ['Ik kan 1000 dingen tekenen', 15.95], [\"Hoe teken je eigenlijk... zo'n beetje alles?\", 9.99], ['Tekenboek voor veelbelovende kunstenaars', 17.5], ['Ik leer paarden tekenen', 13.95], ['De jongen, de mol, de vos en het paard', 20.0], ['Grote Panda & Kleine Draak', 20.0], ['Dessineo Tekenen - Hobbypakket Tekenmachine', 24.61], ['Tekenbord - Crafts & Co Lightpad A3 - Lichtbak voor Tekenen en Diamond Painting - Dimbaar - LED verlichting', 28.99], ['STARKSØN® Professioneel 74-Delige Potloden Tekenset incl. Tekenpotloden, Schetspotloden, Schetsboek & Accessoires – Tekenen met Houtskool & Grafiet - De perfecte teken schets set voor volwassenen & kinderen', 35.95], ['LCD Tekentablet Kinderen \"Roze\" 10 inch - Educatief Speelgoed Meisjes & Jongens - Kindertablet - Schrijfbord - Tekenbord - Cadeau', 24.95], ['Het boek zonder tekeningen', 14.99], ['Trizzle Carbonpapier - A4 - 100 vellen', 9.95], ['Mandala Kleurboek voor Volwassenen met 72 Kleurplaten - kleurplaat - tekenen - inkleuren - kleurtjes -', 5.5], ['Dessineo Disney Leren Tekenen - Hobbypakket Tekenmachine', 26.51], [\"80x Tesa Tack kneedgum/plakgum - Kneedbare plakgummetjes - Kneedgummetjes voor o.a. foto's, tekeningen en kaarten\", 4.79], ['33-Delig Professionele Schets Potloden Set - Teken Potloden - Accessoires – Tekenen met Houtskool en Grafiet - Etui - Teken Set - Potlood', 19.99], ['STARKSØN® 30 Stuks Acryl Marker Stiften 0.7 mm Set – Acrylverf - Acrylstiften – Stenen, Glas & Eieren Schilderen – Happy Stones & Mandala Tekenen – Incl. 2 Sjablonen', 26.55], [\"Grafix kleur- en activiteitenboek - Unicorn - A4 - 64 pagina's - Kleuren - Meisjes - Kleurboek - Kinderen - Cadeau - Activiteiten - Boek - Geschenk - Tekeningen - Doeboek - Inkleuren - Kleurplaat - Colouring Book - Kleurplezier - Opdrachten Boekje\", 6.43], ['A2 Lichtbak voor Diamond Painting en Tekenen - mét 3 lichtsterktes - A2 Lightpad diamond painting en accessoires - Tekenborden - Lightpads', 79.9], ['XL Nagelstudio Meisjes voor Lakken en Tekenen met vele Accessoires - Nail Art Pens - Nagelstudio Speelgoed - Nagelsalon Meisjes 6+ jaar - Nagellak Set - Nagellak Kinderen - Nagellak Meisjes - Met Droger', 23.95], ['Magnetisch Tekenbord Voor Kinderen - Magisch Tekenbord - Magnetisch Whiteboard - Magnetisch Speelgoed - Leren Tekenen - Inclusief Pen & Stempels - Educatief Speelgoed - Peuter Speelgoed - Kerst Cadeautjes', 20.36], ['STARKSØN® Professioneel 41-Delige Potloden Tekenset incl. Tekenpotloden, Schetspotloden, Schetsboek & Accessoires – Tekenen met Houtskool & Grafiet', 35.95], ['Tekenbord - Diamond Painting LED Lightpad A4 Set - Incl. Standaard & Sorteerdoos - Lichtbak Voor Tekenen - Dimbaar', 16.14], ['Grafix Houten Kleurkoffer 86-delig', 16.13], ['Ik kan 1000 dingen tekenen', 15.95], [\"Hoe teken je eigenlijk... zo'n beetje alles?\", 9.99], ['Tekenboek voor veelbelovende kunstenaars', 17.5], ['Ik leer paarden tekenen', 13.95], ['De jongen, de mol, de vos en het paard', 20.0]]\n"
     ]
    }
   ],
   "source": [
    "productlijst = []\n",
    "\n",
    "for item in producten_alle_paginas:\n",
    "    if item.find(class_=\"product-prices\").getText() == '\\nNiet leverbaar\\n':\n",
    "        prijs = None\n",
    "    else:\n",
    "        prijs = float(item.meta['content'])\n",
    "    product = item.find(class_=\"product-title--inline\").a.getText()\n",
    "    productlijst.append([product, prijs])\n",
    "    \n",
    "print(productlijst[:150])"
   ]
  },
  {
   "cell_type": "code",
   "execution_count": 5,
   "metadata": {},
   "outputs": [
    {
     "name": "stdout",
     "output_type": "stream",
     "text": [
      "(3576, 2)\n"
     ]
    },
    {
     "data": {
      "text/plain": [
       "count    3576.00000\n",
       "mean       21.62625\n",
       "std        14.72464\n",
       "min         4.79000\n",
       "25%        14.73000\n",
       "50%        19.99500\n",
       "75%        25.34000\n",
       "max        79.90000\n",
       "Name: prijs, dtype: float64"
      ]
     },
     "execution_count": 5,
     "metadata": {},
     "output_type": "execute_result"
    }
   ],
   "source": [
    "df = pd.DataFrame(productlijst, columns=[\"Product\", \"prijs\"])\n",
    "print(df.shape)\n",
    "df[\"prijs\"].describe()"
   ]
  }
 ],
 "metadata": {
  "interpreter": {
   "hash": "be3492a5e888973eb70359e6380d1c6652c185929b9041468104d752a9a616f9"
  },
  "kernelspec": {
   "display_name": "Python 3.10.2 64-bit",
   "language": "python",
   "name": "python3"
  },
  "language_info": {
   "codemirror_mode": {
    "name": "ipython",
    "version": 3
   },
   "file_extension": ".py",
   "mimetype": "text/x-python",
   "name": "python",
   "nbconvert_exporter": "python",
   "pygments_lexer": "ipython3",
   "version": "3.10.2"
  },
  "orig_nbformat": 4
 },
 "nbformat": 4,
 "nbformat_minor": 2
}
