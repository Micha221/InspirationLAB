{
 "cells": [
  {
   "cell_type": "code",
   "execution_count": 1,
   "metadata": {},
   "outputs": [
    {
     "name": "stdout",
     "output_type": "stream",
     "text": [
      "Collecting beautifulsoup\n",
      "  Downloading BeautifulSoup-3.2.2.tar.gz (32 kB)\n",
      "  Downloading BeautifulSoup-3.2.1.tar.gz (31 kB)\n",
      "  Downloading BeautifulSoup-3.2.0.tar.gz (31 kB)\n",
      "Note: you may need to restart the kernel to use updated packages.\n"
     ]
    },
    {
     "name": "stderr",
     "output_type": "stream",
     "text": [
      "    ERROR: Command errored out with exit status 1:\n",
      "     command: 'C:\\Users\\Sarah Beunen\\AppData\\Local\\Programs\\Python\\Python310\\python.exe' -c 'import io, os, sys, setuptools, tokenize; sys.argv[0] = '\"'\"'C:\\\\Users\\\\Sarah Beunen\\\\AppData\\\\Local\\\\Temp\\\\pip-install-azrv8a1a\\\\beautifulsoup_446469e4260941ec8c414188dd71e617\\\\setup.py'\"'\"'; __file__='\"'\"'C:\\\\Users\\\\Sarah Beunen\\\\AppData\\\\Local\\\\Temp\\\\pip-install-azrv8a1a\\\\beautifulsoup_446469e4260941ec8c414188dd71e617\\\\setup.py'\"'\"';f = getattr(tokenize, '\"'\"'open'\"'\"', open)(__file__) if os.path.exists(__file__) else io.StringIO('\"'\"'from setuptools import setup; setup()'\"'\"');code = f.read().replace('\"'\"'\\r\\n'\"'\"', '\"'\"'\\n'\"'\"');f.close();exec(compile(code, __file__, '\"'\"'exec'\"'\"'))' egg_info --egg-base 'C:\\Users\\Sarah Beunen\\AppData\\Local\\Temp\\pip-pip-egg-info-lwm_96st'\n",
      "         cwd: C:\\Users\\Sarah Beunen\\AppData\\Local\\Temp\\pip-install-azrv8a1a\\beautifulsoup_446469e4260941ec8c414188dd71e617\\\n",
      "    Complete output (6 lines):\n",
      "    Traceback (most recent call last):\n",
      "      File \"<string>\", line 1, in <module>\n",
      "      File \"C:\\Users\\Sarah Beunen\\AppData\\Local\\Temp\\pip-install-azrv8a1a\\beautifulsoup_446469e4260941ec8c414188dd71e617\\setup.py\", line 3\n",
      "        \"You're trying to run a very old release of Beautiful Soup under Python 3. This will not work.\"<>\"Please use Beautiful Soup 4, available through the pip package 'beautifulsoup4'.\"\n",
      "                                                                                                       ^^\n",
      "    SyntaxError: invalid syntax\n",
      "    ----------------------------------------\n",
      "WARNING: Discarding https://files.pythonhosted.org/packages/40/f2/6c9f2f3e696ee6a1fb0e4d7850617e224ed2b0b1e872110abffeca2a09d4/BeautifulSoup-3.2.2.tar.gz#sha256=a04169602bff6e3138b1259dbbf491f5a27f9499dea9a8fbafd48843f9d89970 (from https://pypi.org/simple/beautifulsoup/). Command errored out with exit status 1: python setup.py egg_info Check the logs for full command output.\n",
      "    ERROR: Command errored out with exit status 1:\n",
      "     command: 'C:\\Users\\Sarah Beunen\\AppData\\Local\\Programs\\Python\\Python310\\python.exe' -c 'import io, os, sys, setuptools, tokenize; sys.argv[0] = '\"'\"'C:\\\\Users\\\\Sarah Beunen\\\\AppData\\\\Local\\\\Temp\\\\pip-install-azrv8a1a\\\\beautifulsoup_18608d9c8c754f9dbcd5625bcb126717\\\\setup.py'\"'\"'; __file__='\"'\"'C:\\\\Users\\\\Sarah Beunen\\\\AppData\\\\Local\\\\Temp\\\\pip-install-azrv8a1a\\\\beautifulsoup_18608d9c8c754f9dbcd5625bcb126717\\\\setup.py'\"'\"';f = getattr(tokenize, '\"'\"'open'\"'\"', open)(__file__) if os.path.exists(__file__) else io.StringIO('\"'\"'from setuptools import setup; setup()'\"'\"');code = f.read().replace('\"'\"'\\r\\n'\"'\"', '\"'\"'\\n'\"'\"');f.close();exec(compile(code, __file__, '\"'\"'exec'\"'\"'))' egg_info --egg-base 'C:\\Users\\Sarah Beunen\\AppData\\Local\\Temp\\pip-pip-egg-info-ecd7s_9b'\n",
      "         cwd: C:\\Users\\Sarah Beunen\\AppData\\Local\\Temp\\pip-install-azrv8a1a\\beautifulsoup_18608d9c8c754f9dbcd5625bcb126717\\\n",
      "    Complete output (6 lines):\n",
      "    Traceback (most recent call last):\n",
      "      File \"<string>\", line 1, in <module>\n",
      "      File \"C:\\Users\\Sarah Beunen\\AppData\\Local\\Temp\\pip-install-azrv8a1a\\beautifulsoup_18608d9c8c754f9dbcd5625bcb126717\\setup.py\", line 22\n",
      "        print \"Unit tests have failed!\"\n",
      "        ^^^^^^^^^^^^^^^^^^^^^^^^^^^^^^^\n",
      "    SyntaxError: Missing parentheses in call to 'print'. Did you mean print(...)?\n",
      "    ----------------------------------------\n",
      "WARNING: Discarding https://files.pythonhosted.org/packages/1e/ee/295988deca1a5a7accd783d0dfe14524867e31abb05b6c0eeceee49c759d/BeautifulSoup-3.2.1.tar.gz#sha256=6a8cb4401111e011b579c8c52a51cdab970041cc543814bbd9577a4529fe1cdb (from https://pypi.org/simple/beautifulsoup/). Command errored out with exit status 1: python setup.py egg_info Check the logs for full command output.\n",
      "    ERROR: Command errored out with exit status 1:\n",
      "     command: 'C:\\Users\\Sarah Beunen\\AppData\\Local\\Programs\\Python\\Python310\\python.exe' -c 'import io, os, sys, setuptools, tokenize; sys.argv[0] = '\"'\"'C:\\\\Users\\\\Sarah Beunen\\\\AppData\\\\Local\\\\Temp\\\\pip-install-azrv8a1a\\\\beautifulsoup_75fa8abfb35d4cef866fefa8d9a41291\\\\setup.py'\"'\"'; __file__='\"'\"'C:\\\\Users\\\\Sarah Beunen\\\\AppData\\\\Local\\\\Temp\\\\pip-install-azrv8a1a\\\\beautifulsoup_75fa8abfb35d4cef866fefa8d9a41291\\\\setup.py'\"'\"';f = getattr(tokenize, '\"'\"'open'\"'\"', open)(__file__) if os.path.exists(__file__) else io.StringIO('\"'\"'from setuptools import setup; setup()'\"'\"');code = f.read().replace('\"'\"'\\r\\n'\"'\"', '\"'\"'\\n'\"'\"');f.close();exec(compile(code, __file__, '\"'\"'exec'\"'\"'))' egg_info --egg-base 'C:\\Users\\Sarah Beunen\\AppData\\Local\\Temp\\pip-pip-egg-info-1mivfsur'\n",
      "         cwd: C:\\Users\\Sarah Beunen\\AppData\\Local\\Temp\\pip-install-azrv8a1a\\beautifulsoup_75fa8abfb35d4cef866fefa8d9a41291\\\n",
      "    Complete output (6 lines):\n",
      "    Traceback (most recent call last):\n",
      "      File \"<string>\", line 1, in <module>\n",
      "      File \"C:\\Users\\Sarah Beunen\\AppData\\Local\\Temp\\pip-install-azrv8a1a\\beautifulsoup_75fa8abfb35d4cef866fefa8d9a41291\\setup.py\", line 22\n",
      "        print \"Unit tests have failed!\"\n",
      "        ^^^^^^^^^^^^^^^^^^^^^^^^^^^^^^^\n",
      "    SyntaxError: Missing parentheses in call to 'print'. Did you mean print(...)?\n",
      "    ----------------------------------------\n",
      "WARNING: Discarding https://files.pythonhosted.org/packages/33/fe/15326560884f20d792d3ffc7fe8f639aab88647c9d46509a240d9bfbb6b1/BeautifulSoup-3.2.0.tar.gz#sha256=0dc52d07516c1665c9dd9f0a390a7a054bfb7b147a50b2866fb116b8909dfd37 (from https://pypi.org/simple/beautifulsoup/). Command errored out with exit status 1: python setup.py egg_info Check the logs for full command output.\n",
      "ERROR: Could not find a version that satisfies the requirement beautifulsoup (from versions: 3.2.0, 3.2.1, 3.2.2)\n",
      "ERROR: No matching distribution found for beautifulsoup\n",
      "WARNING: You are using pip version 21.2.4; however, version 22.0.4 is available.\n",
      "You should consider upgrading via the 'C:\\Users\\Sarah Beunen\\AppData\\Local\\Programs\\Python\\Python310\\python.exe -m pip install --upgrade pip' command.\n"
     ]
    }
   ],
   "source": [
    "%pip install beautifulsoup"
   ]
  },
  {
   "cell_type": "code",
   "execution_count": 3,
   "metadata": {},
   "outputs": [
    {
     "name": "stdout",
     "output_type": "stream",
     "text": [
      "Collecting requests\n",
      "  Downloading requests-2.27.1-py2.py3-none-any.whl (63 kB)\n",
      "Collecting charset-normalizer~=2.0.0\n",
      "  Downloading charset_normalizer-2.0.12-py3-none-any.whl (39 kB)\n",
      "Collecting certifi>=2017.4.17\n",
      "  Downloading certifi-2021.10.8-py2.py3-none-any.whl (149 kB)\n",
      "Collecting idna<4,>=2.5\n",
      "  Downloading idna-3.3-py3-none-any.whl (61 kB)\n",
      "Collecting urllib3<1.27,>=1.21.1\n",
      "  Downloading urllib3-1.26.9-py2.py3-none-any.whl (138 kB)\n",
      "Installing collected packages: urllib3, idna, charset-normalizer, certifi, requests\n",
      "Successfully installed certifi-2021.10.8 charset-normalizer-2.0.12 idna-3.3 requests-2.27.1 urllib3-1.26.9\n",
      "Note: you may need to restart the kernel to use updated packages.\n"
     ]
    },
    {
     "name": "stderr",
     "output_type": "stream",
     "text": [
      "WARNING: You are using pip version 21.2.4; however, version 22.0.4 is available.\n",
      "You should consider upgrading via the 'C:\\Users\\Sarah Beunen\\AppData\\Local\\Programs\\Python\\Python310\\python.exe -m pip install --upgrade pip' command.\n"
     ]
    }
   ],
   "source": [
    "%pip install requests"
   ]
  },
  {
   "cell_type": "code",
   "execution_count": 7,
   "metadata": {},
   "outputs": [
    {
     "name": "stdout",
     "output_type": "stream",
     "text": [
      "Collecting bs4\n",
      "  Downloading bs4-0.0.1.tar.gz (1.1 kB)\n",
      "Collecting beautifulsoup4\n",
      "  Downloading beautifulsoup4-4.11.1-py3-none-any.whl (128 kB)\n",
      "Collecting soupsieve>1.2\n",
      "  Downloading soupsieve-2.3.2.post1-py3-none-any.whl (37 kB)\n",
      "Using legacy 'setup.py install' for bs4, since package 'wheel' is not installed.\n",
      "Installing collected packages: soupsieve, beautifulsoup4, bs4\n",
      "    Running setup.py install for bs4: started\n",
      "    Running setup.py install for bs4: finished with status 'done'\n",
      "Successfully installed beautifulsoup4-4.11.1 bs4-0.0.1 soupsieve-2.3.2.post1\n",
      "Note: you may need to restart the kernel to use updated packages.\n"
     ]
    },
    {
     "name": "stderr",
     "output_type": "stream",
     "text": [
      "WARNING: You are using pip version 21.2.4; however, version 22.0.4 is available.\n",
      "You should consider upgrading via the 'C:\\Users\\Sarah Beunen\\AppData\\Local\\Programs\\Python\\Python310\\python.exe -m pip install --upgrade pip' command.\n"
     ]
    }
   ],
   "source": [
    "%pip install bs4"
   ]
  },
  {
   "cell_type": "code",
   "execution_count": 4,
   "metadata": {},
   "outputs": [],
   "source": [
    "import pandas as pd\n",
    "import numpy as np\n",
    "import requests\n",
    "from bs4 import BeautifulSoup"
   ]
  },
  {
   "cell_type": "code",
   "execution_count": 5,
   "metadata": {},
   "outputs": [
    {
     "data": {
      "text/plain": [
       "3576"
      ]
     },
     "execution_count": 5,
     "metadata": {},
     "output_type": "execute_result"
    }
   ],
   "source": [
    "producten_alle_paginas = []\n",
    "\n",
    "for i in range(1,150):\n",
    "    response = requests.get(f\"https://www.bol.com/be/nl/s/?page=1&searchtext=voetbal&view=list&noon=\")\n",
    "    content = response.content\n",
    "    parser = BeautifulSoup(content, 'html.parser')\n",
    "    body = parser.body\n",
    "    producten = body.find_all(class_=\"product-item--row js_item_root\")\n",
    "    producten_alle_paginas.extend(producten)\n",
    "    \n",
    "len(producten_alle_paginas)"
   ]
  },
  {
   "cell_type": "code",
   "execution_count": 6,
   "metadata": {},
   "outputs": [
    {
     "name": "stdout",
     "output_type": "stream",
     "text": [
      "11.89\n",
      "Derbystar Streetball Voetbal Unisex - Maat 5\n"
     ]
    }
   ],
   "source": [
    "prijs = float(producten_alle_paginas[0].meta.get('content'))\n",
    "productnaam = producten_alle_paginas[0].find(class_=\"product-title--inline\").a.getText()\n",
    "print(prijs)\n",
    "print(productnaam)"
   ]
  },
  {
   "cell_type": "code",
   "execution_count": 8,
   "metadata": {},
   "outputs": [
    {
     "name": "stdout",
     "output_type": "stream",
     "text": [
      "[['Derbystar Streetball Voetbal Unisex - Maat 5', 11.89], ['Puma Voetbal - Final 6 - Maat 5 - Wit', 16.94], ['PSG camo voetbal - 5 - maat 5', 22.34], ['Avento Straatvoetbal - El Classico - Wit/Zwart - Maat 5', 9.49], ['Derbystar Classic TT 5 Voetbal - Multi Kleuren - 3 Vak Goud - Maat 5', 29.95], ['Voetbal bal plastic 4 stuks 23 cm - 90 gram - diverse kleuren - random verzending - rood blauw geel oranje', 17.5], ['adidas Uniforia EK 2020 Voetbal - Multicolor - Maat 5', 28.94], ['Avento Straatvoetbal - Worldcup - Zwart/Rood/Geel/Wit - 5', 10.19], ['Adidas - AL RIHLA WK - TRAINING VOETBAL - maat 5', 31.19], ['adidas Al Rihla League Giftbox - Maat 5', 37.76], [\"Adidas Champions League voetbal 'Aqua' - maat 5 (standaard) - voetbal - kids - bal - maat 5\", 23.9], [\"Voetbal Select 'Club' - wit/geel - maat 4\", 29.99], ['Manchester City thuis voetbal - 5 - maat 5', 19.95], ['Techniekbal maat 2 - mini trainingsbal met koord en handgreep - mini bal voor thuis', 19.99], ['adidas Al Rihla League Giftbox - Maat 4', 39.0], ['Select Team Trainingsbal - Wit', 37.79], ['Voetbaltrainer - Bal - Techniekbal maat 2 - Skillball - Mini Voetbal - Voetbal voor kleintjes - Lederen voetbal - Leervoetbal - Jeugdvoetbal - Voetbal met touw', 19.99], ['The BRIGHT™ Lichtgevende Voetbal | Reflecterend | Holografisch | Glow in the Dark | Kinderen en Volwassenen | Unisex | Wit/Zwart/Roze/Blauw/Geel | Maat 5', 34.95], ['Foam softbal voetbal groen 20 cm - Zachte speelgoed voetbal', 11.54], ['Select Voetbal Team geel grijsblauw maat 5', 37.79], ['Nike - Park Team Football - White football-5', 17.89], ['Avento Voetbal Glossy - World Soccer - Zwart/Geel - maat 5', 13.69], ['2x Foam softbal voetbal geel 20 cm - Zachte schuimrubberen speelgoed voetballen', 17.95], ['Select Brillant Replica Ball BRILLANT WHT-BLK, Unisex, Wit, Bal naar voetbal, maat: 5', 26.78], ['Derbystar Streetball Voetbal Unisex - Maat 5', 11.89], ['Puma Voetbal - Final 6 - Maat 5 - Wit', 16.94], ['PSG camo voetbal - 5 - maat 5', 22.34], ['Avento Straatvoetbal - El Classico - Wit/Zwart - Maat 5', 9.49], ['Derbystar Classic TT 5 Voetbal - Multi Kleuren - 3 Vak Goud - Maat 5', 29.95], ['Voetbal bal plastic 4 stuks 23 cm - 90 gram - diverse kleuren - random verzending - rood blauw geel oranje', 17.5], ['adidas Uniforia EK 2020 Voetbal - Multicolor - Maat 5', 28.94], ['Avento Straatvoetbal - Worldcup - Zwart/Rood/Geel/Wit - 5', 10.19], ['Adidas - AL RIHLA WK - TRAINING VOETBAL - maat 5', 31.19], ['adidas Al Rihla League Giftbox - Maat 5', 37.76], [\"Adidas Champions League voetbal 'Aqua' - maat 5 (standaard) - voetbal - kids - bal - maat 5\", 23.9], [\"Voetbal Select 'Club' - wit/geel - maat 4\", 29.99], ['Manchester City thuis voetbal - 5 - maat 5', 19.95], ['Techniekbal maat 2 - mini trainingsbal met koord en handgreep - mini bal voor thuis', 19.99], ['adidas Al Rihla League Giftbox - Maat 4', 39.0], ['Select Team Trainingsbal - Wit', 37.79], ['Voetbaltrainer - Bal - Techniekbal maat 2 - Skillball - Mini Voetbal - Voetbal voor kleintjes - Lederen voetbal - Leervoetbal - Jeugdvoetbal - Voetbal met touw', 19.99], ['The BRIGHT™ Lichtgevende Voetbal | Reflecterend | Holografisch | Glow in the Dark | Kinderen en Volwassenen | Unisex | Wit/Zwart/Roze/Blauw/Geel | Maat 5', 34.95], ['Foam softbal voetbal groen 20 cm - Zachte speelgoed voetbal', 11.54], ['Select Voetbal Team geel grijsblauw maat 5', 37.79], ['Nike - Park Team Football - White football-5', 17.89], ['Avento Voetbal Glossy - World Soccer - Zwart/Geel - maat 5', 13.69], ['2x Foam softbal voetbal geel 20 cm - Zachte schuimrubberen speelgoed voetballen', 17.95], ['Select Brillant Replica Ball BRILLANT WHT-BLK, Unisex, Wit, Bal naar voetbal, maat: 5', 26.78], ['Derbystar Streetball Voetbal Unisex - Maat 5', 11.89], ['Puma Voetbal - Final 6 - Maat 5 - Wit', 16.94], ['PSG camo voetbal - 5 - maat 5', 22.34], ['Avento Straatvoetbal - El Classico - Wit/Zwart - Maat 5', 9.49], ['Derbystar Classic TT 5 Voetbal - Multi Kleuren - 3 Vak Goud - Maat 5', 29.95], ['Voetbal bal plastic 4 stuks 23 cm - 90 gram - diverse kleuren - random verzending - rood blauw geel oranje', 17.5], ['adidas Uniforia EK 2020 Voetbal - Multicolor - Maat 5', 28.94], ['Avento Straatvoetbal - Worldcup - Zwart/Rood/Geel/Wit - 5', 10.19], ['Adidas - AL RIHLA WK - TRAINING VOETBAL - maat 5', 31.19], ['adidas Al Rihla League Giftbox - Maat 5', 37.76], [\"Adidas Champions League voetbal 'Aqua' - maat 5 (standaard) - voetbal - kids - bal - maat 5\", 23.9], [\"Voetbal Select 'Club' - wit/geel - maat 4\", 29.99], ['Manchester City thuis voetbal - 5 - maat 5', 19.95], ['Techniekbal maat 2 - mini trainingsbal met koord en handgreep - mini bal voor thuis', 19.99], ['adidas Al Rihla League Giftbox - Maat 4', 39.0], ['Select Team Trainingsbal - Wit', 37.79], ['Voetbaltrainer - Bal - Techniekbal maat 2 - Skillball - Mini Voetbal - Voetbal voor kleintjes - Lederen voetbal - Leervoetbal - Jeugdvoetbal - Voetbal met touw', 19.99], ['The BRIGHT™ Lichtgevende Voetbal | Reflecterend | Holografisch | Glow in the Dark | Kinderen en Volwassenen | Unisex | Wit/Zwart/Roze/Blauw/Geel | Maat 5', 34.95], ['Foam softbal voetbal groen 20 cm - Zachte speelgoed voetbal', 11.54], ['Select Voetbal Team geel grijsblauw maat 5', 37.79], ['Nike - Park Team Football - White football-5', 17.89], ['Avento Voetbal Glossy - World Soccer - Zwart/Geel - maat 5', 13.69], ['2x Foam softbal voetbal geel 20 cm - Zachte schuimrubberen speelgoed voetballen', 17.95], ['Select Brillant Replica Ball BRILLANT WHT-BLK, Unisex, Wit, Bal naar voetbal, maat: 5', 26.78], ['Derbystar Streetball Voetbal Unisex - Maat 5', 11.89], ['Puma Voetbal - Final 6 - Maat 5 - Wit', 16.94], ['PSG camo voetbal - 5 - maat 5', 22.34], ['Avento Straatvoetbal - El Classico - Wit/Zwart - Maat 5', 9.49], ['Derbystar Classic TT 5 Voetbal - Multi Kleuren - 3 Vak Goud - Maat 5', 29.95], ['Voetbal bal plastic 4 stuks 23 cm - 90 gram - diverse kleuren - random verzending - rood blauw geel oranje', 17.5], ['adidas Uniforia EK 2020 Voetbal - Multicolor - Maat 5', 28.94], ['Avento Straatvoetbal - Worldcup - Zwart/Rood/Geel/Wit - 5', 10.19], ['Adidas - AL RIHLA WK - TRAINING VOETBAL - maat 5', 31.19], ['adidas Al Rihla League Giftbox - Maat 5', 37.76], [\"Adidas Champions League voetbal 'Aqua' - maat 5 (standaard) - voetbal - kids - bal - maat 5\", 23.9], [\"Voetbal Select 'Club' - wit/geel - maat 4\", 29.99], ['Manchester City thuis voetbal - 5 - maat 5', 19.95], ['Techniekbal maat 2 - mini trainingsbal met koord en handgreep - mini bal voor thuis', 19.99], ['adidas Al Rihla League Giftbox - Maat 4', 39.0], ['Select Team Trainingsbal - Wit', 37.79], ['Voetbaltrainer - Bal - Techniekbal maat 2 - Skillball - Mini Voetbal - Voetbal voor kleintjes - Lederen voetbal - Leervoetbal - Jeugdvoetbal - Voetbal met touw', 19.99], ['The BRIGHT™ Lichtgevende Voetbal | Reflecterend | Holografisch | Glow in the Dark | Kinderen en Volwassenen | Unisex | Wit/Zwart/Roze/Blauw/Geel | Maat 5', 34.95], ['Foam softbal voetbal groen 20 cm - Zachte speelgoed voetbal', 11.54], ['Select Voetbal Team geel grijsblauw maat 5', 37.79], ['Voetbal - Nike - Park Team Football - White football-5', 17.89], ['Avento Voetbal Glossy - World Soccer - Zwart/Geel - maat 5', 13.69], ['2x Foam softbal voetbal geel 20 cm - Zachte schuimrubberen speelgoed voetballen', 17.95], ['Select Brillant Replica Ball BRILLANT WHT-BLK, Unisex, Wit, Bal naar voetbal, maat: 5', 26.78], ['Derbystar Streetball Voetbal Unisex - Maat 5', 11.89], ['Puma Voetbal - Final 6 - Maat 5 - Wit', 16.94], ['PSG camo voetbal - 5 - maat 5', 22.34], ['Avento Straatvoetbal - El Classico - Wit/Zwart - Maat 5', 9.49], ['Derbystar Classic TT 5 Voetbal - Multi Kleuren - 3 Vak Goud - Maat 5', 29.95], ['Voetbal bal plastic 4 stuks 23 cm - 90 gram - diverse kleuren - random verzending - rood blauw geel oranje', 17.5], ['adidas Uniforia EK 2020 Voetbal - Multicolor - Maat 5', 28.94], ['Avento Straatvoetbal - Worldcup - Zwart/Rood/Geel/Wit - 5', 10.19], ['Adidas - AL RIHLA WK - TRAINING VOETBAL - maat 5', 31.19], ['adidas Al Rihla League Giftbox - Maat 5', 37.76], [\"Adidas Champions League voetbal 'Aqua' - maat 5 (standaard) - voetbal - kids - bal - maat 5\", 23.9], [\"Voetbal Select 'Club' - wit/geel - maat 4\", 29.99], ['Manchester City thuis voetbal - 5 - maat 5', 19.95], ['Techniekbal maat 2 - mini trainingsbal met koord en handgreep - mini bal voor thuis', 19.99], ['adidas Al Rihla League Giftbox - Maat 4', 39.0], ['Select Team Trainingsbal - Wit', 37.79], ['Voetbaltrainer - Bal - Techniekbal maat 2 - Skillball - Mini Voetbal - Voetbal voor kleintjes - Lederen voetbal - Leervoetbal - Jeugdvoetbal - Voetbal met touw', 19.99], ['The BRIGHT™ Lichtgevende Voetbal | Reflecterend | Holografisch | Glow in the Dark | Kinderen en Volwassenen | Unisex | Wit/Zwart/Roze/Blauw/Geel | Maat 5', 34.95], ['Foam softbal voetbal groen 20 cm - Zachte speelgoed voetbal', 11.54], ['Select Voetbal Team geel grijsblauw maat 5', 37.79], ['Nike - Park Team Football - White football-5', 17.89], ['Avento Voetbal Glossy - World Soccer - Zwart/Geel - maat 5', 13.69], ['2x Foam softbal voetbal geel 20 cm - Zachte schuimrubberen speelgoed voetballen', 17.95], ['Select Brillant Replica Ball BRILLANT WHT-BLK, Unisex, Wit, Bal naar voetbal, maat: 5', 26.78], ['Derbystar Streetball Voetbal Unisex - Maat 5', 11.89], ['Puma Voetbal - Final 6 - Maat 5 - Wit', 16.94], ['PSG camo voetbal - 5 - maat 5', 22.34], ['Avento Straatvoetbal - El Classico - Wit/Zwart - Maat 5', 9.49], ['Derbystar Classic TT 5 Voetbal - Multi Kleuren - 3 Vak Goud - Maat 5', 29.95], ['Voetbal bal plastic 4 stuks 23 cm - 90 gram - diverse kleuren - random verzending - rood blauw geel oranje', 17.5], ['adidas Uniforia EK 2020 Voetbal - Multicolor - Maat 5', 28.94], ['Avento Straatvoetbal - Worldcup - Zwart/Rood/Geel/Wit - 5', 10.19], ['Adidas - AL RIHLA WK - TRAINING VOETBAL - maat 5', 31.19], ['adidas Al Rihla League Giftbox - Maat 5', 37.76], [\"Adidas Champions League voetbal 'Aqua' - maat 5 (standaard) - voetbal - kids - bal - maat 5\", 23.9], [\"Voetbal Select 'Club' - wit/geel - maat 4\", 29.99], ['Manchester City thuis voetbal - 5 - maat 5', 19.95], ['Techniekbal maat 2 - mini trainingsbal met koord en handgreep - mini bal voor thuis', 19.99], ['adidas Al Rihla League Giftbox - Maat 4', 39.0], ['Select Team Trainingsbal - Wit', 37.79], ['Voetbaltrainer - Bal - Techniekbal maat 2 - Skillball - Mini Voetbal - Voetbal voor kleintjes - Lederen voetbal - Leervoetbal - Jeugdvoetbal - Voetbal met touw', 19.99], ['The BRIGHT™ Lichtgevende Voetbal | Reflecterend | Holografisch | Glow in the Dark | Kinderen en Volwassenen | Unisex | Wit/Zwart/Roze/Blauw/Geel | Maat 5', 34.95], ['Foam softbal voetbal groen 20 cm - Zachte speelgoed voetbal', 11.54], ['Select Voetbal Team geel grijsblauw maat 5', 37.79], ['Nike - Park Team Football - White football-5', 17.89], ['Avento Voetbal Glossy - World Soccer - Zwart/Geel - maat 5', 13.69], ['2x Foam softbal voetbal geel 20 cm - Zachte schuimrubberen speelgoed voetballen', 17.95], ['Select Brillant Replica Ball BRILLANT WHT-BLK, Unisex, Wit, Bal naar voetbal, maat: 5', 26.78], ['Derbystar Streetball Voetbal Unisex - Maat 5', 11.89], ['Puma Voetbal - Final 6 - Maat 5 - Wit', 16.94], ['PSG camo voetbal - 5 - maat 5', 22.34], ['Avento Straatvoetbal - El Classico - Wit/Zwart - Maat 5', 9.49], ['Derbystar Classic TT 5 Voetbal - Multi Kleuren - 3 Vak Goud - Maat 5', 29.95], ['Voetbal bal plastic 4 stuks 23 cm - 90 gram - diverse kleuren - random verzending - rood blauw geel oranje', 17.5]]\n"
     ]
    }
   ],
   "source": [
    "productlijst = []\n",
    "\n",
    "for item in producten_alle_paginas:\n",
    "    if item.find(class_=\"product-prices\").getText() == '\\nNiet leverbaar\\n':\n",
    "        prijs = None\n",
    "    else:\n",
    "        prijs = float(item.meta['content'])\n",
    "    product = item.find(class_=\"product-title--inline\").a.getText()\n",
    "    productlijst.append([product, prijs])\n",
    "    \n",
    "print(productlijst[:150])"
   ]
  },
  {
   "cell_type": "code",
   "execution_count": 9,
   "metadata": {},
   "outputs": [
    {
     "name": "stdout",
     "output_type": "stream",
     "text": [
      "(3576, 2)\n"
     ]
    },
    {
     "data": {
      "text/plain": [
       "count    3530.000000\n",
       "mean       23.649266\n",
       "std         9.344184\n",
       "min         9.490000\n",
       "25%        17.500000\n",
       "50%        22.340000\n",
       "75%        31.190000\n",
       "max        39.000000\n",
       "Name: prijs, dtype: float64"
      ]
     },
     "execution_count": 9,
     "metadata": {},
     "output_type": "execute_result"
    }
   ],
   "source": [
    "df = pd.DataFrame(productlijst, columns=[\"Product\", \"prijs\"])\n",
    "print(df.shape)\n",
    "df[\"prijs\"].describe()"
   ]
  }
 ],
 "metadata": {
  "interpreter": {
   "hash": "be3492a5e888973eb70359e6380d1c6652c185929b9041468104d752a9a616f9"
  },
  "kernelspec": {
   "display_name": "Python 3.10.2 64-bit",
   "language": "python",
   "name": "python3"
  },
  "language_info": {
   "codemirror_mode": {
    "name": "ipython",
    "version": 3
   },
   "file_extension": ".py",
   "mimetype": "text/x-python",
   "name": "python",
   "nbconvert_exporter": "python",
   "pygments_lexer": "ipython3",
   "version": "3.10.2"
  },
  "orig_nbformat": 4
 },
 "nbformat": 4,
 "nbformat_minor": 2
}
