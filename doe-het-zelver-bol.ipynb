{
 "cells": [
  {
   "cell_type": "code",
   "execution_count": 1,
   "metadata": {},
   "outputs": [],
   "source": [
    "import pandas as pd\n",
    "import numpy as np\n",
    "import requests\n",
    "from bs4 import BeautifulSoup"
   ]
  },
  {
   "cell_type": "code",
   "execution_count": 2,
   "metadata": {},
   "outputs": [
    {
     "data": {
      "text/plain": [
       "3576"
      ]
     },
     "execution_count": 2,
     "metadata": {},
     "output_type": "execute_result"
    }
   ],
   "source": [
    "producten_alle_paginas = []\n",
    "\n",
    "for i in range(1,150):\n",
    "    response = requests.get(f\"https://www.bol.com/be/nl/s/?searchtext=Doe%20het%20zelver&suggestionType=search_history\")\n",
    "    content = response.content\n",
    "    parser = BeautifulSoup(content, 'html.parser')\n",
    "    body = parser.body\n",
    "    producten = body.find_all(class_=\"product-item--row js_item_root\")\n",
    "    producten_alle_paginas.extend(producten)\n",
    "    \n",
    "len(producten_alle_paginas)"
   ]
  },
  {
   "cell_type": "code",
   "execution_count": 3,
   "metadata": {},
   "outputs": [
    {
     "name": "stdout",
     "output_type": "stream",
     "text": [
      "251.95\n",
      "Transparante Epoxy 2K 700PRO 13kg | Kristalheldere giethars epoxyhars voor gieten en coaten | Voor hout sieradenproductie schilderen handwerk en decoratie | UV-hars voor kunsthars knutselwerken | Veelzijdig gebruik voor doe-het-zelvers, decoraties, a\n"
     ]
    }
   ],
   "source": [
    "prijs = float(producten_alle_paginas[6].meta.get('content'))\n",
    "productnaam = producten_alle_paginas[6].find(class_=\"product-title--inline\").a.getText()\n",
    "print(prijs)\n",
    "print(productnaam)"
   ]
  },
  {
   "cell_type": "code",
   "execution_count": 4,
   "metadata": {},
   "outputs": [
    {
     "name": "stdout",
     "output_type": "stream",
     "text": [
      "[['Boormachine Houder en Gereedschapstas - Inclusief Gereedschapsgordel - Gereedschapstas - Gereedschap - Doe-Het-Zelver - Klussen - Zwart - VADERDAG - SALE', 16.99], ['Hobbydecoratieobject - Epoxyhars met 15 verschillende verftinten  voor knutselen | UV-hars voor kunsthars knutselwerken | Veelzijdig gebruik voor doe-het-zelvers, decoraties, accessoires | Veilig zonder agressieve chemicaliën en diervriendelijk', 39.95], ['Gereedschapset voor de doe-het-zelver 16-delig', 18.95], ['Kast - TOOLCRAFT WKV-051 TO-6326847 Doe-het-zelver Gereedschapstas (zonder inhoud) 1 stuks (l x b x h) 470 x 450 x 220 mm', 66.49], ['Doe-het-zelver – Puzzel 1000 stukjes', 16.95], ['Boormachine Holster Gereedschapstas - Inclusief Gereedschapsgordel - Gereedschapstas - Gereedschap - Klein en Comfortabel - Doe-Het-Zelver - Klussen - Zwart', 16.95], ['Transparante Epoxy 2K 700PRO 13kg | Kristalheldere giethars epoxyhars voor gieten en coaten | Voor hout sieradenproductie schilderen handwerk en decoratie | UV-hars voor kunsthars knutselwerken | Veelzijdig gebruik voor doe-het-zelvers, decoraties, a', 251.95], ['Motortoebehoren - Datona® - Adaptors - Paddockstand - MotoGP Universeel - Voor Iedere doe-het-zelver - Voldoet aan alle veiligheidseisen - Aluminium - Zilver', 26.95], ['Basetech BT-1954694 Gereedschapsset Doe-het-zelver, Technicus, Elektricien In koffer 30-delig', 42.34], ['Gereedschapscombiset - Allsome Houtbewerkings Bitjes Set  - Met 100 stuks - Houtbewerking Tools - Router Bit - Klussen - Hout - Voor Doe-het-zelvers en Professionals - Geel', 249.0], ['kwb 370733 Gereedschapskoffer (met inhoud) Doe-het-zelver, Handwerker 42-delig (l x b x h) 29 x 34 x 7 cm', 55.34], ['Parat PROTECT 20 6430000391 Gereedschapskoffer (zonder inhoud) Professioneel, Doe-het-zelver, Handwerker, Technicus (l', 87.99], ['Makita 18 V klopboor-/schroefmachine - HP457DWE - inclusief 2 batterijen en lader', 121.99], ['Dremel 3000 Multitool - Roterend - 130 Watt - Met 25 accessoires en koffer', 56.0], ['Accuboormachine - Powerplus One Fits All POWESET1 Accu boormachine - Schroefboormachine - Boormachine accu - Accu schroevendraaier - 18V - Incl. 2 x 1,3Ah accu en lader - 153-delige alu gereedschapskoffer - Voor hout, steen en metaal', 49.99], ['Boorset - Bosch Schroefborenset - 43-delig', 18.79], ['BLACK+DECKER BDCDC18BAFC-QW Accuboormachine kit - 18V', 89.0], ['Oorkappen 3M Peltor Optime III H540A - Met Hoofdband - Zwart / Rood', 25.0], ['Hanse Werkzeuge 1050-delige Gereedschapskoffer met gereedschap XXL', 87.5], ['Oorkappen - Gehoorbescherming met Radio - DAB+ - Oorbeschermers met Bluetooth en AUDIO ingang - Oplaadbaar - Inclusief Tas - EAR-20-D', 131.95], ['Makita Boorset P 67832 - 101-Delige Accessoireset', 34.27], ['Cozey Gehoorbescherming met Bluetooth voor Volwassenen - Oorbeschermers voor geluid - Gehoorkap - Oorkappen met Noise Cancelling', 71.95], ['Gereedschapskoffer - STANLEY 1-70-327 Mobile Work Center - 2IN1 - trolley - moduleerbaar', 37.59], ['VONROC Multitool – Roterend – 160W – Flexibele as – Incl. 232-delige accessoire set & opbergtas', 37.95], ['Epoxyhars met 15 verschillende verftinten  voor knutselen | UV-hars voor kunsthars knutselwerken | Veelzijdig gebruik voor doe-het-zelvers, decoraties, accessoires | Veilig zonder agressieve chemicaliën en diervriendelijk', 39.95], ['Boormachine Houder en Gereedschapstas - Inclusief Gereedschapsgordel - Gereedschapstas - Gereedschap - Doe-Het-Zelver - Klussen - Zwart - VADERDAG - SALE', 16.99], ['Gereedschapset voor de doe-het-zelver 16-delig', 18.95], ['Doe-het-zelver – Puzzel 1000 stukjes', 16.95], ['TOOLCRAFT WKV-051 TO-6326847 Doe-het-zelver Gereedschapstas (zonder inhoud) 1 stuks (l x b x h) 470 x 450 x 220 mm', 66.49], ['Boormachine Holster Gereedschapstas - Inclusief Gereedschapsgordel - Gereedschapstas - Gereedschap - Klein en Comfortabel - Doe-Het-Zelver - Klussen - Zwart', 16.95], ['Transparante Epoxy 2K 700PRO 13kg | Kristalheldere giethars epoxyhars voor gieten en coaten | Voor hout sieradenproductie schilderen handwerk en decoratie | UV-hars voor kunsthars knutselwerken | Veelzijdig gebruik voor doe-het-zelvers, decoraties, a', 251.95], ['Datona® - Adaptors - Paddockstand - MotoGP Universeel - Voor Iedere doe-het-zelver - Voldoet aan alle veiligheidseisen - Aluminium - Zilver', 26.95], ['Allsome Houtbewerkings Bitjes Set  - Met 100 stuks - Houtbewerking Tools - Router Bit - Klussen - Hout - Voor Doe-het-zelvers en Professionals - Geel', 249.0], ['Basetech BT-1954694 Gereedschapsset Doe-het-zelver, Technicus, Elektricien In koffer 30-delig', 42.34], ['kwb 370733 Gereedschapskoffer (met inhoud) Doe-het-zelver, Handwerker 42-delig (l x b x h) 29 x 34 x 7 cm', 55.34], ['Parat PROTECT 20 6430000391 Gereedschapskoffer (zonder inhoud) Professioneel, Doe-het-zelver, Handwerker, Technicus (l', 87.99], ['Makita 18 V klopboor-/schroefmachine - HP457DWE - inclusief 2 batterijen en lader', 121.99], ['Dremel 3000 Multitool - Roterend - 130 Watt - Met 25 accessoires en koffer', 56.0], ['Powerplus One Fits All POWESET1 Accu boormachine - Schroefboormachine - Boormachine accu - Accu schroevendraaier - 18V - Incl. 2 x 1,3Ah accu en lader - 153-delige alu gereedschapskoffer - Voor hout, steen en metaal', 49.99], ['Oorkappen 3M Peltor Optime III H540A - Met Hoofdband - Zwart / Rood', 25.0], ['Bosch Schroefborenset - 43-delig', 18.79], ['BLACK+DECKER BDCDC18BAFC-QW Accuboormachine kit - 18V', 89.0], ['Hanse Werkzeuge 1050-delige Gereedschapskoffer met gereedschap XXL', 87.5], ['Gehoorbescherming met Radio - DAB+ - Oorbeschermers met Bluetooth en AUDIO ingang - Oplaadbaar - Inclusief Tas - EAR-20-D', 131.95], ['Makita Boorset P 67832 - 101-Delige Accessoireset', 34.27], ['Cozey Gehoorbescherming met Bluetooth voor Volwassenen - Oorbeschermers voor geluid - Gehoorkap - Oorkappen met Noise Cancelling', 71.95], ['Kreator KRT951002 Gereedschapskoffer - 109 delig - 45,6 x 13,8 x 34 cm', 102.0], ['STANLEY 1-70-327 Mobile Work Center - 2IN1 - trolley - moduleerbaar', 37.59], ['Boormachine Houder en Gereedschapstas - Inclusief Gereedschapsgordel - Gereedschapstas - Gereedschap - Doe-Het-Zelver - Klussen - Zwart - VADERDAG - SALE', 16.99], ['Epoxyhars met 15 verschillende verftinten  voor knutselen | UV-hars voor kunsthars knutselwerken | Veelzijdig gebruik voor doe-het-zelvers, decoraties, accessoires | Veilig zonder agressieve chemicaliën en diervriendelijk', 39.95], ['Gereedschapset voor de doe-het-zelver 16-delig', 18.95], ['TOOLCRAFT WKV-051 TO-6326847 Doe-het-zelver Gereedschapstas (zonder inhoud) 1 stuks (l x b x h) 470 x 450 x 220 mm', 66.49], ['Doe-het-zelver – Puzzel 1000 stukjes', 16.95], ['Boormachine Holster Gereedschapstas - Inclusief Gereedschapsgordel - Gereedschapstas - Gereedschap - Klein en Comfortabel - Doe-Het-Zelver - Klussen - Zwart', 16.95], ['Transparante Epoxy 2K 700PRO 13kg | Kristalheldere giethars epoxyhars voor gieten en coaten | Voor hout sieradenproductie schilderen handwerk en decoratie | UV-hars voor kunsthars knutselwerken | Veelzijdig gebruik voor doe-het-zelvers, decoraties, a', 251.95], ['Datona® - Adaptors - Paddockstand - MotoGP Universeel - Voor Iedere doe-het-zelver - Voldoet aan alle veiligheidseisen - Aluminium - Zilver', 26.95], ['Basetech BT-1954694 Gereedschapsset Doe-het-zelver, Technicus, Elektricien In koffer 30-delig', 42.34], ['Allsome Houtbewerkings Bitjes Set  - Met 100 stuks - Houtbewerking Tools - Router Bit - Klussen - Hout - Voor Doe-het-zelvers en Professionals - Geel', 249.0], ['kwb 370733 Gereedschapskoffer (met inhoud) Doe-het-zelver, Handwerker 42-delig (l x b x h) 29 x 34 x 7 cm', 55.34], ['Parat PROTECT 20 6430000391 Gereedschapskoffer (zonder inhoud) Professioneel, Doe-het-zelver, Handwerker, Technicus (l', 87.99], ['Makita 18 V klopboor-/schroefmachine - HP457DWE - inclusief 2 batterijen en lader', 121.99], ['Dremel 3000 Multitool - Roterend - 130 Watt - Met 25 accessoires en koffer', 56.0], ['Powerplus One Fits All POWESET1 Accu boormachine - Schroefboormachine - Boormachine accu - Accu schroevendraaier - 18V - Incl. 2 x 1,3Ah accu en lader - 153-delige alu gereedschapskoffer - Voor hout, steen en metaal', 49.99], ['Bosch Schroefborenset - 43-delig', 18.79], ['BLACK+DECKER BDCDC18BAFC-QW Accuboormachine kit - 18V', 89.0], ['Oorkappen 3M Peltor Optime III H540A - Met Hoofdband - Zwart / Rood', 25.0], ['Hanse Werkzeuge 1050-delige Gereedschapskoffer met gereedschap XXL', 87.5], ['Gehoorbescherming met Radio - DAB+ - Oorbeschermers met Bluetooth en AUDIO ingang - Oplaadbaar - Inclusief Tas - EAR-20-D', 131.95], ['Makita Boorset P 67832 - 101-Delige Accessoireset', 34.27], ['Cozey Gehoorbescherming met Bluetooth voor Volwassenen - Oorbeschermers voor geluid - Gehoorkap - Oorkappen met Noise Cancelling', 71.95], ['STANLEY 1-70-327 Mobile Work Center - 2IN1 - trolley - moduleerbaar', 37.59], ['VONROC Multitool – Roterend – 160W – Flexibele as – Incl. 232-delige accessoire set & opbergtas', 37.95], ['Epoxyhars met 15 verschillende verftinten  voor knutselen | UV-hars voor kunsthars knutselwerken | Veelzijdig gebruik voor doe-het-zelvers, decoraties, accessoires | Veilig zonder agressieve chemicaliën en diervriendelijk', 39.95], ['Boormachine Houder en Gereedschapstas - Inclusief Gereedschapsgordel - Gereedschapstas - Gereedschap - Doe-Het-Zelver - Klussen - Zwart - VADERDAG - SALE', 16.99], ['Gereedschapset voor de doe-het-zelver 16-delig', 18.95], ['Doe-het-zelver – Puzzel 1000 stukjes', 16.95], ['TOOLCRAFT WKV-051 TO-6326847 Doe-het-zelver Gereedschapstas (zonder inhoud) 1 stuks (l x b x h) 470 x 450 x 220 mm', 66.49], ['Boormachine Holster Gereedschapstas - Inclusief Gereedschapsgordel - Gereedschapstas - Gereedschap - Klein en Comfortabel - Doe-Het-Zelver - Klussen - Zwart', 16.95], ['Transparante Epoxy 2K 700PRO 13kg | Kristalheldere giethars epoxyhars voor gieten en coaten | Voor hout sieradenproductie schilderen handwerk en decoratie | UV-hars voor kunsthars knutselwerken | Veelzijdig gebruik voor doe-het-zelvers, decoraties, a', 251.95], ['Datona® - Adaptors - Paddockstand - MotoGP Universeel - Voor Iedere doe-het-zelver - Voldoet aan alle veiligheidseisen - Aluminium - Zilver', 26.95], ['Allsome Houtbewerkings Bitjes Set  - Met 100 stuks - Houtbewerking Tools - Router Bit - Klussen - Hout - Voor Doe-het-zelvers en Professionals - Geel', 249.0], ['Basetech BT-1954694 Gereedschapsset Doe-het-zelver, Technicus, Elektricien In koffer 30-delig', 42.34], ['kwb 370733 Gereedschapskoffer (met inhoud) Doe-het-zelver, Handwerker 42-delig (l x b x h) 29 x 34 x 7 cm', 55.34], ['Parat PROTECT 20 6430000391 Gereedschapskoffer (zonder inhoud) Professioneel, Doe-het-zelver, Handwerker, Technicus (l', 87.99], ['Makita 18 V klopboor-/schroefmachine - HP457DWE - inclusief 2 batterijen en lader', 121.99], ['Dremel 3000 Multitool - Roterend - 130 Watt - Met 25 accessoires en koffer', 56.0], ['Powerplus One Fits All POWESET1 Accu boormachine - Schroefboormachine - Boormachine accu - Accu schroevendraaier - 18V - Incl. 2 x 1,3Ah accu en lader - 153-delige alu gereedschapskoffer - Voor hout, steen en metaal', 49.99], ['Oorkappen 3M Peltor Optime III H540A - Met Hoofdband - Zwart / Rood', 25.0], ['Bosch Schroefborenset - 43-delig', 18.79], ['BLACK+DECKER BDCDC18BAFC-QW Accuboormachine kit - 18V', 89.0], ['Hanse Werkzeuge 1050-delige Gereedschapskoffer met gereedschap XXL', 87.5], ['Gehoorbescherming met Radio - DAB+ - Oorbeschermers met Bluetooth en AUDIO ingang - Oplaadbaar - Inclusief Tas - EAR-20-D', 131.95], ['Makita Boorset P 67832 - 101-Delige Accessoireset', 34.27], ['Cozey Gehoorbescherming met Bluetooth voor Volwassenen - Oorbeschermers voor geluid - Gehoorkap - Oorkappen met Noise Cancelling', 71.95], ['Kreator KRT951002 Gereedschapskoffer - 109 delig - 45,6 x 13,8 x 34 cm', 102.0], ['STANLEY 1-70-327 Mobile Work Center - 2IN1 - trolley - moduleerbaar', 37.59], ['Epoxyhars met 15 verschillende verftinten  voor knutselen | UV-hars voor kunsthars knutselwerken | Veelzijdig gebruik voor doe-het-zelvers, decoraties, accessoires | Veilig zonder agressieve chemicaliën en diervriendelijk', 39.95], ['Boormachine Houder en Gereedschapstas - Inclusief Gereedschapsgordel - Gereedschapstas - Gereedschap - Doe-Het-Zelver - Klussen - Zwart - VADERDAG - SALE', 16.99], ['Gereedschapset voor de doe-het-zelver 16-delig', 18.95], ['Doe-het-zelver – Puzzel 1000 stukjes', 16.95], ['TOOLCRAFT WKV-051 TO-6326847 Doe-het-zelver Gereedschapstas (zonder inhoud) 1 stuks (l x b x h) 470 x 450 x 220 mm', 66.49], ['Boormachine Holster Gereedschapstas - Inclusief Gereedschapsgordel - Gereedschapstas - Gereedschap - Klein en Comfortabel - Doe-Het-Zelver - Klussen - Zwart', 16.95], ['Transparante Epoxy 2K 700PRO 13kg | Kristalheldere giethars epoxyhars voor gieten en coaten | Voor hout sieradenproductie schilderen handwerk en decoratie | UV-hars voor kunsthars knutselwerken | Veelzijdig gebruik voor doe-het-zelvers, decoraties, a', 251.95], ['Datona® - Adaptors - Paddockstand - MotoGP Universeel - Voor Iedere doe-het-zelver - Voldoet aan alle veiligheidseisen - Aluminium - Zilver', 26.95], ['Allsome Houtbewerkings Bitjes Set  - Met 100 stuks - Houtbewerking Tools - Router Bit - Klussen - Hout - Voor Doe-het-zelvers en Professionals - Geel', 249.0], ['Basetech BT-1954694 Gereedschapsset Doe-het-zelver, Technicus, Elektricien In koffer 30-delig', 42.34], ['kwb 370733 Gereedschapskoffer (met inhoud) Doe-het-zelver, Handwerker 42-delig (l x b x h) 29 x 34 x 7 cm', 55.34], ['Parat PROTECT 20 6430000391 Gereedschapskoffer (zonder inhoud) Professioneel, Doe-het-zelver, Handwerker, Technicus (l', 87.99], ['Makita 18 V klopboor-/schroefmachine - HP457DWE - inclusief 2 batterijen en lader', 121.99], ['Dremel 3000 Multitool - Roterend - 130 Watt - Met 25 accessoires en koffer', 56.0], ['Powerplus One Fits All POWESET1 Accu boormachine - Schroefboormachine - Boormachine accu - Accu schroevendraaier - 18V - Incl. 2 x 1,3Ah accu en lader - 153-delige alu gereedschapskoffer - Voor hout, steen en metaal', 49.99], ['Oorkappen 3M Peltor Optime III H540A - Met Hoofdband - Zwart / Rood', 25.0], ['Bosch Schroefborenset - 43-delig', 18.79], ['BLACK+DECKER BDCDC18BAFC-QW Accuboormachine kit - 18V', 89.0], ['Hanse Werkzeuge 1050-delige Gereedschapskoffer met gereedschap XXL', 87.5], ['Gehoorbescherming met Radio - DAB+ - Oorbeschermers met Bluetooth en AUDIO ingang - Oplaadbaar - Inclusief Tas - EAR-20-D', 131.95], ['Makita Boorset P 67832 - 101-Delige Accessoireset', 34.27], ['Cozey Gehoorbescherming met Bluetooth voor Volwassenen - Oorbeschermers voor geluid - Gehoorkap - Oorkappen met Noise Cancelling', 71.95], ['Kreator KRT951002 Gereedschapskoffer - 109 delig - 45,6 x 13,8 x 34 cm', 102.0], ['STANLEY 1-70-327 Mobile Work Center - 2IN1 - trolley - moduleerbaar', 37.59], ['Epoxyhars met 15 verschillende verftinten  voor knutselen | UV-hars voor kunsthars knutselwerken | Veelzijdig gebruik voor doe-het-zelvers, decoraties, accessoires | Veilig zonder agressieve chemicaliën en diervriendelijk', 39.95], ['Boormachine Houder en Gereedschapstas - Inclusief Gereedschapsgordel - Gereedschapstas - Gereedschap - Doe-Het-Zelver - Klussen - Zwart - VADERDAG - SALE', 16.99], ['Gereedschapset voor de doe-het-zelver 16-delig', 18.95], ['Doe-het-zelver – Puzzel 1000 stukjes', 16.95], ['TOOLCRAFT WKV-051 TO-6326847 Doe-het-zelver Gereedschapstas (zonder inhoud) 1 stuks (l x b x h) 470 x 450 x 220 mm', 66.49], ['Boormachine Holster Gereedschapstas - Inclusief Gereedschapsgordel - Gereedschapstas - Gereedschap - Klein en Comfortabel - Doe-Het-Zelver - Klussen - Zwart', 16.95], ['Transparante Epoxy 2K 700PRO 13kg | Kristalheldere giethars epoxyhars voor gieten en coaten | Voor hout sieradenproductie schilderen handwerk en decoratie | UV-hars voor kunsthars knutselwerken | Veelzijdig gebruik voor doe-het-zelvers, decoraties, a', 251.95], ['Datona® - Adaptors - Paddockstand - MotoGP Universeel - Voor Iedere doe-het-zelver - Voldoet aan alle veiligheidseisen - Aluminium - Zilver', 26.95], ['Allsome Houtbewerkings Bitjes Set  - Met 100 stuks - Houtbewerking Tools - Router Bit - Klussen - Hout - Voor Doe-het-zelvers en Professionals - Geel', 249.0], ['Basetech BT-1954694 Gereedschapsset Doe-het-zelver, Technicus, Elektricien In koffer 30-delig', 42.34], ['kwb 370733 Gereedschapskoffer (met inhoud) Doe-het-zelver, Handwerker 42-delig (l x b x h) 29 x 34 x 7 cm', 55.34], ['Parat PROTECT 20 6430000391 Gereedschapskoffer (zonder inhoud) Professioneel, Doe-het-zelver, Handwerker, Technicus (l', 87.99], ['Makita 18 V klopboor-/schroefmachine - HP457DWE - inclusief 2 batterijen en lader', 121.99], ['Dremel 3000 Multitool - Roterend - 130 Watt - Met 25 accessoires en koffer', 56.0], ['Powerplus One Fits All POWESET1 Accu boormachine - Schroefboormachine - Boormachine accu - Accu schroevendraaier - 18V - Incl. 2 x 1,3Ah accu en lader - 153-delige alu gereedschapskoffer - Voor hout, steen en metaal', 49.99], ['Oorkappen 3M Peltor Optime III H540A - Met Hoofdband - Zwart / Rood', 25.0], ['Bosch Schroefborenset - 43-delig', 18.79], ['BLACK+DECKER BDCDC18BAFC-QW Accuboormachine kit - 18V', 89.0], ['Hanse Werkzeuge 1050-delige Gereedschapskoffer met gereedschap XXL', 87.5], ['Gehoorbescherming met Radio - DAB+ - Oorbeschermers met Bluetooth en AUDIO ingang - Oplaadbaar - Inclusief Tas - EAR-20-D', 131.95], ['Makita Boorset P 67832 - 101-Delige Accessoireset', 34.27], ['Cozey Gehoorbescherming met Bluetooth voor Volwassenen - Oorbeschermers voor geluid - Gehoorkap - Oorkappen met Noise Cancelling', 71.95], ['Kreator KRT951002 Gereedschapskoffer - 109 delig - 45,6 x 13,8 x 34 cm', 102.0], ['STANLEY 1-70-327 Mobile Work Center - 2IN1 - trolley - moduleerbaar', 37.59], ['Boormachine Houder en Gereedschapstas - Inclusief Gereedschapsgordel - Gereedschapstas - Gereedschap - Doe-Het-Zelver - Klussen - Zwart - VADERDAG - SALE', 16.99], ['Hobbydecoratieobject - Epoxyhars met 15 verschillende verftinten  voor knutselen | UV-hars voor kunsthars knutselwerken | Veelzijdig gebruik voor doe-het-zelvers, decoraties, accessoires | Veilig zonder agressieve chemicaliën en diervriendelijk', 39.95], ['Gereedschapset voor de doe-het-zelver 16-delig', 18.95], ['Kast - TOOLCRAFT WKV-051 TO-6326847 Doe-het-zelver Gereedschapstas (zonder inhoud) 1 stuks (l x b x h) 470 x 450 x 220 mm', 66.49], ['Doe-het-zelver – Puzzel 1000 stukjes', 16.95], ['Boormachine Holster Gereedschapstas - Inclusief Gereedschapsgordel - Gereedschapstas - Gereedschap - Klein en Comfortabel - Doe-Het-Zelver - Klussen - Zwart', 16.95]]\n"
     ]
    }
   ],
   "source": [
    "productlijst = []\n",
    "\n",
    "for item in producten_alle_paginas:\n",
    "    if item.find(class_=\"product-prices\").getText() == '\\nNiet leverbaar\\n':\n",
    "        prijs = None\n",
    "    else:\n",
    "        prijs = float(item.meta['content'])\n",
    "    product = item.find(class_=\"product-title--inline\").a.getText()\n",
    "    productlijst.append([product, prijs])\n",
    "    \n",
    "print(productlijst[:150])"
   ]
  },
  {
   "cell_type": "code",
   "execution_count": 5,
   "metadata": {},
   "outputs": [
    {
     "name": "stdout",
     "output_type": "stream",
     "text": [
      "(3576, 2)\n"
     ]
    },
    {
     "data": {
      "text/plain": [
       "count    3553.000000\n",
       "mean       70.705004\n",
       "std        63.270999\n",
       "min        16.950000\n",
       "25%        25.000000\n",
       "50%        49.990000\n",
       "75%        87.990000\n",
       "max       251.950000\n",
       "Name: prijs, dtype: float64"
      ]
     },
     "execution_count": 5,
     "metadata": {},
     "output_type": "execute_result"
    }
   ],
   "source": [
    "df = pd.DataFrame(productlijst, columns=[\"Product\", \"prijs\"])\n",
    "print(df.shape)\n",
    "df[\"prijs\"].describe()"
   ]
  }
 ],
 "metadata": {
  "interpreter": {
   "hash": "be3492a5e888973eb70359e6380d1c6652c185929b9041468104d752a9a616f9"
  },
  "kernelspec": {
   "display_name": "Python 3.10.2 64-bit",
   "language": "python",
   "name": "python3"
  },
  "language_info": {
   "codemirror_mode": {
    "name": "ipython",
    "version": 3
   },
   "file_extension": ".py",
   "mimetype": "text/x-python",
   "name": "python",
   "nbconvert_exporter": "python",
   "pygments_lexer": "ipython3",
   "version": "3.10.2"
  },
  "orig_nbformat": 4
 },
 "nbformat": 4,
 "nbformat_minor": 2
}
