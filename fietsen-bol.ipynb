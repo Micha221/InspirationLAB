{
 "cells": [
  {
   "cell_type": "code",
   "execution_count": 7,
   "metadata": {},
   "outputs": [],
   "source": [
    "import pandas as pd\n",
    "import numpy as np\n",
    "import requests\n",
    "from bs4 import BeautifulSoup"
   ]
  },
  {
   "cell_type": "code",
   "execution_count": 8,
   "metadata": {},
   "outputs": [
    {
     "data": {
      "text/plain": [
       "3576"
      ]
     },
     "execution_count": 8,
     "metadata": {},
     "output_type": "execute_result"
    }
   ],
   "source": [
    "producten_alle_paginas = []\n",
    "\n",
    "for i in range(1,150):\n",
    "    response = requests.get(f\"https://www.bol.com/be/nl/s/?searchtext=fietsen&suggestionType=search_history\")\n",
    "    content = response.content\n",
    "    parser = BeautifulSoup(content, 'html.parser')\n",
    "    body = parser.body\n",
    "    producten = body.find_all(class_=\"product-item--row js_item_root\")\n",
    "    producten_alle_paginas.extend(producten)\n",
    "    \n",
    "len(producten_alle_paginas)"
   ]
  },
  {
   "cell_type": "code",
   "execution_count": 9,
   "metadata": {},
   "outputs": [
    {
     "name": "stdout",
     "output_type": "stream",
     "text": [
      "325.0\n",
      "wheelerz Vouwfiets 20 Inch - 6 Speed Shimano - Zwart\n"
     ]
    }
   ],
   "source": [
    "prijs = float(producten_alle_paginas[5].meta.get('content'))\n",
    "productnaam = producten_alle_paginas[5].find(class_=\"product-title--inline\").a.getText()\n",
    "print(prijs)\n",
    "print(productnaam)"
   ]
  },
  {
   "cell_type": "code",
   "execution_count": 10,
   "metadata": {},
   "outputs": [
    {
     "name": "stdout",
     "output_type": "stream",
     "text": [
      "[['Net over de grens - Reizen dichtbij, in België & Duitsland', 25.0], ['Zonix Meisjesfiets 24 Inch Licht Blauw Met Voordrager', 264.0], ['Amigo Rock Mountainbike 24 inch - Voor jongens en meisjes - Met 18 versnellingen - Zwart/Rood', 209.9], ['Amigo Moves - Stadsfiets 28 inch - Herenfiets met 6 versnellingen - Matblauw', 289.0], ['Rogelli Pesaro 2.0 - Fietsjack - Heren - Maat XL - Geel', 24.0], ['wheelerz Vouwfiets 20 Inch - 6 Speed Shimano - Zwart', 325.0], ['Omafiets - Zonix Solo Dutch 26 Inch Wit', 179.0], ['Altec Metro Damesfiets 28 inch 55cm Army Green 7v', 299.0], ['Altec Roma 28 inch Omafiets Zwart 58cm', 209.0], ['Amigo Racer - Mountainbike 24 inch - Voor jongens en meisjes - Met 18 versnellingen - Zwart/Geel', 203.9], ['EBIKE, Large capacity battery long range 48v 12.5ah 750w, 25-50 km/u electric bicycle electric bike, Black', 2070.0], ['Amigo Style - Damesfiets 28 inch - Fiets met 6 versnellingen - Zwart', 299.99], ['Villette Calais transportfiets - 56 cm', 249.0], ['Fiets - Broekklem chroom met reflectie (per set)', 12.62], ['Dino 321 - Vouwfiets - 20 Inch - Zwart', 257.72], ['Crown Rio Damesfiets 28 inch 53cm Zwart', 309.0], ['Altec Metro Damesfiets 28 inch 49cm Mat Zwart', 299.0], ['Wheelerz omafiets classic 28 inch matzwart | inclusief voordrager & krat', 259.0], ['Altec Metro Damesfiets 28 inch 55cm Lavender', 299.0], ['Amigo Fly - BMX fiets 20 inch - Fietscross voor jongens en meisjes - Zwart/Blauw', 149.9], ['Cyclux Astro  Jongensfiets 26 Inch Blauw Zwart', 269.0], ['Altec Urban Transportfiets - 53cm - Lavender - 28 inch', 349.0], ['Amigo Fly - BMX fiets 20 inch - Fietscross voor jongens en meisjes - Groen', 149.9], ['Fiets - Amigo Next Level - Mountainbike 26 inch - Voor jongens en meisjes - Met 21 versnellingen - Zwart/Geel', 245.7], ['Net over de grens - Reizen dichtbij, in België & Duitsland', 25.0], ['Zonix Meisjesfiets 24 Inch Licht Blauw Met Voordrager', 264.0], ['Amigo Rock Mountainbike 24 inch - Voor jongens en meisjes - Met 18 versnellingen - Zwart/Rood', 209.9], ['Amigo Moves - Stadsfiets 28 inch - Herenfiets met 6 versnellingen - Matblauw', 289.0], ['Rogelli Pesaro 2.0 - Fietsjack - Heren - Maat XL - Geel', 24.0], ['wheelerz Vouwfiets 20 Inch - 6 Speed Shimano - Zwart', 325.0], ['Omafiets - Zonix Solo Dutch 26 Inch Wit', 179.0], ['Altec Metro Damesfiets 28 inch 55cm Army Green 7v', 299.0], ['Altec Roma 28 inch Omafiets Zwart 58cm', 209.0], ['Amigo Racer - Mountainbike 24 inch - Voor jongens en meisjes - Met 18 versnellingen - Zwart/Geel', 203.9], ['EBIKE, Large capacity battery long range 48v 12.5ah 750w, 25-50 km/u electric bicycle electric bike, Black', 2070.0], ['Amigo Style - Damesfiets 28 inch - Fiets met 6 versnellingen - Zwart', 299.99], ['Villette Calais transportfiets - 56 cm', 249.0], ['Broekklem chroom met reflectie (per set)', 12.62], ['Dino 321 - Vouwfiets - 20 Inch - Zwart', 257.72], ['Crown Rio Damesfiets 28 inch 53cm Zwart', 309.0], ['Altec Metro Damesfiets 28 inch 49cm Mat Zwart', 299.0], ['Wheelerz omafiets classic 28 inch matzwart | inclusief voordrager & krat', 259.0], ['Altec Metro Damesfiets 28 inch 55cm Lavender', 299.0], ['Amigo Fly - BMX fiets 20 inch - Fietscross voor jongens en meisjes - Zwart/Blauw', 149.9], ['Cyclux Astro  Jongensfiets 26 Inch Blauw Zwart', 269.0], ['Altec Urban Transportfiets - 53cm - Lavender - 28 inch', 349.0], ['Amigo Fly - BMX fiets 20 inch - Fietscross voor jongens en meisjes - Groen', 149.9], ['Amigo Next Level - Mountainbike 26 inch - Voor jongens en meisjes - Met 21 versnellingen - Zwart/Geel', 245.7], ['Net over de grens - Reizen dichtbij, in België & Duitsland', 25.0], ['Zonix Meisjesfiets 24 Inch Licht Blauw Met Voordrager', 264.0], ['Amigo Rock Mountainbike 24 inch - Voor jongens en meisjes - Met 18 versnellingen - Zwart/Rood', 209.9], ['Amigo Moves - Stadsfiets 28 inch - Herenfiets met 6 versnellingen - Matblauw', 289.0], ['Rogelli Pesaro 2.0 - Fietsjack - Heren - Maat XL - Geel', 24.0], ['Omafiets - Zonix Solo Dutch 26 Inch Wit', 179.0], ['Altec Metro Damesfiets 28 inch 55cm Army Green 7v', 299.0], ['wheelerz Vouwfiets 20 Inch - 6 Speed Shimano - Zwart', 325.0], ['Altec Roma 28 inch Omafiets Zwart 58cm', 209.0], ['Amigo Racer - Mountainbike 24 inch - Voor jongens en meisjes - Met 18 versnellingen - Zwart/Geel', 203.9], ['EBIKE, Large capacity battery long range 48v 12.5ah 750w, 25-50 km/u electric bicycle electric bike, Black', 2070.0], ['Amigo Style - Damesfiets 28 inch - Fiets met 6 versnellingen - Zwart', 299.99], ['Fiets - Broekklem chroom met reflectie (per set)', 12.62], ['Villette Calais transportfiets - 56 cm', 249.0], ['Crown Rio Damesfiets 28 inch 53cm Zwart', 309.0], ['Dino 321 - Vouwfiets - 20 Inch - Zwart', 257.72], ['Altec Metro Damesfiets 28 inch 49cm Mat Zwart', 299.0], ['Altec Metro Damesfiets 28 inch 55cm Lavender', 299.0], ['Wheelerz omafiets classic 28 inch matzwart | inclusief voordrager & krat', 259.0], ['Amigo Fly - BMX fiets 20 inch - Fietscross voor jongens en meisjes - Zwart/Blauw', 149.9], ['Cyclux Astro  Jongensfiets 26 Inch Blauw Zwart', 269.0], ['Altec Urban Transportfiets - 53cm - Lavender - 28 inch', 349.0], ['Amigo Fly - BMX fiets 20 inch - Fietscross voor jongens en meisjes - Groen', 149.9], ['Fiets - Amigo Next Level - Mountainbike 26 inch - Voor jongens en meisjes - Met 21 versnellingen - Zwart/Geel', 245.7], ['Net over de grens - Reizen dichtbij, in België & Duitsland', 25.0], ['Zonix Meisjesfiets 24 Inch Licht Blauw Met Voordrager', 264.0], ['Amigo Rock Mountainbike 24 inch - Voor jongens en meisjes - Met 18 versnellingen - Zwart/Rood', 209.9], ['Amigo Moves - Stadsfiets 28 inch - Herenfiets met 6 versnellingen - Matblauw', 289.0], ['Rogelli Pesaro 2.0 - Fietsjack - Heren - Maat XL - Geel', 24.0], ['Omafiets - Zonix Solo Dutch 26 Inch Wit', 179.0], ['Altec Metro Damesfiets 28 inch 55cm Army Green 7v', 299.0], ['wheelerz Vouwfiets 20 Inch - 6 Speed Shimano - Zwart', 325.0], ['Altec Roma 28 inch Omafiets Zwart 58cm', 209.0], ['Amigo Racer - Mountainbike 24 inch - Voor jongens en meisjes - Met 18 versnellingen - Zwart/Geel', 203.9], ['EBIKE, Large capacity battery long range 48v 12.5ah 750w, 25-50 km/u electric bicycle electric bike, Black', 2070.0], ['Amigo Style - Damesfiets 28 inch - Fiets met 6 versnellingen - Zwart', 299.99], ['Broekklem chroom met reflectie (per set)', 12.62], ['Villette Calais transportfiets - 56 cm', 249.0], ['Crown Rio Damesfiets 28 inch 53cm Zwart', 309.0], ['Dino 321 - Vouwfiets - 20 Inch - Zwart', 257.72], ['Altec Metro Damesfiets 28 inch 49cm Mat Zwart', 299.0], ['Altec Metro Damesfiets 28 inch 55cm Lavender', 299.0], ['Wheelerz omafiets classic 28 inch matzwart | inclusief voordrager & krat', 259.0], ['Amigo Fly - BMX fiets 20 inch - Fietscross voor jongens en meisjes - Zwart/Blauw', 149.9], ['Cyclux Astro  Jongensfiets 26 Inch Blauw Zwart', 269.0], ['Altec Urban Transportfiets - 53cm - Lavender - 28 inch', 349.0], ['Amigo Fly - BMX fiets 20 inch - Fietscross voor jongens en meisjes - Groen', 149.9], ['Amigo Next Level - Mountainbike 26 inch - Voor jongens en meisjes - Met 21 versnellingen - Zwart/Geel', 245.7], ['Net over de grens - Reizen dichtbij, in België & Duitsland', 25.0], ['Zonix Meisjesfiets 24 Inch Licht Blauw Met Voordrager', 264.0], ['Amigo Rock Mountainbike 24 inch - Voor jongens en meisjes - Met 18 versnellingen - Zwart/Rood', 209.9], ['Amigo Moves - Stadsfiets 28 inch - Herenfiets met 6 versnellingen - Matblauw', 289.0], ['Rogelli Pesaro 2.0 - Fietsjack - Heren - Maat XL - Geel', 24.0], ['Omafiets - Zonix Solo Dutch 26 Inch Wit', 179.0], ['Altec Metro Damesfiets 28 inch 55cm Army Green 7v', 299.0], ['wheelerz Vouwfiets 20 Inch - 6 Speed Shimano - Zwart', 325.0], ['Altec Roma 28 inch Omafiets Zwart 58cm', 209.0], ['Amigo Racer - Mountainbike 24 inch - Voor jongens en meisjes - Met 18 versnellingen - Zwart/Geel', 203.9], ['EBIKE, Large capacity battery long range 48v 12.5ah 750w, 25-50 km/u electric bicycle electric bike, Black', 2070.0], ['Amigo Style - Damesfiets 28 inch - Fiets met 6 versnellingen - Zwart', 299.99], ['Broekklem chroom met reflectie (per set)', 12.62], ['Villette Calais transportfiets - 56 cm', 249.0], ['Crown Rio Damesfiets 28 inch 53cm Zwart', 309.0], ['Dino 321 - Vouwfiets - 20 Inch - Zwart', 257.72], ['Altec Metro Damesfiets 28 inch 49cm Mat Zwart', 299.0], ['Altec Metro Damesfiets 28 inch 55cm Lavender', 299.0], ['Wheelerz omafiets classic 28 inch matzwart | inclusief voordrager & krat', 259.0], ['Amigo Fly - BMX fiets 20 inch - Fietscross voor jongens en meisjes - Zwart/Blauw', 149.9], ['Cyclux Astro  Jongensfiets 26 Inch Blauw Zwart', 269.0], ['Altec Urban Transportfiets - 53cm - Lavender - 28 inch', 349.0], ['Amigo Fly - BMX fiets 20 inch - Fietscross voor jongens en meisjes - Groen', 149.9], ['Amigo Next Level - Mountainbike 26 inch - Voor jongens en meisjes - Met 21 versnellingen - Zwart/Geel', 245.7], ['Net over de grens - Reizen dichtbij, in België & Duitsland', 25.0], ['Zonix Meisjesfiets 24 Inch Licht Blauw Met Voordrager', 264.0], ['Amigo Rock Mountainbike 24 inch - Voor jongens en meisjes - Met 18 versnellingen - Zwart/Rood', 209.9], ['Amigo Moves - Stadsfiets 28 inch - Herenfiets met 6 versnellingen - Matblauw', 289.0], ['Rogelli Pesaro 2.0 - Fietsjack - Heren - Maat XL - Geel', 24.0], ['Omafiets - Zonix Solo Dutch 26 Inch Wit', 179.0], ['Altec Metro Damesfiets 28 inch 55cm Army Green 7v', 299.0], ['wheelerz Vouwfiets 20 Inch - 6 Speed Shimano - Zwart', 325.0], ['Altec Roma 28 inch Omafiets Zwart 58cm', 209.0], ['Amigo Racer - Mountainbike 24 inch - Voor jongens en meisjes - Met 18 versnellingen - Zwart/Geel', 203.9], ['EBIKE, Large capacity battery long range 48v 12.5ah 750w, 25-50 km/u electric bicycle electric bike, Black', 2070.0], ['Amigo Style - Damesfiets 28 inch - Fiets met 6 versnellingen - Zwart', 299.99], ['Broekklem chroom met reflectie (per set)', 12.62], ['Villette Calais transportfiets - 56 cm', 249.0], ['Crown Rio Damesfiets 28 inch 53cm Zwart', 309.0], ['Dino 321 - Vouwfiets - 20 Inch - Zwart', 257.72], ['Altec Metro Damesfiets 28 inch 49cm Mat Zwart', 299.0], ['Altec Metro Damesfiets 28 inch 55cm Lavender', 299.0], ['Wheelerz omafiets classic 28 inch matzwart | inclusief voordrager & krat', 259.0], ['Amigo Fly - BMX fiets 20 inch - Fietscross voor jongens en meisjes - Zwart/Blauw', 149.9], ['Cyclux Astro  Jongensfiets 26 Inch Blauw Zwart', 269.0], ['Altec Urban Transportfiets - 53cm - Lavender - 28 inch', 349.0], ['Amigo Fly - BMX fiets 20 inch - Fietscross voor jongens en meisjes - Groen', 149.9], ['Amigo Next Level - Mountainbike 26 inch - Voor jongens en meisjes - Met 21 versnellingen - Zwart/Geel', 245.7], ['Net over de grens - Reizen dichtbij, in België & Duitsland', 25.0], ['Zonix Meisjesfiets 24 Inch Licht Blauw Met Voordrager', 264.0], ['Amigo Rock Mountainbike 24 inch - Voor jongens en meisjes - Met 18 versnellingen - Zwart/Rood', 209.9], ['Amigo Moves - Stadsfiets 28 inch - Herenfiets met 6 versnellingen - Matblauw', 289.0], ['Rogelli Pesaro 2.0 - Fietsjack - Heren - Maat XL - Geel', 24.0], ['wheelerz Vouwfiets 20 Inch - 6 Speed Shimano - Zwart', 325.0]]\n"
     ]
    }
   ],
   "source": [
    "productlijst = []\n",
    "\n",
    "for item in producten_alle_paginas:\n",
    "    if item.find(class_=\"product-prices\").getText() == '\\nNiet leverbaar\\n':\n",
    "        prijs = None\n",
    "    else:\n",
    "        prijs = float(item.meta['content'])\n",
    "    product = item.find(class_=\"product-title--inline\").a.getText()\n",
    "    productlijst.append([product, prijs])\n",
    "    \n",
    "print(productlijst[:150])"
   ]
  },
  {
   "cell_type": "code",
   "execution_count": 11,
   "metadata": {},
   "outputs": [
    {
     "name": "stdout",
     "output_type": "stream",
     "text": [
      "(3576, 2)\n"
     ]
    },
    {
     "data": {
      "text/plain": [
       "count    3576.000000\n",
       "mean      301.942917\n",
       "std       380.132038\n",
       "min        12.620000\n",
       "25%       197.675000\n",
       "50%       258.360000\n",
       "75%       299.000000\n",
       "max      2070.000000\n",
       "Name: prijs, dtype: float64"
      ]
     },
     "execution_count": 11,
     "metadata": {},
     "output_type": "execute_result"
    }
   ],
   "source": [
    "df = pd.DataFrame(productlijst, columns=[\"Product\", \"prijs\"])\n",
    "print(df.shape)\n",
    "df[\"prijs\"].describe()"
   ]
  }
 ],
 "metadata": {
  "interpreter": {
   "hash": "be3492a5e888973eb70359e6380d1c6652c185929b9041468104d752a9a616f9"
  },
  "kernelspec": {
   "display_name": "Python 3.10.2 64-bit",
   "language": "python",
   "name": "python3"
  },
  "language_info": {
   "codemirror_mode": {
    "name": "ipython",
    "version": 3
   },
   "file_extension": ".py",
   "mimetype": "text/x-python",
   "name": "python",
   "nbconvert_exporter": "python",
   "pygments_lexer": "ipython3",
   "version": "3.10.2"
  },
  "orig_nbformat": 4
 },
 "nbformat": 4,
 "nbformat_minor": 2
}
