{
 "cells": [
  {
   "cell_type": "code",
   "execution_count": 1,
   "metadata": {},
   "outputs": [],
   "source": [
    "import pandas as pd\n",
    "import numpy as np\n",
    "import requests\n",
    "from bs4 import BeautifulSoup"
   ]
  },
  {
   "cell_type": "code",
   "execution_count": 2,
   "metadata": {},
   "outputs": [
    {
     "data": {
      "text/plain": [
       "3576"
      ]
     },
     "execution_count": 2,
     "metadata": {},
     "output_type": "execute_result"
    }
   ],
   "source": [
    "producten_alle_paginas = []\n",
    "\n",
    "for i in range(1,150):\n",
    "    response = requests.get(f\"https://www.bol.com/be/nl/s/?searchtext=zwemmen\")\n",
    "    content = response.content\n",
    "    parser = BeautifulSoup(content, 'html.parser')\n",
    "    body = parser.body\n",
    "    producten = body.find_all(class_=\"product-item--row js_item_root\")\n",
    "    producten_alle_paginas.extend(producten)\n",
    "    \n",
    "len(producten_alle_paginas)"
   ]
  },
  {
   "cell_type": "code",
   "execution_count": 3,
   "metadata": {},
   "outputs": [
    {
     "name": "stdout",
     "output_type": "stream",
     "text": [
      "12.99\n",
      "Flex Healthy slaap oordoppen- Hoge demping Dempt snurk geluiden- gehoorbescherming- Earplugs- Snurken- Dempt alle geluiden- Geluid- Geluidsoverlast- SNR 25 dB- geschikt voor: Slapen- Werken- Zwemmen-Geluiden- Focus/ Afleiding 1 Paar- Kleur: Wit\n"
     ]
    }
   ],
   "source": [
    "prijs = float(producten_alle_paginas[5].meta.get('content'))\n",
    "productnaam = producten_alle_paginas[5].find(class_=\"product-title--inline\").a.getText()\n",
    "print(prijs)\n",
    "print(productnaam)"
   ]
  },
  {
   "cell_type": "code",
   "execution_count": 4,
   "metadata": {},
   "outputs": [
    {
     "name": "stdout",
     "output_type": "stream",
     "text": [
      "[['Zwemmen in de natuur', 22.99], ['Flex Healthy-12x Slaap Oordopjes - Snurken - Slaapoordoppen - Zwem Oordoppen - Slapen - Geluidsoverlast - Sound Plugs - Anti Snurk - Slaaphulp - Geluid - Studeren - Gehoorbescherming - Earplugs - Lawaai - Waterdicht - Hoge demping Kneedbare Siliconen', 19.99], ['Zwembadonderhoud - LIFETASTIC® 100 stuks - 5 in 1 Teststrips zwembad - Waterkwaliteit Controle - Spa - Jacuzzi - Chloor - pH Waarde - Veilig Zwemmen - Onderhoud - Water - NL Verpakking en Handleiding', 14.45], ['Mr Sleep® - 12x Sound plugs - Oordoppen - Earplugs - Geluidsoverlast - Slapen - Zwem Oordopjes - Slaap Oordopjes - Kneedbare - Snurken - Volwassenen - Anti Snurk - Siliconen', 12.95], ['Zwembad - Intex Ultra XTR Rechthoekig Frame Pool 549x274x132 cm incl. accessoires  - ZwemDeluxe', 1007.79], ['Flex Healthy slaap oordoppen- Hoge demping Dempt snurk geluiden- gehoorbescherming- Earplugs- Snurken- Dempt alle geluiden- Geluid- Geluidsoverlast- SNR 25 dB- geschikt voor: Slapen- Werken- Zwemmen-Geluiden- Focus/ Afleiding 1 Paar- Kleur: Wit', 12.99], ['Zwemvest kinderen - Zeester groen | 2 - 6 jaar | 14 - 25kg | Veilig zwemmen | Zwemband | Reddingsvest | Kidzstore.eu', 22.0], ['Zwemvleugels - Opblaasbare zwembandjes 1-2 jaar/11-15 kg voor baby/babies - Zwemhulp opblaas zwemmouwtjes/zwemvleugeltjes - Veilig zwemmen', 10.95], ['Waimea Zwem Neusklem - Transparant/Kobalt', 7.99], ['Weerstandsband - Swim Trainer Pro - Zwemelastiek - Zwemgordel - Rood - Zwem Training - Trainingsbanden - Zwem Weerstand - Vakantie accessoire voor in het zwembad', 24.95], ['Essentials Goods Kneedbare Oordopjes Slapen Gehoorbescherming voor Volwassenen & Kinderen - 16x Sleep Plugs Siliconen Earplugs - Oordoppen Zwemmen & Muziek - Oorbeschermers', 9.95], ['Comfy Noodle - Hulp bij zwemmen - Assorti - 160 cm - 1 Stuk', 13.9], ['Zwemvest kinderen - flamingo| 2 - 6 jaar | 15 - 25kg | Veilig zwemmen | Zwemband | Reddingsvest', 22.0], ['Alpine Swimsafe - Oortjes - Zwemmen - 1 paar', 12.56], ['Huidverzorging - Golden Naturals Zwem- & kinderwratjes (100 milliliter)', 14.95], ['Premium Safe swimmer Zwemboei voor veilig Openwaterzwemmen - Safeswimmer zwem boei inclusief drybag opbergzak | B&H Safe swimmer', 27.45], ['Zwemboei voor Veilig Openwater en Triatlon Zwemmen - Zwem Boei - Reddingsboeien - incl. drybag /Saferswimmer/Safe swimmer/ 20 Liter + Waterdichte smartphone hoes - Waveslider®', 49.95], ['Dog Man 8 -   Dog Man ziet ze zwemmen', 15.99], ['Onderwatercamera Schokbestendig, Stofdicht en Waterdicht tot 3 meter iON Cool-iCam Zwart Rood 1042 Selfie camera Digitale camera voor zelfontspanner, Onderwater, Zwemmen, Vakantie', 49.99], ['Intex 3-D Dinosaurus zwemvleugels | dino| zwembandjes| zwemmen kinderen | Armband | dinosaur', 9.0], ['Unicorn zwembandjes - opblaasbaar - zwemband - zwemvleugels - zwemgordel - veilig - zwemmen - evooni - kinderen - 3-6 jaar - 15 tot 30kg - kers - aardbei - ananas - toekan - haai - unicorn - eenhoorn - krab', 14.95], ['Oordoppen - 12 Stuks Oordopppen - Slapen - Zwem Oordopjes - Gehoorbescherming - Waterdicht – Siliconen – Kneedbare - Oortjes - Sleep Plugs – Earplugs', 9.99], ['Oordoppen - Zwem Oordopjes - Gehoorbescherming - Waterdichte Siliconen oordopjes - Snurken - Partyplugs - Herbruikbaar', 11.99], ['LifeProducts4You Oordopjes Slapen - Earplugs - Zwem Oordopjes - Oordoppen - Gehoorbescherming - Sleep Plugs - Waterdicht - Siliconen Kneedbare Oordopjes - 12 Stuks - Wit', 5.99], ['Zwemmen in de natuur', 22.99], ['Flex Healthy-12x Slaap Oordopjes - Snurken - Slaapoordoppen - Zwem Oordoppen - Slapen - Geluidsoverlast - Sound Plugs - Anti Snurk - Slaaphulp - Geluid - Studeren - Gehoorbescherming - Earplugs - Lawaai - Waterdicht - Hoge demping Kneedbare Siliconen', 19.99], ['LIFETASTIC® 100 stuks - 5 in 1 Teststrips zwembad - Waterkwaliteit Controle - Spa - Jacuzzi - Chloor - pH Waarde - Veilig Zwemmen - Onderhoud - Water - NL Verpakking en Handleiding', 14.45], ['Mr Sleep® - 12x Sound plugs - Oordoppen - Earplugs - Geluidsoverlast - Slapen - Zwem Oordopjes - Slaap Oordopjes - Kneedbare - Snurken - Volwassenen - Anti Snurk - Siliconen', 12.95], ['Intex Ultra XTR Rechthoekig Frame Pool 549x274x132 cm incl. accessoires  - ZwemDeluxe', 1007.79], ['Flex Healthy slaap oordoppen- Hoge demping Dempt snurk geluiden- gehoorbescherming- Earplugs- Snurken- Dempt alle geluiden- Geluid- Geluidsoverlast- SNR 25 dB- geschikt voor: Slapen- Werken- Zwemmen-Geluiden- Focus/ Afleiding 1 Paar- Kleur: Wit', 12.99], ['Zwemvest kinderen - Zeester groen | 2 - 6 jaar | 14 - 25kg | Veilig zwemmen | Zwemband | Reddingsvest | Kidzstore.eu', 22.0], ['Opblaasbare zwembandjes 1-2 jaar/11-15 kg voor baby/babies - Zwemhulp opblaas zwemmouwtjes/zwemvleugeltjes - Veilig zwemmen', 10.95], ['Waimea Zwem Neusklem - Transparant/Kobalt', 7.99], ['Swim Trainer Pro - Zwemelastiek - Zwemgordel - Rood - Zwem Training - Trainingsbanden - Zwem Weerstand - Vakantie accessoire voor in het zwembad', 24.95], ['Essentials Goods Kneedbare Oordopjes Slapen Gehoorbescherming voor Volwassenen & Kinderen - 16x Sleep Plugs Siliconen Earplugs - Oordoppen Zwemmen & Muziek - Oorbeschermers', 9.95], ['Comfy Noodle - Hulp bij zwemmen - Assorti - 160 cm - 1 Stuk', 13.9], ['Zwemvest kinderen - flamingo| 2 - 6 jaar | 15 - 25kg | Veilig zwemmen | Zwemband | Reddingsvest', 22.0], ['Alpine Swimsafe - Oortjes - Zwemmen - 1 paar', 12.56], ['Golden Naturals Zwem- & kinderwratjes (100 milliliter)', 14.95], ['Premium Safe swimmer Zwemboei voor veilig Openwaterzwemmen - Safeswimmer zwem boei inclusief drybag opbergzak | B&H Safe swimmer', 27.45], ['Zwemboei voor Veilig Openwater en Triatlon Zwemmen - Zwem Boei - Reddingsboeien - incl. drybag /Saferswimmer/Safe swimmer/ 20 Liter + Waterdichte smartphone hoes - Waveslider®', 49.95], ['Dog Man 8 -   Dog Man ziet ze zwemmen', 15.99], ['Onderwatercamera Schokbestendig, Stofdicht en Waterdicht tot 3 meter iON Cool-iCam Zwart Rood 1042 Selfie camera Digitale camera voor zelfontspanner, Onderwater, Zwemmen, Vakantie', 49.99], ['Intex 3-D Dinosaurus zwemvleugels | dino| zwembandjes| zwemmen kinderen | Armband | dinosaur', 9.0], ['Unicorn zwembandjes - opblaasbaar - zwemband - zwemvleugels - zwemgordel - veilig - zwemmen - evooni - kinderen - 3-6 jaar - 15 tot 30kg - kers - aardbei - ananas - toekan - haai - unicorn - eenhoorn - krab', 14.95], ['12 Stuks Oordopppen - Slapen - Zwem Oordopjes - Gehoorbescherming - Waterdicht – Siliconen – Kneedbare - Oortjes - Sleep Plugs – Earplugs', 9.99], ['Zwem Oordopjes - Gehoorbescherming - Waterdichte Siliconen oordopjes - Snurken - Partyplugs - Herbruikbaar', 11.99], ['LifeProducts4You Oordopjes Slapen - Earplugs - Zwem Oordopjes - Oordoppen - Gehoorbescherming - Sleep Plugs - Waterdicht - Siliconen Kneedbare Oordopjes - 12 Stuks - Wit', 5.99], ['Zwemmen in de natuur', 22.99], ['Flex Healthy-12x Slaap Oordopjes - Snurken - Slaapoordoppen - Zwem Oordoppen - Slapen - Geluidsoverlast - Sound Plugs - Anti Snurk - Slaaphulp - Geluid - Studeren - Gehoorbescherming - Earplugs - Lawaai - Waterdicht - Hoge demping Kneedbare Siliconen', 19.99], ['Zwembadonderhoud - LIFETASTIC® 100 stuks - 5 in 1 Teststrips zwembad - Waterkwaliteit Controle - Spa - Jacuzzi - Chloor - pH Waarde - Veilig Zwemmen - Onderhoud - Water - NL Verpakking en Handleiding', 14.45], ['Mr Sleep® - 12x Sound plugs - Oordoppen - Earplugs - Geluidsoverlast - Slapen - Zwem Oordopjes - Slaap Oordopjes - Kneedbare - Snurken - Volwassenen - Anti Snurk - Siliconen', 12.95], ['Zwembad - Intex Ultra XTR Rechthoekig Frame Pool 549x274x132 cm incl. accessoires  - ZwemDeluxe', 1007.79], ['Flex Healthy slaap oordoppen- Hoge demping Dempt snurk geluiden- gehoorbescherming- Earplugs- Snurken- Dempt alle geluiden- Geluid- Geluidsoverlast- SNR 25 dB- geschikt voor: Slapen- Werken- Zwemmen-Geluiden- Focus/ Afleiding 1 Paar- Kleur: Wit', 12.99], ['Zwemvest kinderen - Zeester groen | 2 - 6 jaar | 14 - 25kg | Veilig zwemmen | Zwemband | Reddingsvest | Kidzstore.eu', 22.0], ['Zwemvleugels - Opblaasbare zwembandjes 1-2 jaar/11-15 kg voor baby/babies - Zwemhulp opblaas zwemmouwtjes/zwemvleugeltjes - Veilig zwemmen', 10.95], ['Waimea Zwem Neusklem - Transparant/Kobalt', 7.99], ['Weerstandsband - Swim Trainer Pro - Zwemelastiek - Zwemgordel - Rood - Zwem Training - Trainingsbanden - Zwem Weerstand - Vakantie accessoire voor in het zwembad', 24.95], ['Essentials Goods Kneedbare Oordopjes Slapen Gehoorbescherming voor Volwassenen & Kinderen - 16x Sleep Plugs Siliconen Earplugs - Oordoppen Zwemmen & Muziek - Oorbeschermers', 9.95], ['Comfy Noodle - Hulp bij zwemmen - Assorti - 160 cm - 1 Stuk', 13.9], ['Zwemvest kinderen - flamingo| 2 - 6 jaar | 15 - 25kg | Veilig zwemmen | Zwemband | Reddingsvest', 22.0], ['Alpine Swimsafe - Oortjes - Zwemmen - 1 paar', 12.56], ['Huidverzorging - Golden Naturals Zwem- & kinderwratjes (100 milliliter)', 14.95], ['Premium Safe swimmer Zwemboei voor veilig Openwaterzwemmen - Safeswimmer zwem boei inclusief drybag opbergzak | B&H Safe swimmer', 27.45], ['Zwemboei voor Veilig Openwater en Triatlon Zwemmen - Zwem Boei - Reddingsboeien - incl. drybag /Saferswimmer/Safe swimmer/ 20 Liter + Waterdichte smartphone hoes - Waveslider®', 49.95], ['Dog Man 8 -   Dog Man ziet ze zwemmen', 15.99], ['Onderwatercamera Schokbestendig, Stofdicht en Waterdicht tot 3 meter iON Cool-iCam Zwart Rood 1042 Selfie camera Digitale camera voor zelfontspanner, Onderwater, Zwemmen, Vakantie', 49.99], ['Intex 3-D Dinosaurus zwemvleugels | dino| zwembandjes| zwemmen kinderen | Armband | dinosaur', 9.0], ['Unicorn zwembandjes - opblaasbaar - zwemband - zwemvleugels - zwemgordel - veilig - zwemmen - evooni - kinderen - 3-6 jaar - 15 tot 30kg - kers - aardbei - ananas - toekan - haai - unicorn - eenhoorn - krab', 14.95], ['Oordoppen - 12 Stuks Oordopppen - Slapen - Zwem Oordopjes - Gehoorbescherming - Waterdicht – Siliconen – Kneedbare - Oortjes - Sleep Plugs – Earplugs', 9.99], ['Oordoppen - Zwem Oordopjes - Gehoorbescherming - Waterdichte Siliconen oordopjes - Snurken - Partyplugs - Herbruikbaar', 11.99], ['LifeProducts4You Oordopjes Slapen - Earplugs - Zwem Oordopjes - Oordoppen - Gehoorbescherming - Sleep Plugs - Waterdicht - Siliconen Kneedbare Oordopjes - 12 Stuks - Wit', 5.99], ['Zwemmen in de natuur', 22.99], ['Flex Healthy-12x Slaap Oordopjes - Snurken - Slaapoordoppen - Zwem Oordoppen - Slapen - Geluidsoverlast - Sound Plugs - Anti Snurk - Slaaphulp - Geluid - Studeren - Gehoorbescherming - Earplugs - Lawaai - Waterdicht - Hoge demping Kneedbare Siliconen', 19.99], ['Zwembadonderhoud - LIFETASTIC® 100 stuks - 5 in 1 Teststrips zwembad - Waterkwaliteit Controle - Spa - Jacuzzi - Chloor - pH Waarde - Veilig Zwemmen - Onderhoud - Water - NL Verpakking en Handleiding', 14.45], ['Mr Sleep® - 12x Sound plugs - Oordoppen - Earplugs - Geluidsoverlast - Slapen - Zwem Oordopjes - Slaap Oordopjes - Kneedbare - Snurken - Volwassenen - Anti Snurk - Siliconen', 12.95], ['Zwembad - Intex Ultra XTR Rechthoekig Frame Pool 549x274x132 cm incl. accessoires  - ZwemDeluxe', 1007.79], ['Flex Healthy slaap oordoppen- Hoge demping Dempt snurk geluiden- gehoorbescherming- Earplugs- Snurken- Dempt alle geluiden- Geluid- Geluidsoverlast- SNR 25 dB- geschikt voor: Slapen- Werken- Zwemmen-Geluiden- Focus/ Afleiding 1 Paar- Kleur: Wit', 12.99], ['Zwemvest kinderen - Zeester groen | 2 - 6 jaar | 14 - 25kg | Veilig zwemmen | Zwemband | Reddingsvest | Kidzstore.eu', 22.0], ['Zwemvleugels - Opblaasbare zwembandjes 1-2 jaar/11-15 kg voor baby/babies - Zwemhulp opblaas zwemmouwtjes/zwemvleugeltjes - Veilig zwemmen', 10.95], ['Waimea Zwem Neusklem - Transparant/Kobalt', 7.99], ['Weerstandsband - Swim Trainer Pro - Zwemelastiek - Zwemgordel - Rood - Zwem Training - Trainingsbanden - Zwem Weerstand - Vakantie accessoire voor in het zwembad', 24.95], ['Essentials Goods Kneedbare Oordopjes Slapen Gehoorbescherming voor Volwassenen & Kinderen - 16x Sleep Plugs Siliconen Earplugs - Oordoppen Zwemmen & Muziek - Oorbeschermers', 9.95], ['Comfy Noodle - Hulp bij zwemmen - Assorti - 160 cm - 1 Stuk', 13.9], ['Zwemvest kinderen - flamingo| 2 - 6 jaar | 15 - 25kg | Veilig zwemmen | Zwemband | Reddingsvest', 22.0], ['Alpine Swimsafe - Oortjes - Zwemmen - 1 paar', 12.56], ['Huidverzorging - Golden Naturals Zwem- & kinderwratjes (100 milliliter)', 14.95], ['Premium Safe swimmer Zwemboei voor veilig Openwaterzwemmen - Safeswimmer zwem boei inclusief drybag opbergzak | B&H Safe swimmer', 27.45], ['Zwemboei voor Veilig Openwater en Triatlon Zwemmen - Zwem Boei - Reddingsboeien - incl. drybag /Saferswimmer/Safe swimmer/ 20 Liter + Waterdichte smartphone hoes - Waveslider®', 49.95], ['Dog Man 8 -   Dog Man ziet ze zwemmen', 15.99], ['Onderwatercamera Schokbestendig, Stofdicht en Waterdicht tot 3 meter iON Cool-iCam Zwart Rood 1042 Selfie camera Digitale camera voor zelfontspanner, Onderwater, Zwemmen, Vakantie', 49.99], ['Intex 3-D Dinosaurus zwemvleugels | dino| zwembandjes| zwemmen kinderen | Armband | dinosaur', 9.0], ['Unicorn zwembandjes - opblaasbaar - zwemband - zwemvleugels - zwemgordel - veilig - zwemmen - evooni - kinderen - 3-6 jaar - 15 tot 30kg - kers - aardbei - ananas - toekan - haai - unicorn - eenhoorn - krab', 14.95], ['Oordoppen - 12 Stuks Oordopppen - Slapen - Zwem Oordopjes - Gehoorbescherming - Waterdicht – Siliconen – Kneedbare - Oortjes - Sleep Plugs – Earplugs', 9.99], ['Oordoppen - Zwem Oordopjes - Gehoorbescherming - Waterdichte Siliconen oordopjes - Snurken - Partyplugs - Herbruikbaar', 11.99], ['LifeProducts4You Oordopjes Slapen - Earplugs - Zwem Oordopjes - Oordoppen - Gehoorbescherming - Sleep Plugs - Waterdicht - Siliconen Kneedbare Oordopjes - 12 Stuks - Wit', 5.99], ['Zwemmen in de natuur', 22.99], ['Flex Healthy-12x Slaap Oordopjes - Snurken - Slaapoordoppen - Zwem Oordoppen - Slapen - Geluidsoverlast - Sound Plugs - Anti Snurk - Slaaphulp - Geluid - Studeren - Gehoorbescherming - Earplugs - Lawaai - Waterdicht - Hoge demping Kneedbare Siliconen', 19.99], ['LIFETASTIC® 100 stuks - 5 in 1 Teststrips zwembad - Waterkwaliteit Controle - Spa - Jacuzzi - Chloor - pH Waarde - Veilig Zwemmen - Onderhoud - Water - NL Verpakking en Handleiding', 14.45], ['Mr Sleep® - 12x Sound plugs - Oordoppen - Earplugs - Geluidsoverlast - Slapen - Zwem Oordopjes - Slaap Oordopjes - Kneedbare - Snurken - Volwassenen - Anti Snurk - Siliconen', 12.95], ['Intex Ultra XTR Rechthoekig Frame Pool 549x274x132 cm incl. accessoires  - ZwemDeluxe', 1007.79], ['Flex Healthy slaap oordoppen- Hoge demping Dempt snurk geluiden- gehoorbescherming- Earplugs- Snurken- Dempt alle geluiden- Geluid- Geluidsoverlast- SNR 25 dB- geschikt voor: Slapen- Werken- Zwemmen-Geluiden- Focus/ Afleiding 1 Paar- Kleur: Wit', 12.99], ['Zwemvest kinderen - Zeester groen | 2 - 6 jaar | 14 - 25kg | Veilig zwemmen | Zwemband | Reddingsvest | Kidzstore.eu', 22.0], ['Opblaasbare zwembandjes 1-2 jaar/11-15 kg voor baby/babies - Zwemhulp opblaas zwemmouwtjes/zwemvleugeltjes - Veilig zwemmen', 10.95], ['Waimea Zwem Neusklem - Transparant/Kobalt', 7.99], ['Swim Trainer Pro - Zwemelastiek - Zwemgordel - Rood - Zwem Training - Trainingsbanden - Zwem Weerstand - Vakantie accessoire voor in het zwembad', 24.95], ['Essentials Goods Kneedbare Oordopjes Slapen Gehoorbescherming voor Volwassenen & Kinderen - 16x Sleep Plugs Siliconen Earplugs - Oordoppen Zwemmen & Muziek - Oorbeschermers', 9.95], ['Comfy Noodle - Hulp bij zwemmen - Assorti - 160 cm - 1 Stuk', 13.9], ['Zwemvest kinderen - flamingo| 2 - 6 jaar | 15 - 25kg | Veilig zwemmen | Zwemband | Reddingsvest', 22.0], ['Alpine Swimsafe - Oortjes - Zwemmen - 1 paar', 12.56], ['Golden Naturals Zwem- & kinderwratjes (100 milliliter)', 14.95], ['Premium Safe swimmer Zwemboei voor veilig Openwaterzwemmen - Safeswimmer zwem boei inclusief drybag opbergzak | B&H Safe swimmer', 27.45], ['Zwemboei voor Veilig Openwater en Triatlon Zwemmen - Zwem Boei - Reddingsboeien - incl. drybag /Saferswimmer/Safe swimmer/ 20 Liter + Waterdichte smartphone hoes - Waveslider®', 49.95], ['Dog Man 8 -   Dog Man ziet ze zwemmen', 15.99], ['Onderwatercamera Schokbestendig, Stofdicht en Waterdicht tot 3 meter iON Cool-iCam Zwart Rood 1042 Selfie camera Digitale camera voor zelfontspanner, Onderwater, Zwemmen, Vakantie', 49.99], ['Intex 3-D Dinosaurus zwemvleugels | dino| zwembandjes| zwemmen kinderen | Armband | dinosaur', 9.0], ['Unicorn zwembandjes - opblaasbaar - zwemband - zwemvleugels - zwemgordel - veilig - zwemmen - evooni - kinderen - 3-6 jaar - 15 tot 30kg - kers - aardbei - ananas - toekan - haai - unicorn - eenhoorn - krab', 14.95], ['12 Stuks Oordopppen - Slapen - Zwem Oordopjes - Gehoorbescherming - Waterdicht – Siliconen – Kneedbare - Oortjes - Sleep Plugs – Earplugs', 9.99], ['Zwem Oordopjes - Gehoorbescherming - Waterdichte Siliconen oordopjes - Snurken - Partyplugs - Herbruikbaar', 11.99], ['LifeProducts4You Oordopjes Slapen - Earplugs - Zwem Oordopjes - Oordoppen - Gehoorbescherming - Sleep Plugs - Waterdicht - Siliconen Kneedbare Oordopjes - 12 Stuks - Wit', 5.99], ['Zwemmen in de natuur', 22.99], ['Flex Healthy-12x Slaap Oordopjes - Snurken - Slaapoordoppen - Zwem Oordoppen - Slapen - Geluidsoverlast - Sound Plugs - Anti Snurk - Slaaphulp - Geluid - Studeren - Gehoorbescherming - Earplugs - Lawaai - Waterdicht - Hoge demping Kneedbare Siliconen', 19.99], ['LIFETASTIC® 100 stuks - 5 in 1 Teststrips zwembad - Waterkwaliteit Controle - Spa - Jacuzzi - Chloor - pH Waarde - Veilig Zwemmen - Onderhoud - Water - NL Verpakking en Handleiding', 14.45], ['Mr Sleep® - 12x Sound plugs - Oordoppen - Earplugs - Geluidsoverlast - Slapen - Zwem Oordopjes - Slaap Oordopjes - Kneedbare - Snurken - Volwassenen - Anti Snurk - Siliconen', 12.95], ['Intex Ultra XTR Rechthoekig Frame Pool 549x274x132 cm incl. accessoires  - ZwemDeluxe', 1007.79], ['Flex Healthy slaap oordoppen- Hoge demping Dempt snurk geluiden- gehoorbescherming- Earplugs- Snurken- Dempt alle geluiden- Geluid- Geluidsoverlast- SNR 25 dB- geschikt voor: Slapen- Werken- Zwemmen-Geluiden- Focus/ Afleiding 1 Paar- Kleur: Wit', 12.99], ['Zwemvest kinderen - Zeester groen | 2 - 6 jaar | 14 - 25kg | Veilig zwemmen | Zwemband | Reddingsvest | Kidzstore.eu', 22.0], ['Opblaasbare zwembandjes 1-2 jaar/11-15 kg voor baby/babies - Zwemhulp opblaas zwemmouwtjes/zwemvleugeltjes - Veilig zwemmen', 10.95], ['Waimea Zwem Neusklem - Transparant/Kobalt', 7.99], ['Swim Trainer Pro - Zwemelastiek - Zwemgordel - Rood - Zwem Training - Trainingsbanden - Zwem Weerstand - Vakantie accessoire voor in het zwembad', 24.95], ['Essentials Goods Kneedbare Oordopjes Slapen Gehoorbescherming voor Volwassenen & Kinderen - 16x Sleep Plugs Siliconen Earplugs - Oordoppen Zwemmen & Muziek - Oorbeschermers', 9.95], ['Comfy Noodle - Hulp bij zwemmen - Assorti - 160 cm - 1 Stuk', 13.9], ['Zwemvest kinderen - flamingo| 2 - 6 jaar | 15 - 25kg | Veilig zwemmen | Zwemband | Reddingsvest', 22.0], ['Alpine Swimsafe - Oortjes - Zwemmen - 1 paar', 12.56], ['Golden Naturals Zwem- & kinderwratjes (100 milliliter)', 14.95], ['Premium Safe swimmer Zwemboei voor veilig Openwaterzwemmen - Safeswimmer zwem boei inclusief drybag opbergzak | B&H Safe swimmer', 27.45], ['Zwemboei voor Veilig Openwater en Triatlon Zwemmen - Zwem Boei - Reddingsboeien - incl. drybag /Saferswimmer/Safe swimmer/ 20 Liter + Waterdichte smartphone hoes - Waveslider®', 49.95], ['Dog Man 8 -   Dog Man ziet ze zwemmen', 15.99], ['Onderwatercamera Schokbestendig, Stofdicht en Waterdicht tot 3 meter iON Cool-iCam Zwart Rood 1042 Selfie camera Digitale camera voor zelfontspanner, Onderwater, Zwemmen, Vakantie', 49.99], ['Intex 3-D Dinosaurus zwemvleugels | dino| zwembandjes| zwemmen kinderen | Armband | dinosaur', 9.0], ['Unicorn zwembandjes - opblaasbaar - zwemband - zwemvleugels - zwemgordel - veilig - zwemmen - evooni - kinderen - 3-6 jaar - 15 tot 30kg - kers - aardbei - ananas - toekan - haai - unicorn - eenhoorn - krab', 14.95], ['12 Stuks Oordopppen - Slapen - Zwem Oordopjes - Gehoorbescherming - Waterdicht – Siliconen – Kneedbare - Oortjes - Sleep Plugs – Earplugs', 9.99], ['Zwem Oordopjes - Gehoorbescherming - Waterdichte Siliconen oordopjes - Snurken - Partyplugs - Herbruikbaar', 11.99], ['LifeProducts4You Oordopjes Slapen - Earplugs - Zwem Oordopjes - Oordoppen - Gehoorbescherming - Sleep Plugs - Waterdicht - Siliconen Kneedbare Oordopjes - 12 Stuks - Wit', 5.99], ['Zwemmen in de natuur', 22.99], ['Flex Healthy-12x Slaap Oordopjes - Snurken - Slaapoordoppen - Zwem Oordoppen - Slapen - Geluidsoverlast - Sound Plugs - Anti Snurk - Slaaphulp - Geluid - Studeren - Gehoorbescherming - Earplugs - Lawaai - Waterdicht - Hoge demping Kneedbare Siliconen', 19.99], ['LIFETASTIC® 100 stuks - 5 in 1 Teststrips zwembad - Waterkwaliteit Controle - Spa - Jacuzzi - Chloor - pH Waarde - Veilig Zwemmen - Onderhoud - Water - NL Verpakking en Handleiding', 14.45], ['Mr Sleep® - 12x Sound plugs - Oordoppen - Earplugs - Geluidsoverlast - Slapen - Zwem Oordopjes - Slaap Oordopjes - Kneedbare - Snurken - Volwassenen - Anti Snurk - Siliconen', 12.95], ['Intex Ultra XTR Rechthoekig Frame Pool 549x274x132 cm incl. accessoires  - ZwemDeluxe', 1007.79], ['Flex Healthy slaap oordoppen- Hoge demping Dempt snurk geluiden- gehoorbescherming- Earplugs- Snurken- Dempt alle geluiden- Geluid- Geluidsoverlast- SNR 25 dB- geschikt voor: Slapen- Werken- Zwemmen-Geluiden- Focus/ Afleiding 1 Paar- Kleur: Wit', 12.99]]\n"
     ]
    }
   ],
   "source": [
    "productlijst = []\n",
    "\n",
    "for item in producten_alle_paginas:\n",
    "    if item.find(class_=\"product-prices\").getText() == '\\nNiet leverbaar\\n':\n",
    "        prijs = None\n",
    "    else:\n",
    "        prijs = float(item.meta['content'])\n",
    "    product = item.find(class_=\"product-title--inline\").a.getText()\n",
    "    productlijst.append([product, prijs])\n",
    "    \n",
    "print(productlijst[:150])"
   ]
  },
  {
   "cell_type": "code",
   "execution_count": 5,
   "metadata": {},
   "outputs": [
    {
     "name": "stdout",
     "output_type": "stream",
     "text": [
      "(3576, 2)\n"
     ]
    },
    {
     "data": {
      "text/plain": [
       "count    3576.000000\n",
       "mean       59.404583\n",
       "std       198.086529\n",
       "min         5.990000\n",
       "25%        11.730000\n",
       "50%        14.700000\n",
       "75%        22.247500\n",
       "max      1007.790000\n",
       "Name: prijs, dtype: float64"
      ]
     },
     "execution_count": 5,
     "metadata": {},
     "output_type": "execute_result"
    }
   ],
   "source": [
    "df = pd.DataFrame(productlijst, columns=[\"Product\", \"prijs\"])\n",
    "print(df.shape)\n",
    "df[\"prijs\"].describe()"
   ]
  }
 ],
 "metadata": {
  "interpreter": {
   "hash": "be3492a5e888973eb70359e6380d1c6652c185929b9041468104d752a9a616f9"
  },
  "kernelspec": {
   "display_name": "Python 3.10.2 64-bit",
   "language": "python",
   "name": "python3"
  },
  "language_info": {
   "codemirror_mode": {
    "name": "ipython",
    "version": 3
   },
   "file_extension": ".py",
   "mimetype": "text/x-python",
   "name": "python",
   "nbconvert_exporter": "python",
   "pygments_lexer": "ipython3",
   "version": "3.10.2"
  },
  "orig_nbformat": 4
 },
 "nbformat": 4,
 "nbformat_minor": 2
}
