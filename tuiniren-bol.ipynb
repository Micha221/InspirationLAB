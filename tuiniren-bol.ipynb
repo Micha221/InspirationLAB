{
 "cells": [
  {
   "cell_type": "code",
   "execution_count": 1,
   "metadata": {},
   "outputs": [],
   "source": [
    "import pandas as pd\n",
    "import numpy as np\n",
    "import requests\n",
    "from bs4 import BeautifulSoup"
   ]
  },
  {
   "cell_type": "code",
   "execution_count": 2,
   "metadata": {},
   "outputs": [
    {
     "data": {
      "text/plain": [
       "3576"
      ]
     },
     "execution_count": 2,
     "metadata": {},
     "output_type": "execute_result"
    }
   ],
   "source": [
    "producten_alle_paginas = []\n",
    "\n",
    "for i in range(1,150):\n",
    "    response = requests.get(f\"https://www.bol.com/be/nl/s/?searchtext=tuinieren\")\n",
    "    content = response.content\n",
    "    parser = BeautifulSoup(content, 'html.parser')\n",
    "    body = parser.body\n",
    "    producten = body.find_all(class_=\"product-item--row js_item_root\")\n",
    "    producten_alle_paginas.extend(producten)\n",
    "    \n",
    "len(producten_alle_paginas)"
   ]
  },
  {
   "cell_type": "code",
   "execution_count": 4,
   "metadata": {},
   "outputs": [
    {
     "name": "stdout",
     "output_type": "stream",
     "text": [
      "16.99\n",
      "Lichtsnoer - Happy Goods - Solar tuinverlichting - 50 Led 7 meter  zonne-energie - crystal lampjes -Tuin - Buiten Tuinverlichting - Terras - solar - sfeerverlichting - tuinieren cadeau - Buitenverlichting - Padverlichting - buitenlamp\n"
     ]
    }
   ],
   "source": [
    "prijs = float(producten_alle_paginas[6].meta.get('content'))\n",
    "productnaam = producten_alle_paginas[6].find(class_=\"product-title--inline\").a.getText()\n",
    "print(prijs)\n",
    "print(productnaam)"
   ]
  },
  {
   "cell_type": "code",
   "execution_count": 5,
   "metadata": {},
   "outputs": [
    {
     "name": "stdout",
     "output_type": "stream",
     "text": [
      "[['De moestuinkalender', 9.99], ['Een jaar in de tuin', 30.95], ['De moestuin', 25.0], [\"Marieke's pluktuin\", 29.99], ['Voor Dummies  -   Basisboek Tuinieren voor Dummies', 32.99], ['In de moestuin', 40.0], ['Lichtsnoer - Happy Goods - Solar tuinverlichting - 50 Led 7 meter  zonne-energie - crystal lampjes -Tuin - Buiten Tuinverlichting - Terras - solar - sfeerverlichting - tuinieren cadeau - Buitenverlichting - Padverlichting - buitenlamp', 16.99], ['Liefde voor kippen', 27.99], ['Lichtsnoer - Happy Goods - 100 LED - 14 Meter - zonne-energie - crystal lampjes - Tuin - Buiten Tuinverlichting - Terras - solar - sfeerverlichting - tuinieren cadeau - Buitenverlichting - Padverlichting - buitenlamp', 21.99], ['Zaaigoed', 34.99], ['Regenton voordeelset | Harcostar 227liter grijs + Harcostar standaard + Harcostar vulautomaat 70/80mm', 96.95], ['Stek Je Plant', 27.95], ['ProGarden - Druppelslang - Zweetslang - Tuinieren - Druppelsystemen - Druppelaar - Bewatering - Bewateringssysteem - Druppelsysteem - Irrigatie set - Planten druppelaars - Druppelaars - Watergeefsysteem - Tuin, Gras, Planten - 15 Meter', 13.0], ['Happy Goods - lichtsnoer op solar zonne-energie - 200 LED - 20m - Tuin - Buiten Tuinverlichting - Terras - solar - sfeerverlichting - tuinieren cadeau - Buitenverlichting - Padverlichting - buitenlamp - Tuindecoratie', 13.99], ['Lichtsnoer - Happy Goods - Solar tuinverlichting - 20 Led zonne-energie - crystal lampjes -Tuin - Buiten Tuinverlichting - Terras - solar - sfeerverlichting - tuinieren cadeau - Buitenverlichting - Padverlichting - buitenlamp', 20.99], ['Krukje - Relaxdays kniebank - tuinkruk - werkbankje - kniesteun tuinieren - kniekussen - tot 150 kg', 34.95], ['Tuinieren met Monty Don', 39.99], ['Pluktuin', 17.5], ['Vanderfields Professionele Gehoorbeschermer voor Volwassenen - Gehoorbescherming Oorkappen voor Klussen Tuinieren Schietsport - 2 Jaar Garantie ( Groen )', 19.99], ['Planten combineren', 30.99], ['Achter glas', 23.0], ['Gardnr® Classic Tuinscharen set - Inclusief polsbanden - Set van 2 - Snoeischaar + Bloemenschaar van Carbonstaal - Voor Hobby en Tuinieren - Grijs/blauw', 24.95], ['Handboek ecologisch tuinieren', 43.0], ['Voedselbos', 29.95], ['De moestuinkalender', 9.99], ['Een jaar in de tuin', 30.95], ['De moestuin', 25.0], [\"Marieke's pluktuin\", 29.99], ['Voor Dummies  -   Basisboek Tuinieren voor Dummies', 32.99], ['In de moestuin', 40.0], ['Lichtsnoer - Happy Goods - Solar tuinverlichting - 50 Led 7 meter  zonne-energie - crystal lampjes -Tuin - Buiten Tuinverlichting - Terras - solar - sfeerverlichting - tuinieren cadeau - Buitenverlichting - Padverlichting - buitenlamp', 16.99], ['Liefde voor kippen', 27.99], ['Lichtsnoer - Happy Goods - 100 LED - 14 Meter - zonne-energie - crystal lampjes - Tuin - Buiten Tuinverlichting - Terras - solar - sfeerverlichting - tuinieren cadeau - Buitenverlichting - Padverlichting - buitenlamp', 21.99], ['Zaaigoed', 34.99], ['Regenton voordeelset | Harcostar 227liter grijs + Harcostar standaard + Harcostar vulautomaat 70/80mm', 96.95], ['Stek Je Plant', 27.95], ['ProGarden - Druppelslang - Zweetslang - Tuinieren - Druppelsystemen - Druppelaar - Bewatering - Bewateringssysteem - Druppelsysteem - Irrigatie set - Planten druppelaars - Druppelaars - Watergeefsysteem - Tuin, Gras, Planten - 15 Meter', 13.0], ['Happy Goods - lichtsnoer op solar zonne-energie - 200 LED - 20m - Tuin - Buiten Tuinverlichting - Terras - solar - sfeerverlichting - tuinieren cadeau - Buitenverlichting - Padverlichting - buitenlamp - Tuindecoratie', 13.99], ['Lichtsnoer - Happy Goods - Solar tuinverlichting - 20 Led zonne-energie - crystal lampjes -Tuin - Buiten Tuinverlichting - Terras - solar - sfeerverlichting - tuinieren cadeau - Buitenverlichting - Padverlichting - buitenlamp', 20.99], ['Krukje - Relaxdays kniebank - tuinkruk - werkbankje - kniesteun tuinieren - kniekussen - tot 150 kg', 34.95], ['Tuinieren met Monty Don', 39.99], ['Pluktuin', 17.5], ['Vanderfields Professionele Gehoorbeschermer voor Volwassenen - Gehoorbescherming Oorkappen voor Klussen Tuinieren Schietsport - 2 Jaar Garantie ( Groen )', 19.99], ['Planten combineren', 30.99], ['Achter glas', 23.0], ['Gardnr® Classic Tuinscharen set - Inclusief polsbanden - Set van 2 - Snoeischaar + Bloemenschaar van Carbonstaal - Voor Hobby en Tuinieren - Grijs/blauw', 24.95], ['Handboek ecologisch tuinieren', 43.0], ['Voedselbos', 29.95], ['De moestuinkalender', 9.99], ['Een jaar in de tuin', 30.95], ['De moestuin', 25.0], [\"Marieke's pluktuin\", 29.99], ['Voor Dummies  -   Basisboek Tuinieren voor Dummies', 32.99], ['In de moestuin', 40.0], ['Happy Goods - Solar tuinverlichting - 50 Led 7 meter  zonne-energie - crystal lampjes -Tuin - Buiten Tuinverlichting - Terras - solar - sfeerverlichting - tuinieren cadeau - Buitenverlichting - Padverlichting - buitenlamp', 16.99], ['Liefde voor kippen', 27.99], ['Happy Goods - 100 LED - 14 Meter - zonne-energie - crystal lampjes - Tuin - Buiten Tuinverlichting - Terras - solar - sfeerverlichting - tuinieren cadeau - Buitenverlichting - Padverlichting - buitenlamp', 21.99], ['Zaaigoed', 34.99], ['Regenton voordeelset | Harcostar 227liter grijs + Harcostar standaard + Harcostar vulautomaat 70/80mm', 96.95], ['Stek Je Plant', 27.95], ['ProGarden - Druppelslang - Zweetslang - Tuinieren - Druppelsystemen - Druppelaar - Bewatering - Bewateringssysteem - Druppelsysteem - Irrigatie set - Planten druppelaars - Druppelaars - Watergeefsysteem - Tuin, Gras, Planten - 15 Meter', 13.0], ['Happy Goods - lichtsnoer op solar zonne-energie - 200 LED - 20m - Tuin - Buiten Tuinverlichting - Terras - solar - sfeerverlichting - tuinieren cadeau - Buitenverlichting - Padverlichting - buitenlamp - Tuindecoratie', 13.99], ['Lichtsnoer - Happy Goods - Solar tuinverlichting - 20 Led zonne-energie - crystal lampjes -Tuin - Buiten Tuinverlichting - Terras - solar - sfeerverlichting - tuinieren cadeau - Buitenverlichting - Padverlichting - buitenlamp', 20.99], ['Relaxdays kniebank - tuinkruk - werkbankje - kniesteun tuinieren - kniekussen - tot 150 kg', 34.95], ['Tuinieren met Monty Don', 39.99], ['Pluktuin', 17.5], ['Vanderfields Professionele Gehoorbeschermer voor Volwassenen - Gehoorbescherming Oorkappen voor Klussen Tuinieren Schietsport - 2 Jaar Garantie ( Groen )', 19.99], ['Planten combineren', 30.99], ['Achter glas', 23.0], ['Gardnr® Classic Tuinscharen set - Inclusief polsbanden - Set van 2 - Snoeischaar + Bloemenschaar van Carbonstaal - Voor Hobby en Tuinieren - Grijs/blauw', 24.95], ['Handboek ecologisch tuinieren', 43.0], ['Voedselbos', 29.95], ['De moestuinkalender', 9.99], ['Een jaar in de tuin', 30.95], ['De moestuin', 25.0], [\"Marieke's pluktuin\", 29.99], ['Voor Dummies  -   Basisboek Tuinieren voor Dummies', 32.99], ['In de moestuin', 40.0], ['Happy Goods - Solar tuinverlichting - 50 Led 7 meter  zonne-energie - crystal lampjes -Tuin - Buiten Tuinverlichting - Terras - solar - sfeerverlichting - tuinieren cadeau - Buitenverlichting - Padverlichting - buitenlamp', 16.99], ['Liefde voor kippen', 27.99], ['Happy Goods - 100 LED - 14 Meter - zonne-energie - crystal lampjes - Tuin - Buiten Tuinverlichting - Terras - solar - sfeerverlichting - tuinieren cadeau - Buitenverlichting - Padverlichting - buitenlamp', 21.99], ['Zaaigoed', 34.99], ['ProGarden - Druppelslang - Zweetslang - Tuinieren - Druppelsystemen - Druppelaar - Bewatering - Bewateringssysteem - Druppelsysteem - Irrigatie set - Planten druppelaars - Druppelaars - Watergeefsysteem - Tuin, Gras, Planten - 15 Meter', 13.0], ['Stek Je Plant', 27.95], ['Happy Goods - lichtsnoer op solar zonne-energie - 200 LED - 20m - Tuin - Buiten Tuinverlichting - Terras - solar - sfeerverlichting - tuinieren cadeau - Buitenverlichting - Padverlichting - buitenlamp - Tuindecoratie', 13.99], ['Lichtsnoer - Happy Goods - Solar tuinverlichting - 20 Led zonne-energie - crystal lampjes -Tuin - Buiten Tuinverlichting - Terras - solar - sfeerverlichting - tuinieren cadeau - Buitenverlichting - Padverlichting - buitenlamp', 20.99], ['Relaxdays kniebank - tuinkruk - werkbankje - kniesteun tuinieren - kniekussen - tot 150 kg', 34.95], ['Tuinieren met Monty Don', 39.99], ['Vanderfields Professionele Gehoorbeschermer voor Volwassenen - Gehoorbescherming Oorkappen voor Klussen Tuinieren Schietsport - 2 Jaar Garantie ( Groen )', 19.99], ['Pluktuin', 17.5], ['Gardnr® Classic Tuinscharen set - Inclusief polsbanden - Set van 2 - Snoeischaar + Bloemenschaar van Carbonstaal - Voor Hobby en Tuinieren - Grijs/blauw', 24.95], ['Handboek ecologisch tuinieren', 43.0], ['Planten combineren', 30.99], ['Achter glas', 23.0], ['Voedselbos', 29.95], ['Mintgroene kunststof bloemen/planten gieters met broeskop/sproeikop 2 liter - Tuinieren - Gieters voor buiten', 12.09], ['De moestuinkalender', 9.99], ['Een jaar in de tuin', 30.95], ['De moestuin', 25.0], [\"Marieke's pluktuin\", 29.99], ['Voor Dummies  -   Basisboek Tuinieren voor Dummies', 32.99], ['In de moestuin', 40.0], ['Happy Goods - Solar tuinverlichting - 50 Led 7 meter  zonne-energie - crystal lampjes -Tuin - Buiten Tuinverlichting - Terras - solar - sfeerverlichting - tuinieren cadeau - Buitenverlichting - Padverlichting - buitenlamp', 16.99], ['Liefde voor kippen', 27.99], ['Happy Goods - 100 LED - 14 Meter - zonne-energie - crystal lampjes - Tuin - Buiten Tuinverlichting - Terras - solar - sfeerverlichting - tuinieren cadeau - Buitenverlichting - Padverlichting - buitenlamp', 21.99], ['Zaaigoed', 34.99], ['Regenton voordeelset | Harcostar 227liter grijs + Harcostar standaard + Harcostar vulautomaat 70/80mm', 96.95], ['Stek Je Plant', 27.95], ['ProGarden - Druppelslang - Zweetslang - Tuinieren - Druppelsystemen - Druppelaar - Bewatering - Bewateringssysteem - Druppelsysteem - Irrigatie set - Planten druppelaars - Druppelaars - Watergeefsysteem - Tuin, Gras, Planten - 15 Meter', 13.0], ['Happy Goods - lichtsnoer op solar zonne-energie - 200 LED - 20m - Tuin - Buiten Tuinverlichting - Terras - solar - sfeerverlichting - tuinieren cadeau - Buitenverlichting - Padverlichting - buitenlamp - Tuindecoratie', 13.99], ['Lichtsnoer - Happy Goods - Solar tuinverlichting - 20 Led zonne-energie - crystal lampjes -Tuin - Buiten Tuinverlichting - Terras - solar - sfeerverlichting - tuinieren cadeau - Buitenverlichting - Padverlichting - buitenlamp', 20.99], ['Relaxdays kniebank - tuinkruk - werkbankje - kniesteun tuinieren - kniekussen - tot 150 kg', 34.95], ['Tuinieren met Monty Don', 39.99], ['Pluktuin', 17.5], ['Vanderfields Professionele Gehoorbeschermer voor Volwassenen - Gehoorbescherming Oorkappen voor Klussen Tuinieren Schietsport - 2 Jaar Garantie ( Groen )', 19.99], ['Planten combineren', 30.99], ['Achter glas', 23.0], ['Gardnr® Classic Tuinscharen set - Inclusief polsbanden - Set van 2 - Snoeischaar + Bloemenschaar van Carbonstaal - Voor Hobby en Tuinieren - Grijs/blauw', 24.95], ['Handboek ecologisch tuinieren', 43.0], ['Voedselbos', 29.95], ['De moestuinkalender', 9.99], ['Een jaar in de tuin', 30.95], ['De moestuin', 25.0], [\"Marieke's pluktuin\", 29.99], ['Voor Dummies  -   Basisboek Tuinieren voor Dummies', 32.99], ['In de moestuin', 40.0], ['Lichtsnoer - Happy Goods - Solar tuinverlichting - 50 Led 7 meter  zonne-energie - crystal lampjes -Tuin - Buiten Tuinverlichting - Terras - solar - sfeerverlichting - tuinieren cadeau - Buitenverlichting - Padverlichting - buitenlamp', 16.99], ['Liefde voor kippen', 27.99], ['Lichtsnoer - Happy Goods - 100 LED - 14 Meter - zonne-energie - crystal lampjes - Tuin - Buiten Tuinverlichting - Terras - solar - sfeerverlichting - tuinieren cadeau - Buitenverlichting - Padverlichting - buitenlamp', 21.99], ['Zaaigoed', 34.99], ['Regenton voordeelset | Harcostar 227liter grijs + Harcostar standaard + Harcostar vulautomaat 70/80mm', 96.95], ['Stek Je Plant', 27.95], ['ProGarden - Druppelslang - Zweetslang - Tuinieren - Druppelsystemen - Druppelaar - Bewatering - Bewateringssysteem - Druppelsysteem - Irrigatie set - Planten druppelaars - Druppelaars - Watergeefsysteem - Tuin, Gras, Planten - 15 Meter', 13.0], ['Happy Goods - lichtsnoer op solar zonne-energie - 200 LED - 20m - Tuin - Buiten Tuinverlichting - Terras - solar - sfeerverlichting - tuinieren cadeau - Buitenverlichting - Padverlichting - buitenlamp - Tuindecoratie', 13.99], ['Lichtsnoer - Happy Goods - Solar tuinverlichting - 20 Led zonne-energie - crystal lampjes -Tuin - Buiten Tuinverlichting - Terras - solar - sfeerverlichting - tuinieren cadeau - Buitenverlichting - Padverlichting - buitenlamp', 20.99], ['Krukje - Relaxdays kniebank - tuinkruk - werkbankje - kniesteun tuinieren - kniekussen - tot 150 kg', 34.95], ['Tuinieren met Monty Don', 39.99], ['Pluktuin', 17.5], ['Vanderfields Professionele Gehoorbeschermer voor Volwassenen - Gehoorbescherming Oorkappen voor Klussen Tuinieren Schietsport - 2 Jaar Garantie ( Groen )', 19.99], ['Planten combineren', 30.99], ['Achter glas', 23.0], ['Gardnr® Classic Tuinscharen set - Inclusief polsbanden - Set van 2 - Snoeischaar + Bloemenschaar van Carbonstaal - Voor Hobby en Tuinieren - Grijs/blauw', 24.95], ['Handboek ecologisch tuinieren', 43.0], ['Voedselbos', 29.95], ['De moestuinkalender', 9.99], ['Een jaar in de tuin', 30.95], ['De moestuin', 25.0], [\"Marieke's pluktuin\", 29.99], ['Voor Dummies  -   Basisboek Tuinieren voor Dummies', 32.99], ['In de moestuin', 40.0]]\n"
     ]
    }
   ],
   "source": [
    "productlijst = []\n",
    "\n",
    "for item in producten_alle_paginas:\n",
    "    if item.find(class_=\"product-prices\").getText() == '\\nNiet leverbaar\\n':\n",
    "        prijs = None\n",
    "    else:\n",
    "        prijs = float(item.meta['content'])\n",
    "    product = item.find(class_=\"product-title--inline\").a.getText()\n",
    "    productlijst.append([product, prijs])\n",
    "    \n",
    "print(productlijst[:150])"
   ]
  },
  {
   "cell_type": "code",
   "execution_count": 6,
   "metadata": {},
   "outputs": [
    {
     "name": "stdout",
     "output_type": "stream",
     "text": [
      "(3576, 2)\n"
     ]
    },
    {
     "data": {
      "text/plain": [
       "count    3576.000000\n",
       "mean       28.649038\n",
       "std        15.121876\n",
       "min         9.990000\n",
       "25%        19.990000\n",
       "50%        27.950000\n",
       "75%        32.990000\n",
       "max        96.950000\n",
       "Name: prijs, dtype: float64"
      ]
     },
     "execution_count": 6,
     "metadata": {},
     "output_type": "execute_result"
    }
   ],
   "source": [
    "df = pd.DataFrame(productlijst, columns=[\"Product\", \"prijs\"])\n",
    "print(df.shape)\n",
    "df[\"prijs\"].describe()"
   ]
  }
 ],
 "metadata": {
  "interpreter": {
   "hash": "be3492a5e888973eb70359e6380d1c6652c185929b9041468104d752a9a616f9"
  },
  "kernelspec": {
   "display_name": "Python 3.10.2 64-bit",
   "language": "python",
   "name": "python3"
  },
  "language_info": {
   "codemirror_mode": {
    "name": "ipython",
    "version": 3
   },
   "file_extension": ".py",
   "mimetype": "text/x-python",
   "name": "python",
   "nbconvert_exporter": "python",
   "pygments_lexer": "ipython3",
   "version": "3.10.2"
  },
  "orig_nbformat": 4
 },
 "nbformat": 4,
 "nbformat_minor": 2
}
