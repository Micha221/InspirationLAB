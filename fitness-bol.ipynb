{
 "cells": [
  {
   "cell_type": "code",
   "execution_count": 2,
   "metadata": {},
   "outputs": [],
   "source": [
    "import pandas as pd\n",
    "import numpy as np\n",
    "import requests\n",
    "from bs4 import BeautifulSoup"
   ]
  },
  {
   "cell_type": "code",
   "execution_count": 3,
   "metadata": {},
   "outputs": [
    {
     "data": {
      "text/plain": [
       "3576"
      ]
     },
     "execution_count": 3,
     "metadata": {},
     "output_type": "execute_result"
    }
   ],
   "source": [
    "producten_alle_paginas = []\n",
    "\n",
    "for i in range(1,150):\n",
    "    response = requests.get(f\"https://www.bol.com/be/nl/s/?searchtext=fitness\")\n",
    "    content = response.content\n",
    "    parser = BeautifulSoup(content, 'html.parser')\n",
    "    body = parser.body\n",
    "    producten = body.find_all(class_=\"product-item--row js_item_root\")\n",
    "    producten_alle_paginas.extend(producten)\n",
    "    \n",
    "len(producten_alle_paginas)"
   ]
  },
  {
   "cell_type": "code",
   "execution_count": 4,
   "metadata": {},
   "outputs": [
    {
     "name": "stdout",
     "output_type": "stream",
     "text": [
      "37.9\n",
      "Stoelfiets - VirtuFit V2 Opvouwbare Bureaufiets\n"
     ]
    }
   ],
   "source": [
    "prijs = float(producten_alle_paginas[5].meta.get('content'))\n",
    "productnaam = producten_alle_paginas[5].find(class_=\"product-title--inline\").a.getText()\n",
    "print(prijs)\n",
    "print(productnaam)"
   ]
  },
  {
   "cell_type": "code",
   "execution_count": 5,
   "metadata": {},
   "outputs": [
    {
     "name": "stdout",
     "output_type": "stream",
     "text": [
      "[['WEBU 9 Delige Fitness / Sportschool Set - Barbell Squat Pad - Nekbeschermer – Weerstandsband – Resistance Band Set  - Ankle Strap', 29.95], [\"WEBU Workout Dobbelstenen | Incl. Trainingsvideo's – Fitness - Crossfit - Thuis sporten - Bodybuilding - Krachttraining - Yoga\", 24.95], ['WEBU 51 Bodyweight Workout Kaarten - Fitness – Crossfit - Thuis Sporten –  Krachttraining - Incl gratis professionele trainingsvideo’s', 10.95], ['VET belangrijk', 4.99], ['Rockerz Fitness® - Foam Roller - Foamroller - Foamrol - Fitness Roller - 33cm - Zwart', 19.95], ['Stoelfiets - VirtuFit V2 Opvouwbare Bureaufiets', 37.9], ['Stoelfiets - VirtuFit V1 Bureaufiets - Bewegingstrainer', 25.0], ['Dreaver Stoelfiets - LCD-scherm - Inclusief GRATIS antislipmat - Bureaufiets - Stoelfiets - Bewegingstrainer - Deskbike - Mini hometrainer - Pedaaltrainer', 59.99], ['Hometrainer - Fitbike Ride 5 - Incl. Trainingscomputer en tablethouder - Lage instap', 299.0], ['VirtuFit HTR 1.0 hometrainer - 8 weerstandsniveaus - Extra stevige constructie - Hartslagfunctie', 189.0], ['Tunturi Cardio Fit M35 Minibike - Stoelfiets - Bureaufiets - Magnetisch geremd', 88.99], ['Stoelfiets - VirtuFit V3 Bureaufiets - Handvaten - Met Computer', 49.9], ['Tunturi Cardio Fit B35 Hometrainer - Fitness fiets met 8 weerstandsniveaus - Voorzien van verstelbaar stuur en transportwielen', 131.4], ['Stoelfiets - VirtuFit V4 Bureaufiets - Met Computer', 45.9], ['DeskShaper - Stoelfiets Deskbike Pedaaltrainer - inklapbaar Bureaufiets - Fietstrainer met Display - Hometrainer met Weerstand', 34.95], ['Stepper - VirtuFit ST10 2-in-1 Side Stepper - Met computer en weerstandskabels', 49.9], ['Tunturi Cardio Fit D10 Under Desk bike - Bureaufiets - Kantoorfiets', 142.99], ['Luxari - X-Bike - Hometrainer - Opvouwbare hometrainer - Rugleuning - 10 verstelbare standen - Inclusief 2 weerstandsbanden - Hartslagfunctie - Fitness Fiets', 224.95], ['Deskbike | Stoelfiets | Compacte Hometrainer | Bureaufiets| Been- en armtrainer| Pedaaltrainer |Statisch Gym Fietspedaal met verstelbare weerstand', 44.95], [\"VirtuFit HTR 2.0 Ergometer hometrainer - 24 programma's - Belastbaar tot 150 KG\", 349.0], ['BluMill X-Bike - Opvouwbare Hometrainer - Fitness Fiets - Met Rugleuning - Incl. extra Weerstandsbanden', 189.0], [\"Hometrainer - FitBike Ride 2 - Incl. Tablethouder - 12 Trainingsprogramma's\", 199.0], ['Tunturi Cardio Fit M30 Stoelfiets met LCD monitor - Fietstrainer met instelbare weerstand - Bureaufiets', 69.99], ['VirtuFit Etappe 1 -  Hartslagfunctie - Met Computer - Indoor Cycle', 379.0], ['WEBU 9 Delige Fitness / Sportschool Set - Barbell Squat Pad - Nekbeschermer – Weerstandsband – Resistance Band Set  - Ankle Strap', 29.95], [\"WEBU Workout Dobbelstenen | Incl. Trainingsvideo's – Fitness - Crossfit - Thuis sporten - Bodybuilding - Krachttraining - Yoga\", 24.95], ['WEBU 51 Bodyweight Workout Kaarten - Fitness – Crossfit - Thuis Sporten –  Krachttraining - Incl gratis professionele trainingsvideo’s', 10.95], ['VET belangrijk', 4.99], ['Rockerz Fitness® - Foam Roller - Foamroller - Foamrol - Fitness Roller - 33cm - Zwart', 19.95], ['Stoelfiets - VirtuFit V2 Opvouwbare Bureaufiets', 37.9], ['Stoelfiets - VirtuFit V1 Bureaufiets - Bewegingstrainer', 25.0], ['Dreaver Stoelfiets - LCD-scherm - Inclusief GRATIS antislipmat - Bureaufiets - Stoelfiets - Bewegingstrainer - Deskbike - Mini hometrainer - Pedaaltrainer', 59.99], ['Hometrainer - Fitbike Ride 5 - Incl. Trainingscomputer en tablethouder - Lage instap', 299.0], ['VirtuFit HTR 1.0 hometrainer - 8 weerstandsniveaus - Extra stevige constructie - Hartslagfunctie', 189.0], ['Tunturi Cardio Fit M35 Minibike - Stoelfiets - Bureaufiets - Magnetisch geremd', 88.99], ['Stoelfiets - VirtuFit V3 Bureaufiets - Handvaten - Met Computer', 49.9], ['Tunturi Cardio Fit B35 Hometrainer - Fitness fiets met 8 weerstandsniveaus - Voorzien van verstelbaar stuur en transportwielen', 131.4], ['Stoelfiets - VirtuFit V4 Bureaufiets - Met Computer', 45.9], ['DeskShaper - Stoelfiets Deskbike Pedaaltrainer - inklapbaar Bureaufiets - Fietstrainer met Display - Hometrainer met Weerstand', 34.95], ['Stepper - VirtuFit ST10 2-in-1 Side Stepper - Met computer en weerstandskabels', 49.9], ['Tunturi Cardio Fit D10 Under Desk bike - Bureaufiets - Kantoorfiets', 142.99], ['Luxari - X-Bike - Hometrainer - Opvouwbare hometrainer - Rugleuning - 10 verstelbare standen - Inclusief 2 weerstandsbanden - Hartslagfunctie - Fitness Fiets', 224.95], ['Deskbike | Stoelfiets | Compacte Hometrainer | Bureaufiets| Been- en armtrainer| Pedaaltrainer |Statisch Gym Fietspedaal met verstelbare weerstand', 44.95], [\"VirtuFit HTR 2.0 Ergometer hometrainer - 24 programma's - Belastbaar tot 150 KG\", 349.0], ['BluMill X-Bike - Opvouwbare Hometrainer - Fitness Fiets - Met Rugleuning - Incl. extra Weerstandsbanden', 189.0], [\"Hometrainer - FitBike Ride 2 - Incl. Tablethouder - 12 Trainingsprogramma's\", 199.0], ['Tunturi Cardio Fit M30 Stoelfiets met LCD monitor - Fietstrainer met instelbare weerstand - Bureaufiets', 69.99], ['VirtuFit Etappe 1 -  Hartslagfunctie - Met Computer - Indoor Cycle', 379.0], ['Hometrainer - WEBU 9 Delige Fitness / Sportschool Set - Barbell Squat Pad - Nekbeschermer – Weerstandsband – Resistance Band Set  - Ankle Strap', 29.95], [\"Hometrainer - WEBU Workout Dobbelstenen | Incl. Trainingsvideo's – Fitness - Crossfit - Thuis sporten - Bodybuilding - Krachttraining - Yoga\", 24.95], ['Hometrainer - WEBU 51 Bodyweight Workout Kaarten - Fitness – Crossfit - Thuis Sporten –  Krachttraining - Incl gratis professionele trainingsvideo’s', 10.95], ['VET belangrijk', 4.99], ['Rockerz Fitness® - Foam Roller - Foamroller - Foamrol - Fitness Roller - 33cm - Zwart', 19.95], ['Stoelfiets - VirtuFit V2 Opvouwbare Bureaufiets', 37.9], ['Stoelfiets - VirtuFit V1 Bureaufiets - Bewegingstrainer', 25.0], ['Dreaver Stoelfiets - LCD-scherm - Inclusief GRATIS antislipmat - Bureaufiets - Stoelfiets - Bewegingstrainer - Deskbike - Mini hometrainer - Pedaaltrainer', 59.99], ['Hometrainer - Fitbike Ride 5 - Incl. Trainingscomputer en tablethouder - Lage instap', 299.0], ['VirtuFit HTR 1.0 hometrainer - 8 weerstandsniveaus - Extra stevige constructie - Hartslagfunctie', 189.0], ['Hometrainer - Tunturi Cardio Fit M35 Minibike - Stoelfiets - Bureaufiets - Magnetisch geremd', 88.99], ['Stoelfiets - VirtuFit V3 Bureaufiets - Handvaten - Met Computer', 49.9], ['Tunturi Cardio Fit B35 Hometrainer - Fitness fiets met 8 weerstandsniveaus - Voorzien van verstelbaar stuur en transportwielen', 131.4], ['Stoelfiets - VirtuFit V4 Bureaufiets - Met Computer', 45.9], ['DeskShaper - Stoelfiets Deskbike Pedaaltrainer - inklapbaar Bureaufiets - Fietstrainer met Display - Hometrainer met Weerstand', 34.95], ['Stepper - VirtuFit ST10 2-in-1 Side Stepper - Met computer en weerstandskabels', 49.9], ['Tunturi Cardio Fit D10 Under Desk bike - Bureaufiets - Kantoorfiets', 142.99], ['Luxari - X-Bike - Hometrainer - Opvouwbare hometrainer - Rugleuning - 10 verstelbare standen - Inclusief 2 weerstandsbanden - Hartslagfunctie - Fitness Fiets', 224.95], ['Deskbike | Stoelfiets | Compacte Hometrainer | Bureaufiets| Been- en armtrainer| Pedaaltrainer |Statisch Gym Fietspedaal met verstelbare weerstand', 44.95], [\"VirtuFit HTR 2.0 Ergometer hometrainer - 24 programma's - Belastbaar tot 150 KG\", 349.0], ['BluMill X-Bike - Opvouwbare Hometrainer - Fitness Fiets - Met Rugleuning - Incl. extra Weerstandsbanden', 189.0], [\"Hometrainer - FitBike Ride 2 - Incl. Tablethouder - 12 Trainingsprogramma's\", 199.0], ['Tunturi Cardio Fit M30 Stoelfiets met LCD monitor - Fietstrainer met instelbare weerstand - Bureaufiets', 69.99], ['VirtuFit Etappe 1 -  Hartslagfunctie - Met Computer - Indoor Cycle', 379.0], ['WEBU 9 Delige Fitness / Sportschool Set - Barbell Squat Pad - Nekbeschermer – Weerstandsband – Resistance Band Set  - Ankle Strap', 29.95], [\"WEBU Workout Dobbelstenen | Incl. Trainingsvideo's – Fitness - Crossfit - Thuis sporten - Bodybuilding - Krachttraining - Yoga\", 24.95], ['WEBU 51 Bodyweight Workout Kaarten - Fitness – Crossfit - Thuis Sporten –  Krachttraining - Incl gratis professionele trainingsvideo’s', 10.95], ['VET belangrijk', 4.99], ['Rockerz Fitness® - Foam Roller - Foamroller - Foamrol - Fitness Roller - 33cm - Zwart', 19.95], ['Stoelfiets - VirtuFit V2 Opvouwbare Bureaufiets', 37.9], ['Stoelfiets - VirtuFit V1 Bureaufiets - Bewegingstrainer', 25.0], ['Dreaver Stoelfiets - LCD-scherm - Inclusief GRATIS antislipmat - Bureaufiets - Stoelfiets - Bewegingstrainer - Deskbike - Mini hometrainer - Pedaaltrainer', 59.99], ['Hometrainer - Fitbike Ride 5 - Incl. Trainingscomputer en tablethouder - Lage instap', 299.0], ['VirtuFit HTR 1.0 hometrainer - 8 weerstandsniveaus - Extra stevige constructie - Hartslagfunctie', 189.0], ['Tunturi Cardio Fit M35 Minibike - Stoelfiets - Bureaufiets - Magnetisch geremd', 88.99], ['Stoelfiets - VirtuFit V3 Bureaufiets - Handvaten - Met Computer', 49.9], ['Tunturi Cardio Fit B35 Hometrainer - Fitness fiets met 8 weerstandsniveaus - Voorzien van verstelbaar stuur en transportwielen', 131.4], ['Stoelfiets - VirtuFit V4 Bureaufiets - Met Computer', 45.9], ['DeskShaper - Stoelfiets Deskbike Pedaaltrainer - inklapbaar Bureaufiets - Fietstrainer met Display - Hometrainer met Weerstand', 34.95], ['Stepper - VirtuFit ST10 2-in-1 Side Stepper - Met computer en weerstandskabels', 49.9], ['Tunturi Cardio Fit D10 Under Desk bike - Bureaufiets - Kantoorfiets', 142.99], ['Luxari - X-Bike - Hometrainer - Opvouwbare hometrainer - Rugleuning - 10 verstelbare standen - Inclusief 2 weerstandsbanden - Hartslagfunctie - Fitness Fiets', 224.95], ['Deskbike | Stoelfiets | Compacte Hometrainer | Bureaufiets| Been- en armtrainer| Pedaaltrainer |Statisch Gym Fietspedaal met verstelbare weerstand', 44.95], [\"VirtuFit HTR 2.0 Ergometer hometrainer - 24 programma's - Belastbaar tot 150 KG\", 349.0], ['BluMill X-Bike - Opvouwbare Hometrainer - Fitness Fiets - Met Rugleuning - Incl. extra Weerstandsbanden', 189.0], [\"Hometrainer - FitBike Ride 2 - Incl. Tablethouder - 12 Trainingsprogramma's\", 199.0], ['Tunturi Cardio Fit M30 Stoelfiets met LCD monitor - Fietstrainer met instelbare weerstand - Bureaufiets', 69.99], ['VirtuFit Etappe 1 -  Hartslagfunctie - Met Computer - Indoor Cycle', 379.0], ['Hometrainer - WEBU 9 Delige Fitness / Sportschool Set - Barbell Squat Pad - Nekbeschermer – Weerstandsband – Resistance Band Set  - Ankle Strap', 29.95], [\"Hometrainer - WEBU Workout Dobbelstenen | Incl. Trainingsvideo's – Fitness - Crossfit - Thuis sporten - Bodybuilding - Krachttraining - Yoga\", 24.95], ['Hometrainer - WEBU 51 Bodyweight Workout Kaarten - Fitness – Crossfit - Thuis Sporten –  Krachttraining - Incl gratis professionele trainingsvideo’s', 10.95], ['VET belangrijk', 4.99], ['Rockerz Fitness® - Foam Roller - Foamroller - Foamrol - Fitness Roller - 33cm - Zwart', 19.95], ['Stoelfiets - VirtuFit V2 Opvouwbare Bureaufiets', 37.9], ['Stoelfiets - VirtuFit V1 Bureaufiets - Bewegingstrainer', 25.0], ['Dreaver Stoelfiets - LCD-scherm - Inclusief GRATIS antislipmat - Bureaufiets - Stoelfiets - Bewegingstrainer - Deskbike - Mini hometrainer - Pedaaltrainer', 59.99], ['Hometrainer - Fitbike Ride 5 - Incl. Trainingscomputer en tablethouder - Lage instap', 299.0], ['VirtuFit HTR 1.0 hometrainer - 8 weerstandsniveaus - Extra stevige constructie - Hartslagfunctie', 189.0], ['Hometrainer - Tunturi Cardio Fit M35 Minibike - Stoelfiets - Bureaufiets - Magnetisch geremd', 88.99], ['Stoelfiets - VirtuFit V3 Bureaufiets - Handvaten - Met Computer', 49.9], ['Tunturi Cardio Fit B35 Hometrainer - Fitness fiets met 8 weerstandsniveaus - Voorzien van verstelbaar stuur en transportwielen', 131.4], ['Stoelfiets - VirtuFit V4 Bureaufiets - Met Computer', 45.9], ['DeskShaper - Stoelfiets Deskbike Pedaaltrainer - inklapbaar Bureaufiets - Fietstrainer met Display - Hometrainer met Weerstand', 34.95], ['Stepper - VirtuFit ST10 2-in-1 Side Stepper - Met computer en weerstandskabels', 49.9], ['Tunturi Cardio Fit D10 Under Desk bike - Bureaufiets - Kantoorfiets', 142.99], ['Luxari - X-Bike - Hometrainer - Opvouwbare hometrainer - Rugleuning - 10 verstelbare standen - Inclusief 2 weerstandsbanden - Hartslagfunctie - Fitness Fiets', 224.95], ['Deskbike | Stoelfiets | Compacte Hometrainer | Bureaufiets| Been- en armtrainer| Pedaaltrainer |Statisch Gym Fietspedaal met verstelbare weerstand', 44.95], [\"VirtuFit HTR 2.0 Ergometer hometrainer - 24 programma's - Belastbaar tot 150 KG\", 349.0], ['BluMill X-Bike - Opvouwbare Hometrainer - Fitness Fiets - Met Rugleuning - Incl. extra Weerstandsbanden', 189.0], [\"Hometrainer - FitBike Ride 2 - Incl. Tablethouder - 12 Trainingsprogramma's\", 199.0], ['Tunturi Cardio Fit M30 Stoelfiets met LCD monitor - Fietstrainer met instelbare weerstand - Bureaufiets', 69.99], ['VirtuFit Etappe 1 -  Hartslagfunctie - Met Computer - Indoor Cycle', 379.0], ['WEBU 9 Delige Fitness / Sportschool Set - Barbell Squat Pad - Nekbeschermer – Weerstandsband – Resistance Band Set  - Ankle Strap', 29.95], [\"WEBU Workout Dobbelstenen | Incl. Trainingsvideo's – Fitness - Crossfit - Thuis sporten - Bodybuilding - Krachttraining - Yoga\", 24.95], ['WEBU 51 Bodyweight Workout Kaarten - Fitness – Crossfit - Thuis Sporten –  Krachttraining - Incl gratis professionele trainingsvideo’s', 10.95], ['VET belangrijk', 4.99], ['Rockerz Fitness® - Foam Roller - Foamroller - Foamrol - Fitness Roller - 33cm - Zwart', 19.95], ['Stoelfiets - VirtuFit V2 Opvouwbare Bureaufiets', 37.9], ['Stoelfiets - VirtuFit V1 Bureaufiets - Bewegingstrainer', 25.0], ['Dreaver Stoelfiets - LCD-scherm - Inclusief GRATIS antislipmat - Bureaufiets - Stoelfiets - Bewegingstrainer - Deskbike - Mini hometrainer - Pedaaltrainer', 59.99], ['Hometrainer - Fitbike Ride 5 - Incl. Trainingscomputer en tablethouder - Lage instap', 299.0], ['VirtuFit HTR 1.0 hometrainer - 8 weerstandsniveaus - Extra stevige constructie - Hartslagfunctie', 189.0], ['Tunturi Cardio Fit M35 Minibike - Stoelfiets - Bureaufiets - Magnetisch geremd', 88.99], ['Stoelfiets - VirtuFit V3 Bureaufiets - Handvaten - Met Computer', 49.9], ['Tunturi Cardio Fit B35 Hometrainer - Fitness fiets met 8 weerstandsniveaus - Voorzien van verstelbaar stuur en transportwielen', 131.4], ['Stoelfiets - VirtuFit V4 Bureaufiets - Met Computer', 45.9], ['DeskShaper - Stoelfiets Deskbike Pedaaltrainer - inklapbaar Bureaufiets - Fietstrainer met Display - Hometrainer met Weerstand', 34.95], ['Stepper - VirtuFit ST10 2-in-1 Side Stepper - Met computer en weerstandskabels', 49.9], ['Tunturi Cardio Fit D10 Under Desk bike - Bureaufiets - Kantoorfiets', 142.99], ['Luxari - X-Bike - Hometrainer - Opvouwbare hometrainer - Rugleuning - 10 verstelbare standen - Inclusief 2 weerstandsbanden - Hartslagfunctie - Fitness Fiets', 224.95], ['Deskbike | Stoelfiets | Compacte Hometrainer | Bureaufiets| Been- en armtrainer| Pedaaltrainer |Statisch Gym Fietspedaal met verstelbare weerstand', 44.95], [\"VirtuFit HTR 2.0 Ergometer hometrainer - 24 programma's - Belastbaar tot 150 KG\", 349.0], ['BluMill X-Bike - Opvouwbare Hometrainer - Fitness Fiets - Met Rugleuning - Incl. extra Weerstandsbanden', 189.0], [\"Hometrainer - FitBike Ride 2 - Incl. Tablethouder - 12 Trainingsprogramma's\", 199.0], ['Tunturi Cardio Fit M30 Stoelfiets met LCD monitor - Fietstrainer met instelbare weerstand - Bureaufiets', 69.99], ['VirtuFit Etappe 1 -  Hartslagfunctie - Met Computer - Indoor Cycle', 379.0], ['Hometrainer - WEBU 9 Delige Fitness / Sportschool Set - Barbell Squat Pad - Nekbeschermer – Weerstandsband – Resistance Band Set  - Ankle Strap', 29.95], [\"Hometrainer - WEBU Workout Dobbelstenen | Incl. Trainingsvideo's – Fitness - Crossfit - Thuis sporten - Bodybuilding - Krachttraining - Yoga\", 24.95], ['Hometrainer - WEBU 51 Bodyweight Workout Kaarten - Fitness – Crossfit - Thuis Sporten –  Krachttraining - Incl gratis professionele trainingsvideo’s', 10.95], ['VET belangrijk', 4.99], ['Rockerz Fitness® - Foam Roller - Foamroller - Foamrol - Fitness Roller - 33cm - Zwart', 19.95], ['Stoelfiets - VirtuFit V2 Opvouwbare Bureaufiets', 37.9]]\n"
     ]
    }
   ],
   "source": [
    "productlijst = []\n",
    "\n",
    "for item in producten_alle_paginas:\n",
    "    if item.find(class_=\"product-prices\").getText() == '\\nNiet leverbaar\\n':\n",
    "        prijs = None\n",
    "    else:\n",
    "        prijs = float(item.meta['content'])\n",
    "    product = item.find(class_=\"product-title--inline\").a.getText()\n",
    "    productlijst.append([product, prijs])\n",
    "    \n",
    "print(productlijst[:150])"
   ]
  },
  {
   "cell_type": "code",
   "execution_count": 6,
   "metadata": {},
   "outputs": [
    {
     "name": "stdout",
     "output_type": "stream",
     "text": [
      "(3576, 2)\n"
     ]
    },
    {
     "data": {
      "text/plain": [
       "count    3552.000000\n",
       "mean      112.735755\n",
       "std       108.115687\n",
       "min         4.990000\n",
       "25%        33.700000\n",
       "50%        58.245000\n",
       "75%       189.000000\n",
       "max       379.000000\n",
       "Name: prijs, dtype: float64"
      ]
     },
     "execution_count": 6,
     "metadata": {},
     "output_type": "execute_result"
    }
   ],
   "source": [
    "df = pd.DataFrame(productlijst, columns=[\"Product\", \"prijs\"])\n",
    "print(df.shape)\n",
    "df[\"prijs\"].describe()"
   ]
  }
 ],
 "metadata": {
  "interpreter": {
   "hash": "be3492a5e888973eb70359e6380d1c6652c185929b9041468104d752a9a616f9"
  },
  "kernelspec": {
   "display_name": "Python 3.10.2 64-bit",
   "language": "python",
   "name": "python3"
  },
  "language_info": {
   "codemirror_mode": {
    "name": "ipython",
    "version": 3
   },
   "file_extension": ".py",
   "mimetype": "text/x-python",
   "name": "python",
   "nbconvert_exporter": "python",
   "pygments_lexer": "ipython3",
   "version": "3.10.2"
  },
  "orig_nbformat": 4
 },
 "nbformat": 4,
 "nbformat_minor": 2
}
